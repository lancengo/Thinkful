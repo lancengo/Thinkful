{
 "cells": [
  {
   "cell_type": "code",
   "execution_count": 29,
   "metadata": {},
   "outputs": [],
   "source": [
    "import numpy as np\n",
    "import pandas as pd\n",
    "from sklearn import linear_model\n",
    "import matplotlib.pyplot as plt\n",
    "from sqlalchemy import create_engine\n",
    "import statsmodels.api as sm\n",
    "from sklearn.model_selection import train_test_split, cross_val_score\n",
    "from sklearn.linear_model import LinearRegression, LassoCV, RidgeCV, ElasticNetCV\n",
    "from sklearn.metrics import mean_absolute_error\n",
    "from statsmodels.tools.eval_measures import mse, rmse\n",
    "\n",
    "import warnings\n",
    "warnings.filterwarnings('ignore')\n",
    "\n",
    "postgres_user = 'dsbc_student'\n",
    "postgres_pw = '7*.8G9QH21'\n",
    "postgres_host = '142.93.121.174'\n",
    "postgres_port = '5432'\n",
    "postgres_db = 'houseprices'\n",
    "\n",
    "engine = create_engine('postgresql://{}:{}@{}:{}/{}'.format(\n",
    "    postgres_user, postgres_pw, postgres_host, postgres_port, postgres_db))\n",
    "df = pd.read_sql_query('select * from houseprices',con=engine)\n",
    "\n",
    "engine.dispose()"
   ]
  },
  {
   "cell_type": "code",
   "execution_count": 2,
   "metadata": {},
   "outputs": [
    {
     "data": {
      "text/plain": [
       "saleprice        1.000000\n",
       "overallqual      0.790982\n",
       "grlivarea        0.708624\n",
       "garagecars       0.640409\n",
       "garagearea       0.623431\n",
       "totalbsmtsf      0.613581\n",
       "firstflrsf       0.605852\n",
       "fullbath         0.560664\n",
       "totrmsabvgrd     0.533723\n",
       "yearbuilt        0.522897\n",
       "yearremodadd     0.507101\n",
       "garageyrblt      0.486362\n",
       "masvnrarea       0.477493\n",
       "fireplaces       0.466929\n",
       "bsmtfinsf1       0.386420\n",
       "lotfrontage      0.351799\n",
       "wooddecksf       0.324413\n",
       "secondflrsf      0.319334\n",
       "openporchsf      0.315856\n",
       "halfbath         0.284108\n",
       "lotarea          0.263843\n",
       "bsmtfullbath     0.227122\n",
       "bsmtunfsf        0.214479\n",
       "bedroomabvgr     0.168213\n",
       "kitchenabvgr     0.135907\n",
       "enclosedporch    0.128578\n",
       "screenporch      0.111447\n",
       "poolarea         0.092404\n",
       "mssubclass       0.084284\n",
       "overallcond      0.077856\n",
       "mosold           0.046432\n",
       "threessnporch    0.044584\n",
       "yrsold           0.028923\n",
       "lowqualfinsf     0.025606\n",
       "miscval          0.021190\n",
       "bsmthalfbath     0.016844\n",
       "bsmtfinsf2       0.011378\n",
       "Name: saleprice, dtype: float64"
      ]
     },
     "execution_count": 2,
     "metadata": {},
     "output_type": "execute_result"
    }
   ],
   "source": [
    "numeric_columns = df.select_dtypes(['int64', 'float64']).columns\n",
    "np.abs(df[numeric_columns].iloc[:,1:].corr().loc[:,\"saleprice\"]).sort_values(ascending=False)\n"
   ]
  },
  {
   "cell_type": "code",
   "execution_count": 3,
   "metadata": {},
   "outputs": [],
   "source": [
    "df.housestyle = df.housestyle.apply(str.strip)\n",
    "\n",
    "for i in range (0, len(df.housestyle)):\n",
    "        if df.housestyle[i] == '1.5Fin':\n",
    "            df.housestyle[i] = 0\n",
    "        elif df.housestyle[i] == '1.5Unf':\n",
    "            df.housestyle[i] = 1\n",
    "        elif df.housestyle[i] == '1Story':\n",
    "            df.housestyle[i] = 2\n",
    "        elif df.housestyle[i] == '2.5Fin':\n",
    "            df.housestyle[i] = 3\n",
    "        elif df.housestyle[i] == '2.5Unf':\n",
    "            df.housestyle[i] = 4\n",
    "        elif df.housestyle[i] == '2Story':\n",
    "            df.housestyle[i] = 5\n",
    "        elif df.housestyle[i] == 'SFoyer':\n",
    "            df.housestyle[i] = 6\n",
    "        elif df.housestyle[i] == 'SLv1':\n",
    "            df.housestyle[i] = 7\n",
    "        else:\n",
    "            df.housestyle[i] = 8"
   ]
  },
  {
   "cell_type": "code",
   "execution_count": 4,
   "metadata": {},
   "outputs": [],
   "source": [
    "df[\"is_street_paved\"] = pd.get_dummies(df.street, drop_first=True)\n",
    "\n",
    "df.extercond = df.extercond.apply(str.strip)\n",
    "np.unique(df.extercond)\n",
    "\n",
    "for i in range (0, len(df.extercond)):\n",
    "    if df.extercond[i] == 'Ex':\n",
    "        df.extercond[i] = 0\n",
    "    elif df.extercond[i] == 'Fa':\n",
    "        df.extercond[i] = 1\n",
    "    elif df.extercond[i] == 'Gd':\n",
    "        df.extercond[i] = 2\n",
    "    elif df.extercond[i] == 'Po':\n",
    "        df.extercond[i] = 3\n",
    "    else:\n",
    "        df.extercond[i] = 4\n"
   ]
  },
  {
   "cell_type": "code",
   "execution_count": 5,
   "metadata": {},
   "outputs": [],
   "source": [
    "df.foundation = df.foundation.apply(str.strip)\n",
    "np.unique(df.foundation)\n",
    "\n",
    "for i in range (0, len(df.foundation)):\n",
    "    if df.foundation[i] == 'BrkTil':\n",
    "        df.foundation[i] = 0\n",
    "    elif df.foundation[i] == 'CBlock':\n",
    "        df.foundation[i] = 1\n",
    "    elif df.foundation[i] == 'PConc':\n",
    "        df.foundation[i] = 2\n",
    "    elif df.foundation[i] == 'Slab':\n",
    "        df.foundation[i] = 3\n",
    "    elif df.foundation[i] == 'Stone':\n",
    "        df.foundation[i] = 4\n",
    "    else:\n",
    "        df.foundation[i] = 5"
   ]
  },
  {
   "cell_type": "code",
   "execution_count": 6,
   "metadata": {},
   "outputs": [],
   "source": [
    "df.functional = df.functional.apply(str.strip)\n",
    "np.unique(df.functional)\n",
    "\n",
    "for i in range (0, len(df.functional)):\n",
    "    if df.functional[i] == 'Typ':\n",
    "        df.functional[i] = 0\n",
    "    elif df.functional[i] == 'Min1':\n",
    "        df.functional[i] = 1\n",
    "    elif df.functional[i] == 'Min2':\n",
    "        df.functional[i] = 2\n",
    "    elif df.functional[i] == 'Mod':\n",
    "        df.functional[i] = 3\n",
    "    elif df.functional[i] == 'Maj1':\n",
    "        df.functional[i] = 4\n",
    "    elif df.functional[i] == 'Maj2':\n",
    "        df.functional[i] = 5\n",
    "    elif df.functional[i] == 'Sev':\n",
    "        df.functional[i] = 6\n",
    "    else:\n",
    "        df.functional[i] = 7\n",
    "        "
   ]
  },
  {
   "cell_type": "code",
   "execution_count": 8,
   "metadata": {},
   "outputs": [],
   "source": [
    "X = df[['housestyle', 'is_street_paved', 'overallqual', 'grlivarea', 'garagecars', 'garagearea', 'totalbsmtsf']]\n",
    "df.housestyle = df['housestyle'].astype(str).astype(int)\n",
    "df.extercond = df['extercond'].astype(str).astype(int)\n",
    "df.foundation = df['foundation'].astype(str).astype(int)\n",
    "df.functional = df['functional'].astype(str).astype(int)"
   ]
  },
  {
   "cell_type": "code",
   "execution_count": 9,
   "metadata": {},
   "outputs": [],
   "source": [
    "Y = df.saleprice"
   ]
  },
  {
   "cell_type": "code",
   "execution_count": 10,
   "metadata": {},
   "outputs": [
    {
     "data": {
      "text/html": [
       "<table class=\"simpletable\">\n",
       "<caption>OLS Regression Results</caption>\n",
       "<tr>\n",
       "  <th>Dep. Variable:</th>        <td>saleprice</td>    <th>  R-squared:         </th> <td>   0.761</td> \n",
       "</tr>\n",
       "<tr>\n",
       "  <th>Model:</th>                   <td>OLS</td>       <th>  Adj. R-squared:    </th> <td>   0.760</td> \n",
       "</tr>\n",
       "<tr>\n",
       "  <th>Method:</th>             <td>Least Squares</td>  <th>  F-statistic:       </th> <td>   661.1</td> \n",
       "</tr>\n",
       "<tr>\n",
       "  <th>Date:</th>             <td>Mon, 09 Mar 2020</td> <th>  Prob (F-statistic):</th>  <td>  0.00</td>  \n",
       "</tr>\n",
       "<tr>\n",
       "  <th>Time:</th>                 <td>18:59:19</td>     <th>  Log-Likelihood:    </th> <td> -17499.</td> \n",
       "</tr>\n",
       "<tr>\n",
       "  <th>No. Observations:</th>      <td>  1460</td>      <th>  AIC:               </th> <td>3.501e+04</td>\n",
       "</tr>\n",
       "<tr>\n",
       "  <th>Df Residuals:</th>          <td>  1452</td>      <th>  BIC:               </th> <td>3.506e+04</td>\n",
       "</tr>\n",
       "<tr>\n",
       "  <th>Df Model:</th>              <td>     7</td>      <th>                     </th>     <td> </td>    \n",
       "</tr>\n",
       "<tr>\n",
       "  <th>Covariance Type:</th>      <td>nonrobust</td>    <th>                     </th>     <td> </td>    \n",
       "</tr>\n",
       "</table>\n",
       "<table class=\"simpletable\">\n",
       "<tr>\n",
       "         <td></td>            <th>coef</th>     <th>std err</th>      <th>t</th>      <th>P>|t|</th>  <th>[0.025</th>    <th>0.975]</th>  \n",
       "</tr>\n",
       "<tr>\n",
       "  <th>const</th>           <td>-1.086e+05</td> <td> 1.63e+04</td> <td>   -6.647</td> <td> 0.000</td> <td>-1.41e+05</td> <td>-7.66e+04</td>\n",
       "</tr>\n",
       "<tr>\n",
       "  <th>housestyle</th>      <td>  147.7373</td> <td>  562.471</td> <td>    0.263</td> <td> 0.793</td> <td> -955.605</td> <td> 1251.079</td>\n",
       "</tr>\n",
       "<tr>\n",
       "  <th>is_street_paved</th> <td> 9618.8357</td> <td>  1.6e+04</td> <td>    0.600</td> <td> 0.549</td> <td>-2.18e+04</td> <td> 4.11e+04</td>\n",
       "</tr>\n",
       "<tr>\n",
       "  <th>overallqual</th>     <td> 2.354e+04</td> <td> 1088.980</td> <td>   21.621</td> <td> 0.000</td> <td> 2.14e+04</td> <td> 2.57e+04</td>\n",
       "</tr>\n",
       "<tr>\n",
       "  <th>grlivarea</th>       <td>   45.1535</td> <td>    2.550</td> <td>   17.706</td> <td> 0.000</td> <td>   40.151</td> <td>   50.156</td>\n",
       "</tr>\n",
       "<tr>\n",
       "  <th>garagecars</th>      <td> 1.447e+04</td> <td> 3028.634</td> <td>    4.778</td> <td> 0.000</td> <td> 8529.314</td> <td> 2.04e+04</td>\n",
       "</tr>\n",
       "<tr>\n",
       "  <th>garagearea</th>      <td>   17.5354</td> <td>   10.503</td> <td>    1.670</td> <td> 0.095</td> <td>   -3.067</td> <td>   38.137</td>\n",
       "</tr>\n",
       "<tr>\n",
       "  <th>totalbsmtsf</th>     <td>   31.8095</td> <td>    3.111</td> <td>   10.225</td> <td> 0.000</td> <td>   25.707</td> <td>   37.912</td>\n",
       "</tr>\n",
       "</table>\n",
       "<table class=\"simpletable\">\n",
       "<tr>\n",
       "  <th>Omnibus:</th>       <td>440.091</td> <th>  Durbin-Watson:     </th> <td>   1.972</td> \n",
       "</tr>\n",
       "<tr>\n",
       "  <th>Prob(Omnibus):</th> <td> 0.000</td>  <th>  Jarque-Bera (JB):  </th> <td>41191.406</td>\n",
       "</tr>\n",
       "<tr>\n",
       "  <th>Skew:</th>          <td>-0.345</td>  <th>  Prob(JB):          </th> <td>    0.00</td> \n",
       "</tr>\n",
       "<tr>\n",
       "  <th>Kurtosis:</th>      <td>29.012</td>  <th>  Cond. No.          </th> <td>4.45e+04</td> \n",
       "</tr>\n",
       "</table><br/><br/>Warnings:<br/>[1] Standard Errors assume that the covariance matrix of the errors is correctly specified.<br/>[2] The condition number is large, 4.45e+04. This might indicate that there are<br/>strong multicollinearity or other numerical problems."
      ],
      "text/plain": [
       "<class 'statsmodels.iolib.summary.Summary'>\n",
       "\"\"\"\n",
       "                            OLS Regression Results                            \n",
       "==============================================================================\n",
       "Dep. Variable:              saleprice   R-squared:                       0.761\n",
       "Model:                            OLS   Adj. R-squared:                  0.760\n",
       "Method:                 Least Squares   F-statistic:                     661.1\n",
       "Date:                Mon, 09 Mar 2020   Prob (F-statistic):               0.00\n",
       "Time:                        18:59:19   Log-Likelihood:                -17499.\n",
       "No. Observations:                1460   AIC:                         3.501e+04\n",
       "Df Residuals:                    1452   BIC:                         3.506e+04\n",
       "Df Model:                           7                                         \n",
       "Covariance Type:            nonrobust                                         \n",
       "===================================================================================\n",
       "                      coef    std err          t      P>|t|      [0.025      0.975]\n",
       "-----------------------------------------------------------------------------------\n",
       "const           -1.086e+05   1.63e+04     -6.647      0.000   -1.41e+05   -7.66e+04\n",
       "housestyle        147.7373    562.471      0.263      0.793    -955.605    1251.079\n",
       "is_street_paved  9618.8357    1.6e+04      0.600      0.549   -2.18e+04    4.11e+04\n",
       "overallqual      2.354e+04   1088.980     21.621      0.000    2.14e+04    2.57e+04\n",
       "grlivarea          45.1535      2.550     17.706      0.000      40.151      50.156\n",
       "garagecars       1.447e+04   3028.634      4.778      0.000    8529.314    2.04e+04\n",
       "garagearea         17.5354     10.503      1.670      0.095      -3.067      38.137\n",
       "totalbsmtsf        31.8095      3.111     10.225      0.000      25.707      37.912\n",
       "==============================================================================\n",
       "Omnibus:                      440.091   Durbin-Watson:                   1.972\n",
       "Prob(Omnibus):                  0.000   Jarque-Bera (JB):            41191.406\n",
       "Skew:                          -0.345   Prob(JB):                         0.00\n",
       "Kurtosis:                      29.012   Cond. No.                     4.45e+04\n",
       "==============================================================================\n",
       "\n",
       "Warnings:\n",
       "[1] Standard Errors assume that the covariance matrix of the errors is correctly specified.\n",
       "[2] The condition number is large, 4.45e+04. This might indicate that there are\n",
       "strong multicollinearity or other numerical problems.\n",
       "\"\"\""
      ]
     },
     "execution_count": 10,
     "metadata": {},
     "output_type": "execute_result"
    }
   ],
   "source": [
    "X = sm.add_constant(X)\n",
    "results = sm.OLS(Y, X).fit()\n",
    "\n",
    "results.summary()"
   ]
  },
  {
   "cell_type": "code",
   "execution_count": 26,
   "metadata": {},
   "outputs": [],
   "source": [
    "alphas = [np.power(10.0,p) for p in np.arange(-10,40,1)]\n",
    "X_train,X_test, y_train, y_test = train_test_split(X, Y, test_size=0.2)"
   ]
  },
  {
   "cell_type": "code",
   "execution_count": 33,
   "metadata": {},
   "outputs": [
    {
     "name": "stdout",
     "output_type": "stream",
     "text": [
      "Best alpha value is: 10.0\n",
      "R-squared of the model in training set is: 0.7525084701311258\n",
      "-----Test set statistics-----\n",
      "R-squared of the model in test set is: 0.796058957443962\n",
      "Mean absolute error of the prediction is: 23496.409442561446\n",
      "Mean squared error of the prediction is: 1225365770.2194555\n",
      "Root mean squared error of the prediction is: 35005.22489885554\n",
      "Mean absolute percentage error of the prediction is: 15.231976675222144\n"
     ]
    }
   ],
   "source": [
    "# ridge regression\n",
    "ridge_cv = RidgeCV(alphas)\n",
    "ridge_cv.fit(X_train, y_train)\n",
    "y_preds_train = ridge_cv.predict(X_train)\n",
    "y_preds_test = ridge_cv.predict(X_test)\n",
    "\n",
    "print(\"Best alpha value is: {}\".format(ridge_cv.alpha_))\n",
    "print(\"R-squared of the model in training set is: {}\".format(ridge_cv.score(X_train, y_train)))\n",
    "print(\"-----Test set statistics-----\")\n",
    "print(\"R-squared of the model in test set is: {}\".format(ridge_cv.score(X_test, y_test)))\n",
    "print(\"Mean absolute error of the prediction is: {}\".format(mean_absolute_error(y_test, y_preds_test)))\n",
    "print(\"Mean squared error of the prediction is: {}\".format(mse(y_test, y_preds_test)))\n",
    "print(\"Root mean squared error of the prediction is: {}\".format(rmse(y_test, y_preds_test)))\n",
    "print(\"Mean absolute percentage error of the prediction is: {}\".format(np.mean(np.abs((y_test - y_preds_test) / y_test)) * 100))"
   ]
  },
  {
   "cell_type": "code",
   "execution_count": 37,
   "metadata": {},
   "outputs": [
    {
     "name": "stdout",
     "output_type": "stream",
     "text": [
      "Best alpha value is: 100.0\n",
      "R-squared of the model in training set is: 0.7524861465154333\n",
      "-----Test set statistics-----\n",
      "R-squared of the model in test set is: 0.7958597833952105\n",
      "Mean absolute error of the prediction is: 23536.567962318015\n",
      "Mean squared error of the prediction is: 1226562493.8342667\n",
      "Root mean squared error of the prediction is: 35022.31422727896\n",
      "Mean absolute percentage error of the prediction is: 15.271121021202239\n"
     ]
    }
   ],
   "source": [
    "# lasso regression\n",
    "lasso_cv = LassoCV(alphas = alphas, cv=5)\n",
    "lasso_cv.fit(X_train, y_train)\n",
    "y_preds_train = lasso_cv.predict(X_train)\n",
    "y_preds_test = lasso_cv.predict(X_test)\n",
    "\n",
    "print(\"Best alpha value is: {}\".format(lasso_cv.alpha_))\n",
    "print(\"R-squared of the model in training set is: {}\".format(lasso_cv.score(X_train, y_train)))\n",
    "print(\"-----Test set statistics-----\")\n",
    "print(\"R-squared of the model in test set is: {}\".format(lasso_cv.score(X_test, y_test)))\n",
    "print(\"Mean absolute error of the prediction is: {}\".format(mean_absolute_error(y_test, y_preds_test)))\n",
    "print(\"Mean squared error of the prediction is: {}\".format(mse(y_test, y_preds_test)))\n",
    "print(\"Root mean squared error of the prediction is: {}\".format(rmse(y_test, y_preds_test)))\n",
    "print(\"Mean absolute percentage error of the prediction is: {}\".format(np.mean(np.abs((y_test - y_preds_test) / y_test)) * 100))"
   ]
  },
  {
   "cell_type": "code",
   "execution_count": 38,
   "metadata": {},
   "outputs": [
    {
     "name": "stdout",
     "output_type": "stream",
     "text": [
      "Best alpha value is: 0.1\n",
      "R-squared of the model in training set is: 0.7520101259529267\n",
      "-----Test set statistics-----\n",
      "R-squared of the model in test set is: 0.7970846754665581\n",
      "Mean absolute error of the prediction is: 23267.262375233837\n",
      "Mean squared error of the prediction is: 1219202813.8128695\n",
      "Root mean squared error of the prediction is: 34917.084841276046\n",
      "Mean absolute percentage error of the prediction is: 15.00410507942702\n"
     ]
    }
   ],
   "source": [
    "# elastic net regression\n",
    "elasticnet_cv = ElasticNetCV(alphas=alphas, cv=5)\n",
    "\n",
    "elasticnet_cv.fit(X_train, y_train)\n",
    "\n",
    "y_preds_train = elasticnet_cv.predict(X_train)\n",
    "y_preds_test = elasticnet_cv.predict(X_test)\n",
    "\n",
    "print(\"Best alpha value is: {}\".format(elasticnet_cv.alpha_))\n",
    "print(\"R-squared of the model in training set is: {}\".format(elasticnet_cv.score(X_train, y_train)))\n",
    "print(\"-----Test set statistics-----\")\n",
    "print(\"R-squared of the model in test set is: {}\".format(elasticnet_cv.score(X_test, y_test)))\n",
    "print(\"Mean absolute error of the prediction is: {}\".format(mean_absolute_error(y_test, y_preds_test)))\n",
    "print(\"Mean squared error of the prediction is: {}\".format(mse(y_test, y_preds_test)))\n",
    "print(\"Root mean squared error of the prediction is: {}\".format(rmse(y_test, y_preds_test)))\n",
    "print(\"Mean absolute percentage error of the prediction is: {}\".format(np.mean(np.abs((y_test - y_preds_test) / y_test)) * 100))"
   ]
  },
  {
   "cell_type": "code",
   "execution_count": 40,
   "metadata": {},
   "outputs": [
    {
     "name": "stdout",
     "output_type": "stream",
     "text": [
      "R-squared of the model in training set is: 0.7525526517388614\n",
      "-----Test set statistics-----\n",
      "R-squared of the model in test set is: 0.7957916179036378\n",
      "Mean absolute error of the prediction is: 23536.93696415532\n",
      "Mean squared error of the prediction is: 1226972061.51636\n",
      "Root mean squared error of the prediction is: 35028.160978223794\n",
      "Mean absolute percentage error of the prediction is: 15.270756637564787\n"
     ]
    }
   ],
   "source": [
    "#ols linear regression\n",
    "\n",
    "lrm=LinearRegression()\n",
    "lrm.fit(X_train, y_train)\n",
    "\n",
    "y_preds_train = lrm.predict(X_train)\n",
    "y_preds_test = lrm.predict(X_test)\n",
    "\n",
    "print(\"R-squared of the model in training set is: {}\".format(lrm.score(X_train, y_train)))\n",
    "print(\"-----Test set statistics-----\")\n",
    "print(\"R-squared of the model in test set is: {}\".format(lrm.score(X_test, y_test)))\n",
    "print(\"Mean absolute error of the prediction is: {}\".format(mean_absolute_error(y_test, y_preds_test)))\n",
    "print(\"Mean squared error of the prediction is: {}\".format(mse(y_test, y_preds_test)))\n",
    "print(\"Root mean squared error of the prediction is: {}\".format(rmse(y_test, y_preds_test)))\n",
    "print(\"Mean absolute percentage error of the prediction is: {}\".format(np.mean(np.abs((y_test - y_preds_test) / y_test)) * 100))"
   ]
  },
  {
   "cell_type": "markdown",
   "metadata": {},
   "source": [
    "All of the models have very close scores to eachother. The model with the highest R^2 score is elastic net regression model. It also has the lowest test statistics making it the most accurate."
   ]
  }
 ],
 "metadata": {
  "kernelspec": {
   "display_name": "Python 3",
   "language": "python",
   "name": "python3"
  },
  "language_info": {
   "codemirror_mode": {
    "name": "ipython",
    "version": 3
   },
   "file_extension": ".py",
   "mimetype": "text/x-python",
   "name": "python",
   "nbconvert_exporter": "python",
   "pygments_lexer": "ipython3",
   "version": "3.7.6"
  }
 },
 "nbformat": 4,
 "nbformat_minor": 2
}

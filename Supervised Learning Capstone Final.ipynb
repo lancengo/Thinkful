{
 "cells": [
  {
   "cell_type": "markdown",
   "metadata": {
    "slideshow": {
     "slide_type": "slide"
    }
   },
   "source": [
    "# The Real Cost of Diabetes\n",
    "\n",
    "\n",
    "* Over 34 million americans have diabetes\n",
    "    * 1 in 5 young adults have pre-diabetes\n",
    "    \n",
    "* 325 billion dollars spent annually in healthcare costs for diabetes \n",
    "\n",
    "* People with diabetes spend 2.3x as much in healthcare on average"
   ]
  },
  {
   "cell_type": "markdown",
   "metadata": {
    "slideshow": {
     "slide_type": "slide"
    }
   },
   "source": [
    "# How Was the Data Collected?\n",
    "https://www.kaggle.com/brandao/diabetes\n",
    "\n",
    "* 1999-2008\n",
    "* It is an inpatient encounter (a hospital admission).\n",
    "* It is a diabetic encounter, that is, one during which any kind of diabetes was entered to the system as a diagnosis.\n",
    "* The length of stay was at least 1 day and at most 14 days.\n",
    "* Laboratory tests were performed during the encounter.\n",
    "* Medications were administered during the encounter.\n"
   ]
  },
  {
   "cell_type": "code",
   "execution_count": 3,
   "metadata": {
    "slideshow": {
     "slide_type": "skip"
    }
   },
   "outputs": [],
   "source": [
    "#importing libraries into python\n",
    "import pandas as pd\n",
    "import numpy as np\n",
    "import matplotlib.pyplot as plt\n",
    "import seaborn as sns\n",
    "import math\n",
    "from sklearn.preprocessing import StandardScaler, MinMaxScaler\n",
    "from sklearn.decomposition import PCA\n",
    "from sqlalchemy import create_engine\n",
    "import re\n",
    "import warnings\n",
    "import scipy.stats as stats\n",
    "from sklearn.model_selection import train_test_split\n",
    "from sklearn.neighbors import KNeighborsClassifier\n",
    "from sklearn.preprocessing import OneHotEncoder\n",
    "from sklearn.model_selection import cross_val_score\n",
    "from sklearn.svm import SVC\n",
    "from sklearn import ensemble\n",
    "from sklearn.ensemble import BaggingClassifier\n",
    "from sklearn.model_selection import RandomizedSearchCV\n",
    "from sklearn.model_selection import GridSearchCV\n",
    "from sklearn.tree import DecisionTreeClassifier\n",
    "import sklearn.metrics as metrics\n",
    "from sklearn.metrics import accuracy_score,auc,roc_curve,f1_score,roc_auc_score, precision_score, recall_score, classification_report, confusion_matrix\n",
    "from scipy.stats import chi2_contingency\n",
    "from sklearn.neural_network import MLPClassifier\n",
    "import warnings\n",
    "warnings.filterwarnings('ignore')"
   ]
  },
  {
   "cell_type": "code",
   "execution_count": 4,
   "metadata": {
    "slideshow": {
     "slide_type": "skip"
    }
   },
   "outputs": [],
   "source": [
    "#load dataset into python\n",
    "df = pd.read_csv('diabetic_data.csv')"
   ]
  },
  {
   "cell_type": "markdown",
   "metadata": {
    "slideshow": {
     "slide_type": "slide"
    }
   },
   "source": [
    "# Heading of Data Set"
   ]
  },
  {
   "cell_type": "code",
   "execution_count": 5,
   "metadata": {
    "slideshow": {
     "slide_type": "fragment"
    }
   },
   "outputs": [
    {
     "data": {
      "text/html": [
       "<div>\n",
       "<style scoped>\n",
       "    .dataframe tbody tr th:only-of-type {\n",
       "        vertical-align: middle;\n",
       "    }\n",
       "\n",
       "    .dataframe tbody tr th {\n",
       "        vertical-align: top;\n",
       "    }\n",
       "\n",
       "    .dataframe thead th {\n",
       "        text-align: right;\n",
       "    }\n",
       "</style>\n",
       "<table border=\"1\" class=\"dataframe\">\n",
       "  <thead>\n",
       "    <tr style=\"text-align: right;\">\n",
       "      <th></th>\n",
       "      <th>encounter_id</th>\n",
       "      <th>patient_nbr</th>\n",
       "      <th>race</th>\n",
       "      <th>gender</th>\n",
       "      <th>age</th>\n",
       "      <th>weight</th>\n",
       "      <th>admission_type_id</th>\n",
       "      <th>discharge_disposition_id</th>\n",
       "      <th>admission_source_id</th>\n",
       "      <th>time_in_hospital</th>\n",
       "      <th>...</th>\n",
       "      <th>citoglipton</th>\n",
       "      <th>insulin</th>\n",
       "      <th>glyburide-metformin</th>\n",
       "      <th>glipizide-metformin</th>\n",
       "      <th>glimepiride-pioglitazone</th>\n",
       "      <th>metformin-rosiglitazone</th>\n",
       "      <th>metformin-pioglitazone</th>\n",
       "      <th>change</th>\n",
       "      <th>diabetesMed</th>\n",
       "      <th>readmitted</th>\n",
       "    </tr>\n",
       "  </thead>\n",
       "  <tbody>\n",
       "    <tr>\n",
       "      <td>0</td>\n",
       "      <td>2278392</td>\n",
       "      <td>8222157</td>\n",
       "      <td>Caucasian</td>\n",
       "      <td>Female</td>\n",
       "      <td>[0-10)</td>\n",
       "      <td>?</td>\n",
       "      <td>6</td>\n",
       "      <td>25</td>\n",
       "      <td>1</td>\n",
       "      <td>1</td>\n",
       "      <td>...</td>\n",
       "      <td>No</td>\n",
       "      <td>No</td>\n",
       "      <td>No</td>\n",
       "      <td>No</td>\n",
       "      <td>No</td>\n",
       "      <td>No</td>\n",
       "      <td>No</td>\n",
       "      <td>No</td>\n",
       "      <td>No</td>\n",
       "      <td>NO</td>\n",
       "    </tr>\n",
       "    <tr>\n",
       "      <td>1</td>\n",
       "      <td>149190</td>\n",
       "      <td>55629189</td>\n",
       "      <td>Caucasian</td>\n",
       "      <td>Female</td>\n",
       "      <td>[10-20)</td>\n",
       "      <td>?</td>\n",
       "      <td>1</td>\n",
       "      <td>1</td>\n",
       "      <td>7</td>\n",
       "      <td>3</td>\n",
       "      <td>...</td>\n",
       "      <td>No</td>\n",
       "      <td>Up</td>\n",
       "      <td>No</td>\n",
       "      <td>No</td>\n",
       "      <td>No</td>\n",
       "      <td>No</td>\n",
       "      <td>No</td>\n",
       "      <td>Ch</td>\n",
       "      <td>Yes</td>\n",
       "      <td>&gt;30</td>\n",
       "    </tr>\n",
       "    <tr>\n",
       "      <td>2</td>\n",
       "      <td>64410</td>\n",
       "      <td>86047875</td>\n",
       "      <td>AfricanAmerican</td>\n",
       "      <td>Female</td>\n",
       "      <td>[20-30)</td>\n",
       "      <td>?</td>\n",
       "      <td>1</td>\n",
       "      <td>1</td>\n",
       "      <td>7</td>\n",
       "      <td>2</td>\n",
       "      <td>...</td>\n",
       "      <td>No</td>\n",
       "      <td>No</td>\n",
       "      <td>No</td>\n",
       "      <td>No</td>\n",
       "      <td>No</td>\n",
       "      <td>No</td>\n",
       "      <td>No</td>\n",
       "      <td>No</td>\n",
       "      <td>Yes</td>\n",
       "      <td>NO</td>\n",
       "    </tr>\n",
       "    <tr>\n",
       "      <td>3</td>\n",
       "      <td>500364</td>\n",
       "      <td>82442376</td>\n",
       "      <td>Caucasian</td>\n",
       "      <td>Male</td>\n",
       "      <td>[30-40)</td>\n",
       "      <td>?</td>\n",
       "      <td>1</td>\n",
       "      <td>1</td>\n",
       "      <td>7</td>\n",
       "      <td>2</td>\n",
       "      <td>...</td>\n",
       "      <td>No</td>\n",
       "      <td>Up</td>\n",
       "      <td>No</td>\n",
       "      <td>No</td>\n",
       "      <td>No</td>\n",
       "      <td>No</td>\n",
       "      <td>No</td>\n",
       "      <td>Ch</td>\n",
       "      <td>Yes</td>\n",
       "      <td>NO</td>\n",
       "    </tr>\n",
       "    <tr>\n",
       "      <td>4</td>\n",
       "      <td>16680</td>\n",
       "      <td>42519267</td>\n",
       "      <td>Caucasian</td>\n",
       "      <td>Male</td>\n",
       "      <td>[40-50)</td>\n",
       "      <td>?</td>\n",
       "      <td>1</td>\n",
       "      <td>1</td>\n",
       "      <td>7</td>\n",
       "      <td>1</td>\n",
       "      <td>...</td>\n",
       "      <td>No</td>\n",
       "      <td>Steady</td>\n",
       "      <td>No</td>\n",
       "      <td>No</td>\n",
       "      <td>No</td>\n",
       "      <td>No</td>\n",
       "      <td>No</td>\n",
       "      <td>Ch</td>\n",
       "      <td>Yes</td>\n",
       "      <td>NO</td>\n",
       "    </tr>\n",
       "  </tbody>\n",
       "</table>\n",
       "<p>5 rows × 50 columns</p>\n",
       "</div>"
      ],
      "text/plain": [
       "   encounter_id  patient_nbr             race  gender      age weight  \\\n",
       "0       2278392      8222157        Caucasian  Female   [0-10)      ?   \n",
       "1        149190     55629189        Caucasian  Female  [10-20)      ?   \n",
       "2         64410     86047875  AfricanAmerican  Female  [20-30)      ?   \n",
       "3        500364     82442376        Caucasian    Male  [30-40)      ?   \n",
       "4         16680     42519267        Caucasian    Male  [40-50)      ?   \n",
       "\n",
       "   admission_type_id  discharge_disposition_id  admission_source_id  \\\n",
       "0                  6                        25                    1   \n",
       "1                  1                         1                    7   \n",
       "2                  1                         1                    7   \n",
       "3                  1                         1                    7   \n",
       "4                  1                         1                    7   \n",
       "\n",
       "   time_in_hospital  ... citoglipton insulin  glyburide-metformin  \\\n",
       "0                 1  ...          No      No                   No   \n",
       "1                 3  ...          No      Up                   No   \n",
       "2                 2  ...          No      No                   No   \n",
       "3                 2  ...          No      Up                   No   \n",
       "4                 1  ...          No  Steady                   No   \n",
       "\n",
       "   glipizide-metformin  glimepiride-pioglitazone  metformin-rosiglitazone  \\\n",
       "0                   No                        No                       No   \n",
       "1                   No                        No                       No   \n",
       "2                   No                        No                       No   \n",
       "3                   No                        No                       No   \n",
       "4                   No                        No                       No   \n",
       "\n",
       "   metformin-pioglitazone  change diabetesMed readmitted  \n",
       "0                      No      No          No         NO  \n",
       "1                      No      Ch         Yes        >30  \n",
       "2                      No      No         Yes         NO  \n",
       "3                      No      Ch         Yes         NO  \n",
       "4                      No      Ch         Yes         NO  \n",
       "\n",
       "[5 rows x 50 columns]"
      ]
     },
     "execution_count": 5,
     "metadata": {},
     "output_type": "execute_result"
    }
   ],
   "source": [
    "#gives first 5 lines of data\n",
    "df.head()"
   ]
  },
  {
   "cell_type": "markdown",
   "metadata": {
    "slideshow": {
     "slide_type": "slide"
    }
   },
   "source": [
    "# Description of Features"
   ]
  },
  {
   "cell_type": "markdown",
   "metadata": {
    "slideshow": {
     "slide_type": "subslide"
    }
   },
   "source": [
    "* **Encounter ID**: Unique identifier of an encounter\n",
    "* **Patient number**: Unique identifier of a patient\n",
    "* **Race Values**: Caucasian, Asian, African American, Hispanic, and other\n",
    "* **Gender Values**: male, female, and unknown/invalid\n",
    "* **Age**: Grouped in 10-year intervals\n",
    "* **Weight**: Weight in pounds\n",
    "* **Admission type**: Integer identifier corresponding to 9 distinct values, for example, emergency, urgent, elective, newborn, and not available\n",
    "* **Discharge disposition**: Integer identifier corresponding to 29 distinct values, for example, discharged to home, expired, and not available\n",
    "* **Admission source**: Integer identifier corresponding to 21 distinct values, for example, physician referral, emergency room, and transfer from a hospital\n",
    "* **Time in hospital**: Integer number of days between admission and discharge\n",
    "* **Payer code**: Integer identifier corresponding to 23 distinct values, for example, Blue Cross/Blue Shield, Medicare, and self-pay Medical"
   ]
  },
  {
   "cell_type": "markdown",
   "metadata": {
    "slideshow": {
     "slide_type": "subslide"
    }
   },
   "source": [
    "* **Medical specialty**: Integer identifier of a specialty of the admitting physician, corresponding to 84 distinct values, for example, cardiology, internal medicine, family/general practice, and surgeon\n",
    "* **Number of lab procedures**: Number of lab tests performed during the encounter\n",
    "* **Number of procedures**: Numeric Number of procedures (other than lab tests) performed during the encounter\n",
    "* **Number of medications**: Number of distinct generic names administered during the encounter\n",
    "* **Number of outpatient visits**: Number of outpatient visits of the patient in the year preceding the encounter\n",
    "* **Number of emergency visits**: Number of emergency visits of the patient in the year preceding the encounter\n",
    "* **Number of inpatient visits**: Number of inpatient visits of the patient in the year preceding the encounter\n"
   ]
  },
  {
   "cell_type": "markdown",
   "metadata": {
    "slideshow": {
     "slide_type": "subslide"
    }
   },
   "source": [
    "* **Diagnosis 1**: The primary diagnosis (coded as first three digits of ICD9); 848 distinct values\n",
    "* **Diagnosis 2**: Secondary diagnosis (coded as first three digits of ICD9); 923 distinct values\n",
    "* **Diagnosis 3**: Additional secondary diagnosis (coded as first three digits of ICD9); 954 distinct values\n",
    "* **Number of diagnoses**: Number of diagnoses entered to the system\n",
    "* **Glucose serum test result**: Indicates the range of the result or if the test was not taken. Values: “>200,” “>300,” “normal,” and “none” if not measured\n",
    "* **A1c test result**: Indicates the range of the result or if the test was not taken. Values: “>8” if the result was greater than 8%, “>7” if the result was greater than 7% but less than 8%, “normal” if the result was less than 7%, and “none” if not measured.\n",
    "* **Change of medications**: Indicates if there was a change in diabetic medications (either dosage or generic name). Values: “change” and “no change”"
   ]
  },
  {
   "cell_type": "markdown",
   "metadata": {
    "slideshow": {
     "slide_type": "subslide"
    }
   },
   "source": [
    "* **Diabetes medications**: Indicates if there was any diabetic medication prescribed. Values: “yes” and “no”\n",
    "* **24 features for medications For the generic names**: metformin, repaglinide, nateglinide, chlorpropamide, glimepiride, acetohexamide, glipizide, glyburide, tolbutamide, pioglitazone, rosiglitazone, acarbose, miglitol, troglitazone, tolazamide, examide, sitagliptin, insulin, glyburide-metformin, glipizide-metformin, glimepiride- pioglitazone, metformin-rosiglitazone, and metformin- pioglitazone, the feature indicates whether the drug was prescribed or there was a change in the dosage. Values: “up” if the dosage was increased during the encounter, “down” if the dosage was decreased, “steady” if the dosage did not change, and “no” if the drug was not prescribed\n",
    "* **Readmitted Days to inpatient readmission**: “<30” if the patient was readmitted in less than 30 days, “>30” if the patient was readmitted in more than 30 days, and “No” for no record of readmission"
   ]
  },
  {
   "cell_type": "markdown",
   "metadata": {
    "slideshow": {
     "slide_type": "subslide"
    }
   },
   "source": [
    "# Data Types:"
   ]
  },
  {
   "cell_type": "code",
   "execution_count": 6,
   "metadata": {
    "scrolled": true,
    "slideshow": {
     "slide_type": "fragment"
    }
   },
   "outputs": [
    {
     "data": {
      "text/plain": [
       "encounter_id                 int64\n",
       "patient_nbr                  int64\n",
       "race                        object\n",
       "gender                      object\n",
       "age                         object\n",
       "weight                      object\n",
       "admission_type_id            int64\n",
       "discharge_disposition_id     int64\n",
       "admission_source_id          int64\n",
       "time_in_hospital             int64\n",
       "payer_code                  object\n",
       "medical_specialty           object\n",
       "num_lab_procedures           int64\n",
       "num_procedures               int64\n",
       "num_medications              int64\n",
       "number_outpatient            int64\n",
       "number_emergency             int64\n",
       "number_inpatient             int64\n",
       "diag_1                      object\n",
       "diag_2                      object\n",
       "diag_3                      object\n",
       "number_diagnoses             int64\n",
       "max_glu_serum               object\n",
       "A1Cresult                   object\n",
       "metformin                   object\n",
       "repaglinide                 object\n",
       "nateglinide                 object\n",
       "chlorpropamide              object\n",
       "glimepiride                 object\n",
       "acetohexamide               object\n",
       "glipizide                   object\n",
       "glyburide                   object\n",
       "tolbutamide                 object\n",
       "pioglitazone                object\n",
       "rosiglitazone               object\n",
       "acarbose                    object\n",
       "miglitol                    object\n",
       "troglitazone                object\n",
       "tolazamide                  object\n",
       "examide                     object\n",
       "citoglipton                 object\n",
       "insulin                     object\n",
       "glyburide-metformin         object\n",
       "glipizide-metformin         object\n",
       "glimepiride-pioglitazone    object\n",
       "metformin-rosiglitazone     object\n",
       "metformin-pioglitazone      object\n",
       "change                      object\n",
       "diabetesMed                 object\n",
       "readmitted                  object\n",
       "dtype: object"
      ]
     },
     "execution_count": 6,
     "metadata": {},
     "output_type": "execute_result"
    }
   ],
   "source": [
    "#gives data type of each column\n",
    "df.dtypes"
   ]
  },
  {
   "cell_type": "markdown",
   "metadata": {
    "slideshow": {
     "slide_type": "subslide"
    }
   },
   "source": [
    "# Data Null Count:"
   ]
  },
  {
   "cell_type": "code",
   "execution_count": 7,
   "metadata": {
    "scrolled": true,
    "slideshow": {
     "slide_type": "fragment"
    }
   },
   "outputs": [
    {
     "name": "stdout",
     "output_type": "stream",
     "text": [
      "<class 'pandas.core.frame.DataFrame'>\n",
      "RangeIndex: 101766 entries, 0 to 101765\n",
      "Data columns (total 50 columns):\n",
      "encounter_id                101766 non-null int64\n",
      "patient_nbr                 101766 non-null int64\n",
      "race                        101766 non-null object\n",
      "gender                      101766 non-null object\n",
      "age                         101766 non-null object\n",
      "weight                      101766 non-null object\n",
      "admission_type_id           101766 non-null int64\n",
      "discharge_disposition_id    101766 non-null int64\n",
      "admission_source_id         101766 non-null int64\n",
      "time_in_hospital            101766 non-null int64\n",
      "payer_code                  101766 non-null object\n",
      "medical_specialty           101766 non-null object\n",
      "num_lab_procedures          101766 non-null int64\n",
      "num_procedures              101766 non-null int64\n",
      "num_medications             101766 non-null int64\n",
      "number_outpatient           101766 non-null int64\n",
      "number_emergency            101766 non-null int64\n",
      "number_inpatient            101766 non-null int64\n",
      "diag_1                      101766 non-null object\n",
      "diag_2                      101766 non-null object\n",
      "diag_3                      101766 non-null object\n",
      "number_diagnoses            101766 non-null int64\n",
      "max_glu_serum               101766 non-null object\n",
      "A1Cresult                   101766 non-null object\n",
      "metformin                   101766 non-null object\n",
      "repaglinide                 101766 non-null object\n",
      "nateglinide                 101766 non-null object\n",
      "chlorpropamide              101766 non-null object\n",
      "glimepiride                 101766 non-null object\n",
      "acetohexamide               101766 non-null object\n",
      "glipizide                   101766 non-null object\n",
      "glyburide                   101766 non-null object\n",
      "tolbutamide                 101766 non-null object\n",
      "pioglitazone                101766 non-null object\n",
      "rosiglitazone               101766 non-null object\n",
      "acarbose                    101766 non-null object\n",
      "miglitol                    101766 non-null object\n",
      "troglitazone                101766 non-null object\n",
      "tolazamide                  101766 non-null object\n",
      "examide                     101766 non-null object\n",
      "citoglipton                 101766 non-null object\n",
      "insulin                     101766 non-null object\n",
      "glyburide-metformin         101766 non-null object\n",
      "glipizide-metformin         101766 non-null object\n",
      "glimepiride-pioglitazone    101766 non-null object\n",
      "metformin-rosiglitazone     101766 non-null object\n",
      "metformin-pioglitazone      101766 non-null object\n",
      "change                      101766 non-null object\n",
      "diabetesMed                 101766 non-null object\n",
      "readmitted                  101766 non-null object\n",
      "dtypes: int64(13), object(37)\n",
      "memory usage: 38.8+ MB\n"
     ]
    }
   ],
   "source": [
    "#tells how many non-null values\n",
    "df.info()"
   ]
  },
  {
   "cell_type": "markdown",
   "metadata": {
    "slideshow": {
     "slide_type": "subslide"
    }
   },
   "source": [
    "# Data Unique Value Counts:"
   ]
  },
  {
   "cell_type": "code",
   "execution_count": 8,
   "metadata": {
    "scrolled": true,
    "slideshow": {
     "slide_type": "fragment"
    }
   },
   "outputs": [
    {
     "data": {
      "text/plain": [
       "encounter_id                101766\n",
       "patient_nbr                  71518\n",
       "race                             6\n",
       "gender                           3\n",
       "age                             10\n",
       "weight                          10\n",
       "admission_type_id                8\n",
       "discharge_disposition_id        26\n",
       "admission_source_id             17\n",
       "time_in_hospital                14\n",
       "payer_code                      18\n",
       "medical_specialty               73\n",
       "num_lab_procedures             118\n",
       "num_procedures                   7\n",
       "num_medications                 75\n",
       "number_outpatient               39\n",
       "number_emergency                33\n",
       "number_inpatient                21\n",
       "diag_1                         717\n",
       "diag_2                         749\n",
       "diag_3                         790\n",
       "number_diagnoses                16\n",
       "max_glu_serum                    4\n",
       "A1Cresult                        4\n",
       "metformin                        4\n",
       "repaglinide                      4\n",
       "nateglinide                      4\n",
       "chlorpropamide                   4\n",
       "glimepiride                      4\n",
       "acetohexamide                    2\n",
       "glipizide                        4\n",
       "glyburide                        4\n",
       "tolbutamide                      2\n",
       "pioglitazone                     4\n",
       "rosiglitazone                    4\n",
       "acarbose                         4\n",
       "miglitol                         4\n",
       "troglitazone                     2\n",
       "tolazamide                       3\n",
       "examide                          1\n",
       "citoglipton                      1\n",
       "insulin                          4\n",
       "glyburide-metformin              4\n",
       "glipizide-metformin              2\n",
       "glimepiride-pioglitazone         2\n",
       "metformin-rosiglitazone          2\n",
       "metformin-pioglitazone           2\n",
       "change                           2\n",
       "diabetesMed                      2\n",
       "readmitted                       3\n",
       "dtype: int64"
      ]
     },
     "execution_count": 8,
     "metadata": {},
     "output_type": "execute_result"
    }
   ],
   "source": [
    "#gives unique value counts for each column\n",
    "df.nunique()"
   ]
  },
  {
   "cell_type": "code",
   "execution_count": 9,
   "metadata": {
    "slideshow": {
     "slide_type": "skip"
    }
   },
   "outputs": [],
   "source": [
    "#all the missing values in the data set are question marks. Replaces all ? with null values\n",
    "df.replace('?', np.nan,inplace=True)\n",
    "df.replace('Unknown/Invalid', np.nan,inplace=True)"
   ]
  },
  {
   "cell_type": "markdown",
   "metadata": {
    "slideshow": {
     "slide_type": "subslide"
    }
   },
   "source": [
    "# Percent Missing Data: "
   ]
  },
  {
   "cell_type": "code",
   "execution_count": 10,
   "metadata": {
    "scrolled": true,
    "slideshow": {
     "slide_type": "fragment"
    }
   },
   "outputs": [
    {
     "data": {
      "text/plain": [
       "encounter_id                 0.000000\n",
       "patient_nbr                  0.000000\n",
       "race                         2.233555\n",
       "gender                       0.002948\n",
       "age                          0.000000\n",
       "weight                      96.858479\n",
       "admission_type_id            0.000000\n",
       "discharge_disposition_id     0.000000\n",
       "admission_source_id          0.000000\n",
       "time_in_hospital             0.000000\n",
       "payer_code                  39.557416\n",
       "medical_specialty           49.082208\n",
       "num_lab_procedures           0.000000\n",
       "num_procedures               0.000000\n",
       "num_medications              0.000000\n",
       "number_outpatient            0.000000\n",
       "number_emergency             0.000000\n",
       "number_inpatient             0.000000\n",
       "diag_1                       0.020636\n",
       "diag_2                       0.351787\n",
       "diag_3                       1.398306\n",
       "number_diagnoses             0.000000\n",
       "max_glu_serum                0.000000\n",
       "A1Cresult                    0.000000\n",
       "metformin                    0.000000\n",
       "repaglinide                  0.000000\n",
       "nateglinide                  0.000000\n",
       "chlorpropamide               0.000000\n",
       "glimepiride                  0.000000\n",
       "acetohexamide                0.000000\n",
       "glipizide                    0.000000\n",
       "glyburide                    0.000000\n",
       "tolbutamide                  0.000000\n",
       "pioglitazone                 0.000000\n",
       "rosiglitazone                0.000000\n",
       "acarbose                     0.000000\n",
       "miglitol                     0.000000\n",
       "troglitazone                 0.000000\n",
       "tolazamide                   0.000000\n",
       "examide                      0.000000\n",
       "citoglipton                  0.000000\n",
       "insulin                      0.000000\n",
       "glyburide-metformin          0.000000\n",
       "glipizide-metformin          0.000000\n",
       "glimepiride-pioglitazone     0.000000\n",
       "metformin-rosiglitazone      0.000000\n",
       "metformin-pioglitazone       0.000000\n",
       "change                       0.000000\n",
       "diabetesMed                  0.000000\n",
       "readmitted                   0.000000\n",
       "dtype: float64"
      ]
     },
     "execution_count": 10,
     "metadata": {},
     "output_type": "execute_result"
    }
   ],
   "source": [
    "df.isnull().sum()*100/df.isnull().count()"
   ]
  },
  {
   "cell_type": "code",
   "execution_count": 11,
   "metadata": {
    "slideshow": {
     "slide_type": "skip"
    }
   },
   "outputs": [],
   "source": [
    "#dropping columns that are 'ID' \n",
    "df = df.drop(['encounter_id', 'patient_nbr','admission_type_id', 'discharge_disposition_id',\n",
    "         'admission_source_id'], axis=1)\n",
    "\n",
    "#dropping columns that have high number of missing data\n",
    "df = df.drop(['weight', 'payer_code', 'medical_specialty'], axis=1)\n",
    "\n",
    "#drop rows with null values\n",
    "df = df.dropna(axis=0)\n"
   ]
  },
  {
   "cell_type": "code",
   "execution_count": 12,
   "metadata": {
    "slideshow": {
     "slide_type": "skip"
    }
   },
   "outputs": [],
   "source": [
    "#data clean for diagnosis codes\n",
    "\n",
    "#creating diabetes primary feature\n",
    "diagnosis_col = ['diag_1', 'diag_2', 'diag_3']\n",
    "for col in diagnosis_col:\n",
    "    df[col] = df[col].str.replace('E', '')\n",
    "    df[col] = df[col].str.replace('V', '')\n",
    "    df.loc[df[col].str.contains('250'), col] = '250'\n",
    "\n",
    "#turning diagnosis columns from integer into general diagnosis\n",
    "for col in diagnosis_col:\n",
    "    df.loc[df[col] == '250', col] = 'Diabetes'\n",
    "    df.loc[((df[col] >= '390') & (df[col] <= '459')) | (df[col] == '785'), col] = 'Circulatory'\n",
    "    df.loc[((df[col] >= '460') & (df[col] <= '519')) | (df[col] == '786'), col] = 'Respiratory'\n",
    "    df.loc[((df[col] >= '520') & (df[col] <= '579')) | (df[col] == '787'), col] = 'Digestive'\n",
    "    df.loc[((df[col] >= '800') & (df[col] <= '999')), col] = 'Injury/Poison'\n",
    "    df.loc[((df[col] >= '710') & (df[col] <= '739')), col] = 'Musculoskeletal'\n",
    "    df.loc[((df[col] >= '580') & (df[col] <= '629')) | (df[col] == '788'), col] = 'Genitourinary'\n",
    "    df.loc[((df[col] >= '140') & (df[col] <= '239')), col] = 'Neoplasm'\n",
    "    df[col] = df[col].where(df[col].str.isalpha(), 'Other')"
   ]
  },
  {
   "cell_type": "code",
   "execution_count": 13,
   "metadata": {
    "slideshow": {
     "slide_type": "skip"
    }
   },
   "outputs": [],
   "source": [
    "#Will only be keeping insulin. all other medications are too skewed/dont occur enough\n",
    "medication_list = ['metformin', 'repaglinide', 'nateglinide', 'chlorpropamide', 'glimepiride', \n",
    "                   'acetohexamide', 'glipizide', 'glyburide', 'tolbutamide', 'pioglitazone', 'rosiglitazone',\n",
    "                   'acarbose', 'miglitol', 'troglitazone', 'tolazamide', 'examide', 'citoglipton', 'insulin',\n",
    "                   'glyburide-metformin', 'glipizide-metformin', 'glimepiride-pioglitazone',\n",
    "                   'metformin-rosiglitazone', 'metformin-pioglitazone']\n",
    "\n",
    "#creates a feature that combines how long a patient has stayed in the hospital previously\n",
    "df['time_in_hospital_past'] = df['number_inpatient'] + df['number_emergency'] + df['number_outpatient']\n",
    "med_vals = ['Steady', 'Up', 'Down']\n",
    "\n",
    "#creates a feature that shows how many diabetes medication the patient is on\n",
    "df['number_diabetes_meds'] = np.nan\n",
    "for i in range(len(df)):\n",
    "    num = 0\n",
    "    for med in medication_list:\n",
    "        if df[med].iloc[i] in med_vals:\n",
    "            num += 1\n",
    "    df['number_diabetes_meds'].iloc[i] = num"
   ]
  },
  {
   "cell_type": "code",
   "execution_count": 14,
   "metadata": {
    "slideshow": {
     "slide_type": "skip"
    }
   },
   "outputs": [],
   "source": [
    "#data cleaning\n",
    "df.loc[df['readmitted'] == '>30', 'readmitted'] = 'Yes'\n",
    "df.loc[df['readmitted'] == '<30', 'readmitted'] = 'Yes'\n",
    "df.loc[df['A1Cresult'] == '>8', 'A1Cresult'] = 'Taken'\n",
    "df.loc[df['A1Cresult'] == '>7', 'A1Cresult'] = 'Taken'\n",
    "df.loc[df['A1Cresult'] == 'Norm', 'A1Cresult'] = 'Taken'\n",
    "df.loc[df['A1Cresult'] == 'None', 'A1Cresult'] = 'Not Taken'\n",
    "df.loc[df['change'] == 'Ch', 'change'] = 'yes'\n",
    "df.loc[df['age'] == '[0-10)', 'age'] = '0-29'\n",
    "df.loc[df['age'] == '[10-20)', 'age'] = '0-29'\n",
    "df.loc[df['age'] == '[20-30)', 'age'] = '0-29'\n",
    "df.loc[df['age'] == '[30-40)', 'age'] = '30-59'\n",
    "df.loc[df['age'] == '[40-50)', 'age'] = '30-59'\n",
    "df.loc[df['age'] == '[50-60)', 'age'] = '30-59'\n",
    "df.loc[df['age'] == '[60-70)', 'age'] = '60-99'\n",
    "df.loc[df['age'] == '[70-80)', 'age'] = '60-99'\n",
    "df.loc[df['age'] == '[80-90)', 'age'] = '60-99'\n",
    "df.loc[df['age'] == '[90-100)', 'age'] = '60-99'\n",
    "\n",
    "\n",
    "numeric_data = df.select_dtypes(include=[np.number])\n",
    "categorical_data = df.select_dtypes(exclude=[np.number])"
   ]
  },
  {
   "cell_type": "markdown",
   "metadata": {
    "slideshow": {
     "slide_type": "slide"
    }
   },
   "source": [
    "# Histogram of Features"
   ]
  },
  {
   "cell_type": "code",
   "execution_count": 15,
   "metadata": {
    "slideshow": {
     "slide_type": "subslide"
    }
   },
   "outputs": [
    {
     "data": {
      "image/png": "[encoded data removed]",
      "text/plain": [
       "<Figure size 1440x1440 with 6 Axes>"
      ]
     },
     "metadata": {
      "needs_background": "light"
     },
     "output_type": "display_data"
    }
   ],
   "source": [
    "#horizontal bar graphs of each categorical variable\n",
    "plt.figure(figsize=(20,20))\n",
    "i=1\n",
    "for col in categorical_data.columns[0:6]:\n",
    "    plt.subplot(4,3,i)\n",
    "    plt.barh(df.groupby(col)[col].count().index, df.groupby(col)[col].count())\n",
    "    plt.title(col)\n",
    "    i = i + 1\n",
    "\n",
    "plt.tight_layout()\n",
    "plt.show()"
   ]
  },
  {
   "cell_type": "code",
   "execution_count": 16,
   "metadata": {
    "scrolled": false,
    "slideshow": {
     "slide_type": "subslide"
    }
   },
   "outputs": [
    {
     "data": {
      "image/png": "[encoded data removed]",
      "text/plain": [
       "<Figure size 1440x1440 with 6 Axes>"
      ]
     },
     "metadata": {
      "needs_background": "light"
     },
     "output_type": "display_data"
    }
   ],
   "source": [
    "#horizontal bar graphs of each categorical variable\n",
    "plt.figure(figsize=(20,20))\n",
    "i=1\n",
    "for col in categorical_data.columns[6:12]:\n",
    "    plt.subplot(4,3,i)\n",
    "    plt.barh(df.groupby(col)[col].count().index, df.groupby(col)[col].count())\n",
    "    plt.title(col)\n",
    "    i = i + 1\n",
    "\n",
    "plt.tight_layout()\n",
    "plt.show()"
   ]
  },
  {
   "cell_type": "code",
   "execution_count": 17,
   "metadata": {
    "slideshow": {
     "slide_type": "subslide"
    }
   },
   "outputs": [
    {
     "data": {
      "image/png": "[encoded data removed]",
      "text/plain": [
       "<Figure size 1440x1440 with 6 Axes>"
      ]
     },
     "metadata": {
      "needs_background": "light"
     },
     "output_type": "display_data"
    }
   ],
   "source": [
    "#horizontal bar graphs of each categorical variable\n",
    "plt.figure(figsize=(20,20))\n",
    "i=1\n",
    "for col in categorical_data.columns[12:18]:\n",
    "    plt.subplot(4,3,i)\n",
    "    plt.barh(df.groupby(col)[col].count().index, df.groupby(col)[col].count())\n",
    "    plt.title(col)\n",
    "    i = i + 1\n",
    "\n",
    "plt.tight_layout()\n",
    "plt.show()"
   ]
  },
  {
   "cell_type": "code",
   "execution_count": 18,
   "metadata": {
    "slideshow": {
     "slide_type": "subslide"
    }
   },
   "outputs": [
    {
     "data": {
      "image/png": "[encoded data removed]",
      "text/plain": [
       "<Figure size 1440x1440 with 6 Axes>"
      ]
     },
     "metadata": {
      "needs_background": "light"
     },
     "output_type": "display_data"
    }
   ],
   "source": [
    "#horizontal bar graphs of each categorical variable\n",
    "plt.figure(figsize=(20,20))\n",
    "i=1\n",
    "for col in categorical_data.columns[18:24]:\n",
    "    plt.subplot(4,3,i)\n",
    "    plt.barh(df.groupby(col)[col].count().index, df.groupby(col)[col].count())\n",
    "    plt.title(col)\n",
    "    i = i + 1\n",
    "\n",
    "plt.tight_layout()\n",
    "plt.show()"
   ]
  },
  {
   "cell_type": "code",
   "execution_count": 19,
   "metadata": {
    "slideshow": {
     "slide_type": "subslide"
    }
   },
   "outputs": [
    {
     "data": {
      "image/png": "[encoded data removed]",
      "text/plain": [
       "<Figure size 1440x1440 with 6 Axes>"
      ]
     },
     "metadata": {
      "needs_background": "light"
     },
     "output_type": "display_data"
    }
   ],
   "source": [
    "#horizontal bar graphs of each categorical variable\n",
    "plt.figure(figsize=(20,20))\n",
    "i=1\n",
    "for col in categorical_data.columns[24:30]:\n",
    "    plt.subplot(4,3,i)\n",
    "    plt.barh(df.groupby(col)[col].count().index, df.groupby(col)[col].count())\n",
    "    plt.title(col)\n",
    "    i = i + 1\n",
    "\n",
    "plt.tight_layout()\n",
    "plt.show()"
   ]
  },
  {
   "cell_type": "code",
   "execution_count": 20,
   "metadata": {
    "slideshow": {
     "slide_type": "subslide"
    }
   },
   "outputs": [
    {
     "data": {
      "image/png": "[encoded data removed]",
      "text/plain": [
       "<Figure size 1440x1440 with 4 Axes>"
      ]
     },
     "metadata": {
      "needs_background": "light"
     },
     "output_type": "display_data"
    }
   ],
   "source": [
    "#horizontal bar graphs of each categorical variable\n",
    "plt.figure(figsize=(20,20))\n",
    "i=1\n",
    "for col in categorical_data.columns[30:36]:\n",
    "    plt.subplot(4,3,i)\n",
    "    plt.barh(df.groupby(col)[col].count().index, df.groupby(col)[col].count())\n",
    "    plt.title(col)\n",
    "    i = i + 1\n",
    "\n",
    "plt.tight_layout()\n",
    "plt.show()"
   ]
  },
  {
   "cell_type": "code",
   "execution_count": 21,
   "metadata": {
    "scrolled": false,
    "slideshow": {
     "slide_type": "subslide"
    }
   },
   "outputs": [
    {
     "data": {
      "image/png": "[encoded data removed]",
      "text/plain": [
       "<Figure size 1440x1440 with 6 Axes>"
      ]
     },
     "metadata": {
      "needs_background": "light"
     },
     "output_type": "display_data"
    }
   ],
   "source": [
    "i = 1\n",
    "plt.figure(figsize=(20,20))\n",
    "for column_name in numeric_data.columns[0:6]:\n",
    "    plt.subplot(5,3,i)\n",
    "    plt.hist(df[column_name])\n",
    "    plt.title(column_name)\n",
    "    i = i+1\n",
    "    \n",
    "plt.tight_layout()\n",
    "plt.show()"
   ]
  },
  {
   "cell_type": "code",
   "execution_count": 22,
   "metadata": {
    "scrolled": false,
    "slideshow": {
     "slide_type": "subslide"
    }
   },
   "outputs": [
    {
     "data": {
      "image/png": "[encoded data removed]",
      "text/plain": [
       "<Figure size 1440x1440 with 4 Axes>"
      ]
     },
     "metadata": {
      "needs_background": "light"
     },
     "output_type": "display_data"
    }
   ],
   "source": [
    "i = 1\n",
    "plt.figure(figsize=(20,20))\n",
    "for column_name in numeric_data.columns[6:]:\n",
    "    plt.subplot(5,3,i)\n",
    "    plt.hist(df[column_name])\n",
    "    plt.title(column_name)\n",
    "    i = i+1\n",
    "    \n",
    "plt.tight_layout()\n",
    "plt.show()"
   ]
  },
  {
   "cell_type": "markdown",
   "metadata": {
    "slideshow": {
     "slide_type": "slide"
    }
   },
   "source": [
    "# Boxplot of Features"
   ]
  },
  {
   "cell_type": "code",
   "execution_count": 23,
   "metadata": {
    "scrolled": false,
    "slideshow": {
     "slide_type": "subslide"
    }
   },
   "outputs": [
    {
     "data": {
      "image/png": "[encoded data removed]",
      "text/plain": [
       "<Figure size 1440x1440 with 6 Axes>"
      ]
     },
     "metadata": {
      "needs_background": "light"
     },
     "output_type": "display_data"
    }
   ],
   "source": [
    "i = 1\n",
    "plt.figure(figsize=(20,20))\n",
    "for column_name in numeric_data.columns[0:6]:\n",
    "    plt.subplot(5,3,i)\n",
    "    plt.boxplot(df[column_name])\n",
    "    plt.title(column_name)\n",
    "    i = i+1\n",
    "    \n",
    "plt.tight_layout()\n",
    "plt.show()"
   ]
  },
  {
   "cell_type": "code",
   "execution_count": 24,
   "metadata": {
    "scrolled": false,
    "slideshow": {
     "slide_type": "subslide"
    }
   },
   "outputs": [
    {
     "data": {
      "image/png": "[encoded data removed]",
      "text/plain": [
       "<Figure size 1440x1440 with 4 Axes>"
      ]
     },
     "metadata": {
      "needs_background": "light"
     },
     "output_type": "display_data"
    }
   ],
   "source": [
    "i = 1\n",
    "plt.figure(figsize=(20,20))\n",
    "for column_name in numeric_data.columns[6:]:\n",
    "    plt.subplot(5,3,i)\n",
    "    plt.boxplot(df[column_name])\n",
    "    plt.title(column_name)\n",
    "    i = i+1\n",
    "    \n",
    "plt.tight_layout()\n",
    "plt.show()"
   ]
  },
  {
   "cell_type": "code",
   "execution_count": 25,
   "metadata": {
    "scrolled": true,
    "slideshow": {
     "slide_type": "skip"
    }
   },
   "outputs": [
    {
     "name": "stdout",
     "output_type": "stream",
     "text": [
      "\n",
      "Cross tab of race and readmitted\n",
      "\n",
      "readmitted          NO    Yes\n",
      "race                         \n",
      "AfricanAmerican  10198   8683\n",
      "Asian              401    224\n",
      "Caucasian        39693  35386\n",
      "Hispanic          1144    840\n",
      "Other              901    582\n",
      "\n",
      "Cross tab of gender and readmitted\n",
      "\n",
      "readmitted     NO    Yes\n",
      "gender                  \n",
      "Female      27771  25062\n",
      "Male        24566  20653\n",
      "\n",
      "Cross tab of age and readmitted\n",
      "\n",
      "readmitted     NO    Yes\n",
      "age                     \n",
      "0-29         1127    882\n",
      "30-59       16329  13181\n",
      "60-99       34881  31652\n",
      "\n",
      "Cross tab of time_in_hospital and readmitted\n",
      "\n",
      "readmitted          NO   Yes\n",
      "time_in_hospital            \n",
      "1                 8051  5438\n",
      "2                 9046  7395\n",
      "3                 9281  7768\n",
      "4                 6904  6530\n",
      "5                 5007  4692\n",
      "6                 3702  3618\n",
      "7                 2877  2817\n",
      "8                 2102  2174\n",
      "9                 1449  1479\n",
      "10                1135  1152\n",
      "11                 934   875\n",
      "12                 718   706\n",
      "13                 620   565\n",
      "14                 511   506\n",
      "\n",
      "Cross tab of num_lab_procedures and readmitted\n",
      "\n",
      "readmitted            NO   Yes\n",
      "num_lab_procedures            \n",
      "1                   1811  1285\n",
      "2                    519   543\n",
      "3                    354   293\n",
      "4                    200   164\n",
      "5                    161   115\n",
      "...                  ...   ...\n",
      "120                    1     0\n",
      "121                    1     0\n",
      "126                    1     0\n",
      "129                    0     1\n",
      "132                    0     1\n",
      "\n",
      "[118 rows x 2 columns]\n",
      "\n",
      "Cross tab of num_procedures and readmitted\n",
      "\n",
      "readmitted         NO    Yes\n",
      "num_procedures              \n",
      "0               22784  21790\n",
      "1               10691   9338\n",
      "2                6835   5548\n",
      "3                5255   3955\n",
      "4                2262   1814\n",
      "5                1708   1261\n",
      "6                2802   2009\n",
      "\n",
      "Cross tab of num_medications and readmitted\n",
      "\n",
      "readmitted         NO  Yes\n",
      "num_medications           \n",
      "1                 159   77\n",
      "2                 263  134\n",
      "3                 537  248\n",
      "4                 815  454\n",
      "5                1199  636\n",
      "...               ...  ...\n",
      "72                  0    3\n",
      "74                  1    0\n",
      "75                  2    0\n",
      "79                  1    0\n",
      "81                  0    1\n",
      "\n",
      "[75 rows x 2 columns]\n",
      "\n",
      "Cross tab of number_outpatient and readmitted\n",
      "\n",
      "readmitted            NO    Yes\n",
      "number_outpatient              \n",
      "0                  45549  36130\n",
      "1                   3541   4799\n",
      "2                   1405   2109\n",
      "3                    856   1149\n",
      "4                    441    637\n",
      "5                    222    299\n",
      "6                    108    189\n",
      "7                     47    106\n",
      "8                     53     45\n",
      "9                     32     51\n",
      "10                    17     40\n",
      "11                    11     30\n",
      "12                     9     21\n",
      "13                    11     20\n",
      "14                     6     22\n",
      "15                     4     16\n",
      "16                     7      8\n",
      "17                     4      4\n",
      "18                     1      4\n",
      "19                     0      3\n",
      "20                     3      4\n",
      "21                     3      4\n",
      "22                     0      5\n",
      "23                     0      2\n",
      "24                     2      1\n",
      "25                     1      1\n",
      "26                     1      1\n",
      "27                     0      3\n",
      "28                     0      1\n",
      "29                     1      1\n",
      "33                     0      2\n",
      "34                     0      1\n",
      "35                     1      1\n",
      "36                     1      1\n",
      "37                     0      1\n",
      "38                     0      1\n",
      "39                     0      1\n",
      "40                     0      1\n",
      "42                     0      1\n",
      "\n",
      "Cross tab of number_emergency and readmitted\n",
      "\n",
      "readmitted           NO    Yes\n",
      "number_emergency              \n",
      "0                 48252  38593\n",
      "1                  3066   4484\n",
      "2                   666   1345\n",
      "3                   201    515\n",
      "4                    69    303\n",
      "5                    38    152\n",
      "6                    14     79\n",
      "7                     7     65\n",
      "8                     9     41\n",
      "9                     3     29\n",
      "10                    0     34\n",
      "11                    3     19\n",
      "12                    2      8\n",
      "13                    1     11\n",
      "14                    1      1\n",
      "15                    0      3\n",
      "16                    1      4\n",
      "18                    0      5\n",
      "19                    0      4\n",
      "20                    1      3\n",
      "21                    0      2\n",
      "22                    0      6\n",
      "24                    0      1\n",
      "25                    2      0\n",
      "28                    0      1\n",
      "29                    0      1\n",
      "37                    1      0\n",
      "42                    0      1\n",
      "46                    0      1\n",
      "54                    0      1\n",
      "63                    0      1\n",
      "64                    0      1\n",
      "76                    0      1\n",
      "\n",
      "Cross tab of number_inpatient and readmitted\n",
      "\n",
      "readmitted           NO    Yes\n",
      "number_inpatient              \n",
      "0                 39412  25221\n",
      "1                  8573  10494\n",
      "2                  2598   4823\n",
      "3                  1012   2334\n",
      "4                   411   1186\n",
      "5                   160    642\n",
      "6                    76    398\n",
      "7                    51    215\n",
      "8                    14    133\n",
      "9                    13     98\n",
      "10                    9     51\n",
      "11                    0     48\n",
      "12                    4     29\n",
      "13                    2     18\n",
      "14                    0     10\n",
      "15                    0      8\n",
      "16                    2      3\n",
      "18                    0      1\n",
      "19                    0      2\n",
      "21                    0      1\n",
      "\n",
      "Cross tab of diag_1 and readmitted\n",
      "\n",
      "readmitted          NO    Yes\n",
      "diag_1                       \n",
      "Circulatory      15589  14096\n",
      "Diabetes          3764   4201\n",
      "Digestive         5640   4959\n",
      "Genitourinary     2735   2250\n",
      "Musculoskeletal   2852   1887\n",
      "Neoplasm          2193   1121\n",
      "Other            12302  10427\n",
      "Respiratory       7262   6774\n",
      "\n",
      "Cross tab of diag_2 and readmitted\n",
      "\n",
      "readmitted          NO    Yes\n",
      "diag_2                       \n",
      "Circulatory      16900  15474\n",
      "Diabetes          6593   5269\n",
      "Digestive         2290   1890\n",
      "Genitourinary     4292   3977\n",
      "Musculoskeletal    963    760\n",
      "Neoplasm          1466   1142\n",
      "Other            14294  12064\n",
      "Respiratory       5539   5139\n",
      "\n",
      "Cross tab of diag_3 and readmitted\n",
      "\n",
      "readmitted          NO    Yes\n",
      "diag_3                       \n",
      "Circulatory      16933  15271\n",
      "Diabetes          9188   7507\n",
      "Digestive         2054   1916\n",
      "Genitourinary     3204   3361\n",
      "Musculoskeletal   1034    836\n",
      "Neoplasm          1279    918\n",
      "Other            14970  12323\n",
      "Respiratory       3675   3583\n",
      "\n",
      "Cross tab of number_diagnoses and readmitted\n",
      "\n",
      "readmitted           NO    Yes\n",
      "number_diagnoses              \n",
      "3                  1797    954\n",
      "4                  3342   2018\n",
      "5                  6741   3851\n",
      "6                  5589   4399\n",
      "7                  5417   4762\n",
      "8                  5431   4957\n",
      "9                 23966  24721\n",
      "10                    9      7\n",
      "11                    3      8\n",
      "12                    5      4\n",
      "13                    7      9\n",
      "14                    3      4\n",
      "15                    4      4\n",
      "16                   23     17\n",
      "\n",
      "Cross tab of max_glu_serum and readmitted\n",
      "\n",
      "readmitted        NO    Yes\n",
      "max_glu_serum              \n",
      ">200             746    703\n",
      ">300             539    688\n",
      "None           49676  43168\n",
      "Norm            1376   1156\n",
      "\n",
      "Cross tab of A1Cresult and readmitted\n",
      "\n",
      "readmitted     NO    Yes\n",
      "A1Cresult               \n",
      "Not Taken   43405  38454\n",
      "Taken        8932   7261\n",
      "\n",
      "Cross tab of metformin and readmitted\n",
      "\n",
      "readmitted     NO    Yes\n",
      "metformin               \n",
      "Down          299    252\n",
      "No          41518  37289\n",
      "Steady       9927   7750\n",
      "Up            593    424\n",
      "\n",
      "Cross tab of repaglinide and readmitted\n",
      "\n",
      "readmitted      NO    Yes\n",
      "repaglinide              \n",
      "Down            23     22\n",
      "No           51655  44874\n",
      "Steady         605    766\n",
      "Up              54     53\n",
      "\n",
      "Cross tab of nateglinide and readmitted\n",
      "\n",
      "readmitted      NO    Yes\n",
      "nateglinide              \n",
      "Down             6      5\n",
      "No           51986  45375\n",
      "Steady         333    324\n",
      "Up              12     11\n",
      "\n",
      "Cross tab of chlorpropamide and readmitted\n",
      "\n",
      "readmitted         NO    Yes\n",
      "chlorpropamide              \n",
      "Down                1      0\n",
      "No              52292  45677\n",
      "Steady             43     33\n",
      "Up                  1      5\n",
      "\n",
      "Cross tab of glimepiride and readmitted\n",
      "\n",
      "readmitted      NO    Yes\n",
      "glimepiride              \n",
      "Down            95     89\n",
      "No           49722  43343\n",
      "Steady        2341   2147\n",
      "Up             179    136\n",
      "\n",
      "Cross tab of acetohexamide and readmitted\n",
      "\n",
      "readmitted        NO    Yes\n",
      "acetohexamide              \n",
      "No             52337  45714\n",
      "Steady             0      1\n",
      "\n",
      "Cross tab of glipizide and readmitted\n",
      "\n",
      "readmitted     NO    Yes\n",
      "glipizide               \n",
      "Down          252    289\n",
      "No          46091  39678\n",
      "Steady       5619   5371\n",
      "Up            375    377\n"
     ]
    },
    {
     "name": "stdout",
     "output_type": "stream",
     "text": [
      "\n",
      "Cross tab of glyburide and readmitted\n",
      "\n",
      "readmitted     NO    Yes\n",
      "glyburide               \n",
      "Down          273    265\n",
      "No          46805  40986\n",
      "Steady       4824   4108\n",
      "Up            435    356\n",
      "\n",
      "Cross tab of tolbutamide and readmitted\n",
      "\n",
      "readmitted      NO    Yes\n",
      "tolbutamide              \n",
      "No           52322  45708\n",
      "Steady          15      7\n",
      "\n",
      "Cross tab of pioglitazone and readmitted\n",
      "\n",
      "readmitted       NO    Yes\n",
      "pioglitazone              \n",
      "Down             54     61\n",
      "No            48700  42255\n",
      "Steady         3474   3281\n",
      "Up              109    118\n",
      "\n",
      "Cross tab of rosiglitazone and readmitted\n",
      "\n",
      "readmitted        NO    Yes\n",
      "rosiglitazone              \n",
      "Down              57     27\n",
      "No             49182  42704\n",
      "Steady          2994   2914\n",
      "Up               104     70\n",
      "\n",
      "Cross tab of acarbose and readmitted\n",
      "\n",
      "readmitted     NO    Yes\n",
      "acarbose                \n",
      "Down            1      2\n",
      "No          52217  45536\n",
      "Steady        115    171\n",
      "Up              4      6\n",
      "\n",
      "Cross tab of miglitol and readmitted\n",
      "\n",
      "readmitted     NO    Yes\n",
      "miglitol                \n",
      "Down            0      4\n",
      "No          52323  45692\n",
      "Steady         13     18\n",
      "Up              1      1\n",
      "\n",
      "Cross tab of troglitazone and readmitted\n",
      "\n",
      "readmitted       NO    Yes\n",
      "troglitazone              \n",
      "No            52336  45713\n",
      "Steady            1      2\n",
      "\n",
      "Cross tab of tolazamide and readmitted\n",
      "\n",
      "readmitted     NO    Yes\n",
      "tolazamide              \n",
      "No          52313  45702\n",
      "Steady         24     12\n",
      "Up              0      1\n",
      "\n",
      "Cross tab of examide and readmitted\n",
      "\n",
      "readmitted     NO    Yes\n",
      "examide                 \n",
      "No          52337  45715\n",
      "\n",
      "Cross tab of citoglipton and readmitted\n",
      "\n",
      "readmitted      NO    Yes\n",
      "citoglipton              \n",
      "No           52337  45715\n",
      "\n",
      "Cross tab of insulin and readmitted\n",
      "\n",
      "readmitted     NO    Yes\n",
      "insulin                 \n",
      "Down         5550   6293\n",
      "No          25644  20298\n",
      "Steady      15900  13468\n",
      "Up           5243   5656\n",
      "\n",
      "Cross tab of glyburide-metformin and readmitted\n",
      "\n",
      "readmitted              NO    Yes\n",
      "glyburide-metformin              \n",
      "Down                     3      0\n",
      "No                   51992  45391\n",
      "Steady                 337    323\n",
      "Up                       5      1\n",
      "\n",
      "Cross tab of glipizide-metformin and readmitted\n",
      "\n",
      "readmitted              NO    Yes\n",
      "glipizide-metformin              \n",
      "No                   52332  45707\n",
      "Steady                   5      8\n",
      "\n",
      "Cross tab of glimepiride-pioglitazone and readmitted\n",
      "\n",
      "readmitted                   NO    Yes\n",
      "glimepiride-pioglitazone              \n",
      "No                        52337  45714\n",
      "Steady                        0      1\n",
      "\n",
      "Cross tab of metformin-rosiglitazone and readmitted\n",
      "\n",
      "readmitted                  NO    Yes\n",
      "metformin-rosiglitazone              \n",
      "No                       52337  45715\n",
      "\n",
      "Cross tab of metformin-pioglitazone and readmitted\n",
      "\n",
      "readmitted                 NO    Yes\n",
      "metformin-pioglitazone              \n",
      "No                      52336  45715\n",
      "Steady                      1      0\n",
      "\n",
      "Cross tab of change and readmitted\n",
      "\n",
      "readmitted     NO    Yes\n",
      "change                  \n",
      "No          29269  23505\n",
      "yes         23068  22210\n",
      "\n",
      "Cross tab of diabetesMed and readmitted\n",
      "\n",
      "readmitted      NO    Yes\n",
      "diabetesMed              \n",
      "No           13402   9300\n",
      "Yes          38935  36415\n",
      "\n",
      "Cross tab of readmitted and readmitted\n",
      "\n",
      "readmitted     NO    Yes\n",
      "readmitted              \n",
      "NO          52337      0\n",
      "Yes             0  45715\n",
      "\n",
      "Cross tab of time_in_hospital_past and readmitted\n",
      "\n",
      "readmitted                NO    Yes\n",
      "time_in_hospital_past              \n",
      "0                      33597  19528\n",
      "1                       9516   9890\n",
      "2                       4129   5730\n",
      "3                       2205   3590\n",
      "4                       1230   2276\n",
      "5                        636   1361\n",
      "6                        354    933\n",
      "7                        218    639\n",
      "8                        134    410\n",
      "9                        103    323\n",
      "10                        59    211\n",
      "11                        43    202\n",
      "12                        19    117\n",
      "13                        17     81\n",
      "14                        16     70\n",
      "15                        16     79\n",
      "16                         9     58\n",
      "17                         8     54\n",
      "18                         4     28\n",
      "19                         0     30\n",
      "20                         3     20\n",
      "21                         4     10\n",
      "22                         2     13\n",
      "23                         0      4\n",
      "24                         4      5\n",
      "25                         0      7\n",
      "26                         3      3\n",
      "27                         2      7\n",
      "28                         0      2\n",
      "29                         0      5\n",
      "30                         2      2\n",
      "31                         1      1\n",
      "32                         0      2\n",
      "33                         0      2\n",
      "34                         0      1\n",
      "35                         1      4\n",
      "36                         1      4\n",
      "37                         1      1\n",
      "38                         0      2\n",
      "40                         0      1\n",
      "41                         0      1\n",
      "42                         0      2\n",
      "48                         0      1\n",
      "49                         0      1\n",
      "61                         0      1\n",
      "68                         0      2\n",
      "80                         0      1\n",
      "\n",
      "Cross tab of number_diabetes_meds and readmitted\n",
      "\n",
      "readmitted               NO    Yes\n",
      "number_diabetes_meds              \n",
      "0.0                   13402   9300\n",
      "1.0                   23085  22362\n",
      "2.0                   11131   9925\n",
      "3.0                    3963   3522\n",
      "4.0                     717    583\n",
      "5.0                      38     19\n",
      "6.0                       1      4\n"
     ]
    }
   ],
   "source": [
    "for col in df.columns:\n",
    "    count_table = pd.crosstab(df[col], df['readmitted'])\n",
    "    print('\\nCross tab of ' + col + ' and readmitted\\n')\n",
    "    print(count_table)"
   ]
  },
  {
   "cell_type": "code",
   "execution_count": 26,
   "metadata": {
    "scrolled": true,
    "slideshow": {
     "slide_type": "skip"
    }
   },
   "outputs": [
    {
     "name": "stdout",
     "output_type": "stream",
     "text": [
      "\n",
      "Chi-Square Test Results between race and readmitted:\n",
      "Power_divergenceResult(statistic=208976.18667645738, pvalue=0.0)\n",
      "\n",
      "Chi-Square Test Results between gender and readmitted:\n",
      "Power_divergenceResult(statistic=1053.2523150981112, pvalue=5.044101001802032e-228)\n",
      "\n",
      "Chi-Square Test Results between age and readmitted:\n",
      "Power_divergenceResult(statistic=64777.293844082735, pvalue=0.0)\n",
      "\n",
      "Chi-Square Test Results between time_in_hospital and readmitted:\n",
      "Power_divergenceResult(statistic=66918.61314404603, pvalue=0.0)\n",
      "\n",
      "Chi-Square Test Results between num_lab_procedures and readmitted:\n",
      "Power_divergenceResult(statistic=85105.34908007996, pvalue=0.0)\n",
      "\n",
      "Chi-Square Test Results between num_procedures and readmitted:\n",
      "Power_divergenceResult(statistic=93413.11626483906, pvalue=0.0)\n",
      "\n",
      "Chi-Square Test Results between num_medications and readmitted:\n",
      "Power_divergenceResult(statistic=202418.45649247337, pvalue=0.0)\n",
      "\n",
      "Chi-Square Test Results between number_outpatient and readmitted:\n",
      "Power_divergenceResult(statistic=2626479.3450006116, pvalue=0.0)\n",
      "\n",
      "Chi-Square Test Results between number_emergency and readmitted:\n",
      "Power_divergenceResult(statistic=2493346.781177335, pvalue=0.0)\n",
      "\n",
      "Chi-Square Test Results between number_inpatient and readmitted:\n",
      "Power_divergenceResult(statistic=885820.998816954, pvalue=0.0)\n",
      "\n",
      "Chi-Square Test Results between diag_1 and readmitted:\n",
      "Power_divergenceResult(statistic=51896.19989393383, pvalue=0.0)\n",
      "\n",
      "Chi-Square Test Results between diag_2 and readmitted:\n",
      "Power_divergenceResult(statistic=73488.87088483662, pvalue=0.0)\n",
      "\n",
      "Chi-Square Test Results between diag_3 and readmitted:\n",
      "Power_divergenceResult(statistic=80906.69000122383, pvalue=0.0)\n",
      "\n",
      "Chi-Square Test Results between number_diagnoses and readmitted:\n",
      "Power_divergenceResult(statistic=307968.67645738996, pvalue=0.0)\n",
      "\n",
      "Chi-Square Test Results between max_glu_serum and readmitted:\n",
      "Power_divergenceResult(statistic=255737.8667645739, pvalue=0.0)\n",
      "\n",
      "Chi-Square Test Results between A1Cresult and readmitted:\n",
      "Power_divergenceResult(statistic=44533.84775425285, pvalue=0.0)\n",
      "\n",
      "Chi-Square Test Results between metformin and readmitted:\n",
      "Power_divergenceResult(statistic=169031.26226900012, pvalue=0.0)\n",
      "\n",
      "Chi-Square Test Results between repaglinide and readmitted:\n",
      "Power_divergenceResult(statistic=284020.7303879574, pvalue=0.0)\n",
      "\n",
      "Chi-Square Test Results between nateglinide and readmitted:\n",
      "Power_divergenceResult(statistic=290448.0621710929, pvalue=0.0)\n",
      "\n",
      "Chi-Square Test Results between chlorpropamide and readmitted:\n",
      "Power_divergenceResult(statistic=295277.6257496022, pvalue=0.0)\n",
      "\n",
      "Chi-Square Test Results between glimepiride and readmitted:\n",
      "Power_divergenceResult(statistic=257763.30665361238, pvalue=0.0)\n",
      "\n",
      "Chi-Square Test Results between acetohexamide and readmitted:\n",
      "Power_divergenceResult(statistic=98942.71162240444, pvalue=0.0)\n",
      "\n",
      "Chi-Square Test Results between glipizide and readmitted:\n",
      "Power_divergenceResult(statistic=208689.28389018073, pvalue=0.0)\n",
      "\n",
      "Chi-Square Test Results between glyburide and readmitted:\n",
      "Power_divergenceResult(statistic=221057.66230163586, pvalue=0.0)\n",
      "\n",
      "Chi-Square Test Results between tolbutamide and readmitted:\n",
      "Power_divergenceResult(statistic=98856.302614939, pvalue=0.0)\n",
      "\n",
      "Chi-Square Test Results between pioglitazone and readmitted:\n",
      "Power_divergenceResult(statistic=242994.8815730429, pvalue=0.0)\n",
      "\n",
      "Chi-Square Test Results between rosiglitazone and readmitted:\n",
      "Power_divergenceResult(statistic=249516.70770611512, pvalue=0.0)\n",
      "\n",
      "Chi-Square Test Results between acarbose and readmitted:\n",
      "Power_divergenceResult(statistic=293592.0181128381, pvalue=0.0)\n",
      "\n",
      "Chi-Square Test Results between miglitol and readmitted:\n",
      "Power_divergenceResult(statistic=295653.846204055, pvalue=0.0)\n",
      "\n",
      "Chi-Square Test Results between troglitazone and readmitted:\n",
      "Power_divergenceResult(statistic=98934.71194876186, pvalue=0.0)\n",
      "\n",
      "Chi-Square Test Results between tolazamide and readmitted:\n",
      "Power_divergenceResult(statistic=197219.29445600294, pvalue=0.0)\n",
      "\n",
      "Chi-Square Test Results between examide and readmitted:\n",
      "Power_divergenceResult(statistic=447.2206992208216, pvalue=2.9038384674377546e-99)\n",
      "\n",
      "Chi-Square Test Results between citoglipton and readmitted:\n",
      "Power_divergenceResult(statistic=447.2206992208216, pvalue=2.9038384674377546e-99)\n",
      "\n",
      "Chi-Square Test Results between insulin and readmitted:\n",
      "Power_divergenceResult(statistic=35240.88932403215, pvalue=0.0)\n",
      "\n",
      "Chi-Square Test Results between glyburide-metformin and readmitted:\n",
      "Power_divergenceResult(statistic=290617.59392975154, pvalue=0.0)\n",
      "\n",
      "Chi-Square Test Results between glipizide-metformin and readmitted:\n",
      "Power_divergenceResult(statistic=98895.25908701506, pvalue=0.0)\n",
      "\n",
      "Chi-Square Test Results between glimepiride-pioglitazone and readmitted:\n",
      "Power_divergenceResult(statistic=98942.71162240444, pvalue=0.0)\n",
      "\n",
      "Chi-Square Test Results between metformin-rosiglitazone and readmitted:\n",
      "Power_divergenceResult(statistic=447.2206992208216, pvalue=2.9038384674377546e-99)\n",
      "\n",
      "Chi-Square Test Results between metformin-pioglitazone and readmitted:\n",
      "Power_divergenceResult(statistic=98942.17133765756, pvalue=0.0)\n",
      "\n",
      "Chi-Square Test Results between change and readmitted:\n",
      "Power_divergenceResult(statistic=1265.754252845429, pvalue=3.966557337334546e-274)\n",
      "\n",
      "Chi-Square Test Results between diabetesMed and readmitted:\n",
      "Power_divergenceResult(statistic=28741.54032554155, pvalue=0.0)\n",
      "\n",
      "Chi-Square Test Results between readmitted and readmitted:\n",
      "Power_divergenceResult(statistic=98946.44139844165, pvalue=0.0)\n",
      "\n",
      "Chi-Square Test Results between time_in_hospital_past and readmitted:\n",
      "Power_divergenceResult(statistic=1605450.241953249, pvalue=0.0)\n",
      "\n",
      "Chi-Square Test Results between number_diabetes_meds and readmitted:\n",
      "Power_divergenceResult(statistic=123323.43719658958, pvalue=0.0)\n"
     ]
    }
   ],
   "source": [
    "for col in df.columns:\n",
    "    count_table = pd.crosstab(df[col], df['readmitted'])\n",
    "    print('\\nChi-Square Test Results between ' + col + ' and readmitted:')\n",
    "    print(stats.chisquare(count_table, axis=None))"
   ]
  },
  {
   "cell_type": "markdown",
   "metadata": {
    "slideshow": {
     "slide_type": "slide"
    }
   },
   "source": [
    "# Data Cleaning/Feature Engineering\n",
    "#### 1) Removed Identification features\n",
    "#### 2) Removed data with high number of missing values\n",
    "#### 3) Changed diagnosis codes to a general diagnosis\n",
    "#### 4) Created new features: time in hospital past and number diabetes meds\n",
    "#### 5) Binned age feature\n",
    "#### 6) Changed select features to binary"
   ]
  },
  {
   "cell_type": "markdown",
   "metadata": {
    "slideshow": {
     "slide_type": "slide"
    }
   },
   "source": [
    "# Features Dropped\n",
    "\n",
    "* All medications except for insulin\n",
    "* diabetes med\n",
    "* secondary and teriary diagnoses\n",
    "* days spent in inpatient/outpatient/emergency\n",
    "* maximum glucose serum       \n",
    "* age\n",
    "* race"
   ]
  },
  {
   "cell_type": "code",
   "execution_count": 27,
   "metadata": {
    "scrolled": false,
    "slideshow": {
     "slide_type": "skip"
    }
   },
   "outputs": [],
   "source": [
    "#drops all medcations except insulin. and other     \n",
    "df = df.drop(['metformin', 'repaglinide', 'nateglinide', 'chlorpropamide', 'glimepiride', \n",
    "              'acetohexamide', 'glipizide', 'glyburide', 'tolbutamide', 'pioglitazone', 'rosiglitazone',\n",
    "              'acarbose', 'miglitol', 'troglitazone', 'tolazamide', 'examide', 'citoglipton',\n",
    "              'glyburide-metformin', 'glipizide-metformin','glimepiride-pioglitazone',\n",
    "              'metformin-rosiglitazone', 'metformin-pioglitazone','diag_2', 'diag_3', 'max_glu_serum', \n",
    "              'race','diabetesMed','number_inpatient', 'number_outpatient', 'number_emergency','age'], axis=1)\n",
    "\n"
   ]
  },
  {
   "cell_type": "markdown",
   "metadata": {
    "slideshow": {
     "slide_type": "slide"
    }
   },
   "source": [
    "# Description of Final Features Used"
   ]
  },
  {
   "cell_type": "code",
   "execution_count": 28,
   "metadata": {
    "slideshow": {
     "slide_type": "fragment"
    }
   },
   "outputs": [
    {
     "data": {
      "text/html": [
       "<div>\n",
       "<style scoped>\n",
       "    .dataframe tbody tr th:only-of-type {\n",
       "        vertical-align: middle;\n",
       "    }\n",
       "\n",
       "    .dataframe tbody tr th {\n",
       "        vertical-align: top;\n",
       "    }\n",
       "\n",
       "    .dataframe thead th {\n",
       "        text-align: right;\n",
       "    }\n",
       "</style>\n",
       "<table border=\"1\" class=\"dataframe\">\n",
       "  <thead>\n",
       "    <tr style=\"text-align: right;\">\n",
       "      <th></th>\n",
       "      <th>time_in_hospital</th>\n",
       "      <th>num_lab_procedures</th>\n",
       "      <th>num_procedures</th>\n",
       "      <th>num_medications</th>\n",
       "      <th>number_diagnoses</th>\n",
       "      <th>time_in_hospital_past</th>\n",
       "      <th>number_diabetes_meds</th>\n",
       "    </tr>\n",
       "  </thead>\n",
       "  <tbody>\n",
       "    <tr>\n",
       "      <td>count</td>\n",
       "      <td>98052.000000</td>\n",
       "      <td>98052.000000</td>\n",
       "      <td>98052.000000</td>\n",
       "      <td>98052.000000</td>\n",
       "      <td>98052.000000</td>\n",
       "      <td>98052.000000</td>\n",
       "      <td>98052.000000</td>\n",
       "    </tr>\n",
       "    <tr>\n",
       "      <td>mean</td>\n",
       "      <td>4.422011</td>\n",
       "      <td>43.148462</td>\n",
       "      <td>1.350712</td>\n",
       "      <td>16.119590</td>\n",
       "      <td>7.512096</td>\n",
       "      <td>1.225717</td>\n",
       "      <td>1.178242</td>\n",
       "    </tr>\n",
       "    <tr>\n",
       "      <td>std</td>\n",
       "      <td>2.993070</td>\n",
       "      <td>19.711757</td>\n",
       "      <td>1.708475</td>\n",
       "      <td>8.108496</td>\n",
       "      <td>1.832472</td>\n",
       "      <td>2.314742</td>\n",
       "      <td>0.921825</td>\n",
       "    </tr>\n",
       "    <tr>\n",
       "      <td>min</td>\n",
       "      <td>1.000000</td>\n",
       "      <td>1.000000</td>\n",
       "      <td>0.000000</td>\n",
       "      <td>1.000000</td>\n",
       "      <td>3.000000</td>\n",
       "      <td>0.000000</td>\n",
       "      <td>0.000000</td>\n",
       "    </tr>\n",
       "    <tr>\n",
       "      <td>25%</td>\n",
       "      <td>2.000000</td>\n",
       "      <td>31.000000</td>\n",
       "      <td>0.000000</td>\n",
       "      <td>11.000000</td>\n",
       "      <td>6.000000</td>\n",
       "      <td>0.000000</td>\n",
       "      <td>1.000000</td>\n",
       "    </tr>\n",
       "    <tr>\n",
       "      <td>50%</td>\n",
       "      <td>4.000000</td>\n",
       "      <td>44.000000</td>\n",
       "      <td>1.000000</td>\n",
       "      <td>15.000000</td>\n",
       "      <td>8.000000</td>\n",
       "      <td>0.000000</td>\n",
       "      <td>1.000000</td>\n",
       "    </tr>\n",
       "    <tr>\n",
       "      <td>75%</td>\n",
       "      <td>6.000000</td>\n",
       "      <td>57.000000</td>\n",
       "      <td>2.000000</td>\n",
       "      <td>20.000000</td>\n",
       "      <td>9.000000</td>\n",
       "      <td>2.000000</td>\n",
       "      <td>2.000000</td>\n",
       "    </tr>\n",
       "    <tr>\n",
       "      <td>max</td>\n",
       "      <td>14.000000</td>\n",
       "      <td>132.000000</td>\n",
       "      <td>6.000000</td>\n",
       "      <td>81.000000</td>\n",
       "      <td>16.000000</td>\n",
       "      <td>80.000000</td>\n",
       "      <td>6.000000</td>\n",
       "    </tr>\n",
       "  </tbody>\n",
       "</table>\n",
       "</div>"
      ],
      "text/plain": [
       "       time_in_hospital  num_lab_procedures  num_procedures  num_medications  \\\n",
       "count      98052.000000        98052.000000    98052.000000     98052.000000   \n",
       "mean           4.422011           43.148462        1.350712        16.119590   \n",
       "std            2.993070           19.711757        1.708475         8.108496   \n",
       "min            1.000000            1.000000        0.000000         1.000000   \n",
       "25%            2.000000           31.000000        0.000000        11.000000   \n",
       "50%            4.000000           44.000000        1.000000        15.000000   \n",
       "75%            6.000000           57.000000        2.000000        20.000000   \n",
       "max           14.000000          132.000000        6.000000        81.000000   \n",
       "\n",
       "       number_diagnoses  time_in_hospital_past  number_diabetes_meds  \n",
       "count      98052.000000           98052.000000          98052.000000  \n",
       "mean           7.512096               1.225717              1.178242  \n",
       "std            1.832472               2.314742              0.921825  \n",
       "min            3.000000               0.000000              0.000000  \n",
       "25%            6.000000               0.000000              1.000000  \n",
       "50%            8.000000               0.000000              1.000000  \n",
       "75%            9.000000               2.000000              2.000000  \n",
       "max           16.000000              80.000000              6.000000  "
      ]
     },
     "execution_count": 28,
     "metadata": {},
     "output_type": "execute_result"
    }
   ],
   "source": [
    "df.describe()"
   ]
  },
  {
   "cell_type": "markdown",
   "metadata": {
    "slideshow": {
     "slide_type": "slide"
    }
   },
   "source": [
    "# Countplot of Final Features with Readmittance"
   ]
  },
  {
   "cell_type": "code",
   "execution_count": 29,
   "metadata": {
    "scrolled": false,
    "slideshow": {
     "slide_type": "subslide"
    }
   },
   "outputs": [
    {
     "data": {
      "image/png": "[encoded data removed]",
      "text/plain": [
       "<Figure size 1440x1440 with 1 Axes>"
      ]
     },
     "metadata": {
      "needs_background": "light"
     },
     "output_type": "display_data"
    },
    {
     "data": {
      "image/png": "[encoded data removed]",
      "text/plain": [
       "<Figure size 432x288 with 1 Axes>"
      ]
     },
     "metadata": {
      "needs_background": "light"
     },
     "output_type": "display_data"
    },
    {
     "data": {
      "image/png": "[encoded data removed]",
      "text/plain": [
       "<Figure size 432x288 with 1 Axes>"
      ]
     },
     "metadata": {
      "needs_background": "light"
     },
     "output_type": "display_data"
    }
   ],
   "source": [
    "fig = plt.figure(figsize=(20,20))\n",
    "i=1\n",
    "for col in df.columns[0:3]:\n",
    "    fig.add_subplot(15,2,i)\n",
    "    sns.countplot(y=col, hue='readmitted', data=df)\n",
    "    i=i+1\n",
    "    plt.show()\n"
   ]
  },
  {
   "cell_type": "code",
   "execution_count": 30,
   "metadata": {
    "slideshow": {
     "slide_type": "subslide"
    }
   },
   "outputs": [
    {
     "data": {
      "image/png": "[encoded data removed]",
      "text/plain": [
       "<Figure size 1440x1440 with 1 Axes>"
      ]
     },
     "metadata": {
      "needs_background": "light"
     },
     "output_type": "display_data"
    },
    {
     "data": {
      "image/png": "[encoded data removed]",
      "text/plain": [
       "<Figure size 432x288 with 1 Axes>"
      ]
     },
     "metadata": {
      "needs_background": "light"
     },
     "output_type": "display_data"
    },
    {
     "data": {
      "image/png": "[encoded data removed]",
      "text/plain": [
       "<Figure size 432x288 with 1 Axes>"
      ]
     },
     "metadata": {
      "needs_background": "light"
     },
     "output_type": "display_data"
    }
   ],
   "source": [
    "fig = plt.figure(figsize=(20,20))\n",
    "i=1\n",
    "for col in df.columns[3:6]:\n",
    "    fig.add_subplot(15,2,i)\n",
    "    sns.countplot(y=col, hue='readmitted', data=df)\n",
    "    i=i+1\n",
    "    plt.show()\n"
   ]
  },
  {
   "cell_type": "code",
   "execution_count": 31,
   "metadata": {
    "slideshow": {
     "slide_type": "subslide"
    }
   },
   "outputs": [
    {
     "data": {
      "image/png": "[encoded data removed]",
      "text/plain": [
       "<Figure size 1440x1440 with 1 Axes>"
      ]
     },
     "metadata": {
      "needs_background": "light"
     },
     "output_type": "display_data"
    },
    {
     "data": {
      "image/png": "[encoded data removed]",
      "text/plain": [
       "<Figure size 432x288 with 1 Axes>"
      ]
     },
     "metadata": {
      "needs_background": "light"
     },
     "output_type": "display_data"
    },
    {
     "data": {
      "image/png": "[encoded data removed]",
      "text/plain": [
       "<Figure size 432x288 with 1 Axes>"
      ]
     },
     "metadata": {
      "needs_background": "light"
     },
     "output_type": "display_data"
    }
   ],
   "source": [
    "fig = plt.figure(figsize=(20,20))\n",
    "i=1\n",
    "for col in df.columns[6:9]:\n",
    "    fig.add_subplot(15,2,i)\n",
    "    sns.countplot(y=col, hue='readmitted', data=df)\n",
    "    i=i+1\n",
    "    plt.show()\n"
   ]
  },
  {
   "cell_type": "code",
   "execution_count": 32,
   "metadata": {
    "slideshow": {
     "slide_type": "subslide"
    }
   },
   "outputs": [
    {
     "data": {
      "image/png": "[encoded data removed]",
      "text/plain": [
       "<Figure size 1440x1440 with 1 Axes>"
      ]
     },
     "metadata": {
      "needs_background": "light"
     },
     "output_type": "display_data"
    },
    {
     "data": {
      "image/png": "[encoded data removed]",
      "text/plain": [
       "<Figure size 432x288 with 1 Axes>"
      ]
     },
     "metadata": {
      "needs_background": "light"
     },
     "output_type": "display_data"
    },
    {
     "data": {
      "image/png": "[encoded data removed]",
      "text/plain": [
       "<Figure size 432x288 with 1 Axes>"
      ]
     },
     "metadata": {
      "needs_background": "light"
     },
     "output_type": "display_data"
    }
   ],
   "source": [
    "fig = plt.figure(figsize=(20,20))\n",
    "i=1\n",
    "for col in df.columns[9:12]:\n",
    "    fig.add_subplot(15,2,i)\n",
    "    sns.countplot(y=col, hue='readmitted', data=df)\n",
    "    i=i+1\n",
    "    plt.show()\n"
   ]
  },
  {
   "cell_type": "code",
   "execution_count": 33,
   "metadata": {
    "slideshow": {
     "slide_type": "subslide"
    }
   },
   "outputs": [
    {
     "data": {
      "image/png": "[encoded data removed]",
      "text/plain": [
       "<Figure size 1440x1440 with 1 Axes>"
      ]
     },
     "metadata": {
      "needs_background": "light"
     },
     "output_type": "display_data"
    }
   ],
   "source": [
    "fig = plt.figure(figsize=(20,20))\n",
    "i=1\n",
    "for col in df.columns[12:]:\n",
    "    fig.add_subplot(15,2,i)\n",
    "    sns.countplot(y=col, hue='readmitted', data=df)\n",
    "    i=i+1\n",
    "    plt.show()\n"
   ]
  },
  {
   "cell_type": "markdown",
   "metadata": {
    "slideshow": {
     "slide_type": "slide"
    }
   },
   "source": [
    "# Collinearity of Features"
   ]
  },
  {
   "cell_type": "markdown",
   "metadata": {
    "slideshow": {
     "slide_type": "fragment"
    }
   },
   "source": [
    "### Chi-square test p-values are all < .05"
   ]
  },
  {
   "cell_type": "code",
   "execution_count": 82,
   "metadata": {
    "scrolled": false,
    "slideshow": {
     "slide_type": "fragment"
    }
   },
   "outputs": [
    {
     "data": {
      "text/plain": [
       "Text(0.5, 1, 'Correlation matrix')"
      ]
     },
     "execution_count": 82,
     "metadata": {},
     "output_type": "execute_result"
    },
    {
     "data": {
      "image/png": "[encoded data removed]",
      "text/plain": [
       "<Figure size 1800x504 with 2 Axes>"
      ]
     },
     "metadata": {
      "needs_background": "light"
     },
     "output_type": "display_data"
    }
   ],
   "source": [
    "plt.figure(figsize=(25,7))\n",
    "sns.heatmap(df.corr(), square=True, annot=True, linewidths=3)\n",
    "b, t = plt.ylim()\n",
    "b += 0.5\n",
    "t -= 0.5\n",
    "plt.ylim(b, t)\n",
    "plt.title('Correlation matrix')"
   ]
  },
  {
   "cell_type": "code",
   "execution_count": 35,
   "metadata": {
    "slideshow": {
     "slide_type": "skip"
    }
   },
   "outputs": [],
   "source": [
    "col_to_dummy = ['gender','change','insulin','A1Cresult','diag_1']\n",
    "\n",
    "numeric_features = ['num_lab_procedures','number_diabetes_meds','time_in_hospital_past',\n",
    "              'time_in_hospital', 'num_procedures', 'num_medications',\n",
    "              'number_diagnoses']\n",
    "\n",
    "final_df = df.copy()\n",
    "\n",
    "final_df = pd.concat([df, pd.get_dummies(df[col_to_dummy], drop_first=True)], axis=1)\n",
    "final_df = final_df.drop(col_to_dummy, axis=1)\n",
    "y = final_df.readmitted\n",
    "x = final_df.drop('readmitted', axis=1)"
   ]
  },
  {
   "cell_type": "markdown",
   "metadata": {
    "slideshow": {
     "slide_type": "slide"
    }
   },
   "source": [
    "# Data Preprocessing\n",
    "\n",
    "## Get Dummies for categorical features\n",
    "\n",
    "## Standard scaler for numerical features"
   ]
  },
  {
   "cell_type": "code",
   "execution_count": 36,
   "metadata": {
    "slideshow": {
     "slide_type": "skip"
    }
   },
   "outputs": [],
   "source": [
    "x_train, x_test, y_train, y_test = train_test_split(x, y, test_size=0.2, random_state=30)\n",
    "\n",
    "minmax=MinMaxScaler()\n",
    "scaler = StandardScaler()\n",
    "\n",
    "#scaler.fit(x_train[numeric_features])\n",
    "#minmax.fit(x_train[numeric_features])\n",
    "\n",
    "x_train[numeric_features] = scaler.fit_transform(x_train[numeric_features])\n",
    "x_test[numeric_features] = scaler.transform(x_test[numeric_features])\n",
    "\n",
    "#x_train_mm[numeric_features] = minmax.fit_transform(x_train[numeric_features])\n",
    "#x_test_mm[numeric_features] = minmax.transform(x_test[numeric_features])"
   ]
  },
  {
   "cell_type": "code",
   "execution_count": 37,
   "metadata": {
    "slideshow": {
     "slide_type": "fragment"
    }
   },
   "outputs": [
    {
     "data": {
      "text/html": [
       "<div>\n",
       "<style scoped>\n",
       "    .dataframe tbody tr th:only-of-type {\n",
       "        vertical-align: middle;\n",
       "    }\n",
       "\n",
       "    .dataframe tbody tr th {\n",
       "        vertical-align: top;\n",
       "    }\n",
       "\n",
       "    .dataframe thead th {\n",
       "        text-align: right;\n",
       "    }\n",
       "</style>\n",
       "<table border=\"1\" class=\"dataframe\">\n",
       "  <thead>\n",
       "    <tr style=\"text-align: right;\">\n",
       "      <th></th>\n",
       "      <th>time_in_hospital</th>\n",
       "      <th>num_lab_procedures</th>\n",
       "      <th>num_procedures</th>\n",
       "      <th>num_medications</th>\n",
       "      <th>number_diagnoses</th>\n",
       "      <th>time_in_hospital_past</th>\n",
       "      <th>number_diabetes_meds</th>\n",
       "      <th>gender_Male</th>\n",
       "      <th>change_yes</th>\n",
       "      <th>insulin_No</th>\n",
       "      <th>insulin_Steady</th>\n",
       "      <th>insulin_Up</th>\n",
       "      <th>A1Cresult_Taken</th>\n",
       "      <th>diag_1_Diabetes</th>\n",
       "      <th>diag_1_Digestive</th>\n",
       "      <th>diag_1_Genitourinary</th>\n",
       "      <th>diag_1_Musculoskeletal</th>\n",
       "      <th>diag_1_Neoplasm</th>\n",
       "      <th>diag_1_Other</th>\n",
       "      <th>diag_1_Respiratory</th>\n",
       "    </tr>\n",
       "  </thead>\n",
       "  <tbody>\n",
       "    <tr>\n",
       "      <td>47923</td>\n",
       "      <td>1.526392</td>\n",
       "      <td>0.245260</td>\n",
       "      <td>0.964392</td>\n",
       "      <td>1.828795</td>\n",
       "      <td>0.811208</td>\n",
       "      <td>-0.097721</td>\n",
       "      <td>-0.192540</td>\n",
       "      <td>1</td>\n",
       "      <td>0</td>\n",
       "      <td>0</td>\n",
       "      <td>1</td>\n",
       "      <td>0</td>\n",
       "      <td>0</td>\n",
       "      <td>0</td>\n",
       "      <td>0</td>\n",
       "      <td>0</td>\n",
       "      <td>0</td>\n",
       "      <td>1</td>\n",
       "      <td>0</td>\n",
       "      <td>0</td>\n",
       "    </tr>\n",
       "    <tr>\n",
       "      <td>84592</td>\n",
       "      <td>0.525873</td>\n",
       "      <td>-0.109684</td>\n",
       "      <td>-0.790196</td>\n",
       "      <td>-0.508364</td>\n",
       "      <td>0.811208</td>\n",
       "      <td>-0.526861</td>\n",
       "      <td>0.892447</td>\n",
       "      <td>1</td>\n",
       "      <td>1</td>\n",
       "      <td>0</td>\n",
       "      <td>1</td>\n",
       "      <td>0</td>\n",
       "      <td>0</td>\n",
       "      <td>0</td>\n",
       "      <td>0</td>\n",
       "      <td>1</td>\n",
       "      <td>0</td>\n",
       "      <td>0</td>\n",
       "      <td>0</td>\n",
       "      <td>0</td>\n",
       "    </tr>\n",
       "    <tr>\n",
       "      <td>20292</td>\n",
       "      <td>1.526392</td>\n",
       "      <td>1.766453</td>\n",
       "      <td>-0.790196</td>\n",
       "      <td>0.475703</td>\n",
       "      <td>0.811208</td>\n",
       "      <td>-0.526861</td>\n",
       "      <td>-0.192540</td>\n",
       "      <td>0</td>\n",
       "      <td>0</td>\n",
       "      <td>0</td>\n",
       "      <td>1</td>\n",
       "      <td>0</td>\n",
       "      <td>1</td>\n",
       "      <td>0</td>\n",
       "      <td>0</td>\n",
       "      <td>0</td>\n",
       "      <td>0</td>\n",
       "      <td>0</td>\n",
       "      <td>0</td>\n",
       "      <td>0</td>\n",
       "    </tr>\n",
       "    <tr>\n",
       "      <td>21604</td>\n",
       "      <td>1.526392</td>\n",
       "      <td>0.143848</td>\n",
       "      <td>2.718980</td>\n",
       "      <td>1.213753</td>\n",
       "      <td>0.811208</td>\n",
       "      <td>-0.526861</td>\n",
       "      <td>-0.192540</td>\n",
       "      <td>0</td>\n",
       "      <td>0</td>\n",
       "      <td>1</td>\n",
       "      <td>0</td>\n",
       "      <td>0</td>\n",
       "      <td>0</td>\n",
       "      <td>0</td>\n",
       "      <td>0</td>\n",
       "      <td>0</td>\n",
       "      <td>0</td>\n",
       "      <td>0</td>\n",
       "      <td>0</td>\n",
       "      <td>0</td>\n",
       "    </tr>\n",
       "    <tr>\n",
       "      <td>73936</td>\n",
       "      <td>-0.141139</td>\n",
       "      <td>0.904444</td>\n",
       "      <td>-0.790196</td>\n",
       "      <td>-0.262348</td>\n",
       "      <td>0.811208</td>\n",
       "      <td>4.193680</td>\n",
       "      <td>-0.192540</td>\n",
       "      <td>1</td>\n",
       "      <td>1</td>\n",
       "      <td>0</td>\n",
       "      <td>0</td>\n",
       "      <td>1</td>\n",
       "      <td>0</td>\n",
       "      <td>0</td>\n",
       "      <td>0</td>\n",
       "      <td>0</td>\n",
       "      <td>0</td>\n",
       "      <td>0</td>\n",
       "      <td>0</td>\n",
       "      <td>1</td>\n",
       "    </tr>\n",
       "    <tr>\n",
       "      <td>...</td>\n",
       "      <td>...</td>\n",
       "      <td>...</td>\n",
       "      <td>...</td>\n",
       "      <td>...</td>\n",
       "      <td>...</td>\n",
       "      <td>...</td>\n",
       "      <td>...</td>\n",
       "      <td>...</td>\n",
       "      <td>...</td>\n",
       "      <td>...</td>\n",
       "      <td>...</td>\n",
       "      <td>...</td>\n",
       "      <td>...</td>\n",
       "      <td>...</td>\n",
       "      <td>...</td>\n",
       "      <td>...</td>\n",
       "      <td>...</td>\n",
       "      <td>...</td>\n",
       "      <td>...</td>\n",
       "      <td>...</td>\n",
       "    </tr>\n",
       "    <tr>\n",
       "      <td>69053</td>\n",
       "      <td>0.859380</td>\n",
       "      <td>0.093141</td>\n",
       "      <td>-0.790196</td>\n",
       "      <td>-0.262348</td>\n",
       "      <td>0.811208</td>\n",
       "      <td>0.331420</td>\n",
       "      <td>-0.192540</td>\n",
       "      <td>0</td>\n",
       "      <td>1</td>\n",
       "      <td>0</td>\n",
       "      <td>0</td>\n",
       "      <td>0</td>\n",
       "      <td>0</td>\n",
       "      <td>0</td>\n",
       "      <td>0</td>\n",
       "      <td>0</td>\n",
       "      <td>0</td>\n",
       "      <td>0</td>\n",
       "      <td>1</td>\n",
       "      <td>0</td>\n",
       "    </tr>\n",
       "    <tr>\n",
       "      <td>48532</td>\n",
       "      <td>-0.808151</td>\n",
       "      <td>0.245260</td>\n",
       "      <td>2.134117</td>\n",
       "      <td>0.844728</td>\n",
       "      <td>0.811208</td>\n",
       "      <td>-0.526861</td>\n",
       "      <td>0.892447</td>\n",
       "      <td>1</td>\n",
       "      <td>1</td>\n",
       "      <td>0</td>\n",
       "      <td>1</td>\n",
       "      <td>0</td>\n",
       "      <td>1</td>\n",
       "      <td>0</td>\n",
       "      <td>0</td>\n",
       "      <td>0</td>\n",
       "      <td>0</td>\n",
       "      <td>0</td>\n",
       "      <td>0</td>\n",
       "      <td>1</td>\n",
       "    </tr>\n",
       "    <tr>\n",
       "      <td>50377</td>\n",
       "      <td>-0.808151</td>\n",
       "      <td>-1.985822</td>\n",
       "      <td>-0.790196</td>\n",
       "      <td>-0.385356</td>\n",
       "      <td>0.811208</td>\n",
       "      <td>-0.526861</td>\n",
       "      <td>-1.277526</td>\n",
       "      <td>0</td>\n",
       "      <td>0</td>\n",
       "      <td>1</td>\n",
       "      <td>0</td>\n",
       "      <td>0</td>\n",
       "      <td>0</td>\n",
       "      <td>0</td>\n",
       "      <td>0</td>\n",
       "      <td>0</td>\n",
       "      <td>0</td>\n",
       "      <td>0</td>\n",
       "      <td>0</td>\n",
       "      <td>1</td>\n",
       "    </tr>\n",
       "    <tr>\n",
       "      <td>72724</td>\n",
       "      <td>-0.141139</td>\n",
       "      <td>0.448086</td>\n",
       "      <td>1.549254</td>\n",
       "      <td>1.459770</td>\n",
       "      <td>0.811208</td>\n",
       "      <td>-0.097721</td>\n",
       "      <td>-1.277526</td>\n",
       "      <td>0</td>\n",
       "      <td>0</td>\n",
       "      <td>1</td>\n",
       "      <td>0</td>\n",
       "      <td>0</td>\n",
       "      <td>1</td>\n",
       "      <td>0</td>\n",
       "      <td>0</td>\n",
       "      <td>0</td>\n",
       "      <td>0</td>\n",
       "      <td>0</td>\n",
       "      <td>0</td>\n",
       "      <td>1</td>\n",
       "    </tr>\n",
       "    <tr>\n",
       "      <td>40892</td>\n",
       "      <td>-1.141657</td>\n",
       "      <td>-0.464629</td>\n",
       "      <td>0.964392</td>\n",
       "      <td>-0.631373</td>\n",
       "      <td>0.265760</td>\n",
       "      <td>-0.526861</td>\n",
       "      <td>-0.192540</td>\n",
       "      <td>0</td>\n",
       "      <td>0</td>\n",
       "      <td>1</td>\n",
       "      <td>0</td>\n",
       "      <td>0</td>\n",
       "      <td>0</td>\n",
       "      <td>0</td>\n",
       "      <td>0</td>\n",
       "      <td>0</td>\n",
       "      <td>0</td>\n",
       "      <td>0</td>\n",
       "      <td>0</td>\n",
       "      <td>0</td>\n",
       "    </tr>\n",
       "  </tbody>\n",
       "</table>\n",
       "<p>78441 rows × 20 columns</p>\n",
       "</div>"
      ],
      "text/plain": [
       "       time_in_hospital  num_lab_procedures  num_procedures  num_medications  \\\n",
       "47923          1.526392            0.245260        0.964392         1.828795   \n",
       "84592          0.525873           -0.109684       -0.790196        -0.508364   \n",
       "20292          1.526392            1.766453       -0.790196         0.475703   \n",
       "21604          1.526392            0.143848        2.718980         1.213753   \n",
       "73936         -0.141139            0.904444       -0.790196        -0.262348   \n",
       "...                 ...                 ...             ...              ...   \n",
       "69053          0.859380            0.093141       -0.790196        -0.262348   \n",
       "48532         -0.808151            0.245260        2.134117         0.844728   \n",
       "50377         -0.808151           -1.985822       -0.790196        -0.385356   \n",
       "72724         -0.141139            0.448086        1.549254         1.459770   \n",
       "40892         -1.141657           -0.464629        0.964392        -0.631373   \n",
       "\n",
       "       number_diagnoses  time_in_hospital_past  number_diabetes_meds  \\\n",
       "47923          0.811208              -0.097721             -0.192540   \n",
       "84592          0.811208              -0.526861              0.892447   \n",
       "20292          0.811208              -0.526861             -0.192540   \n",
       "21604          0.811208              -0.526861             -0.192540   \n",
       "73936          0.811208               4.193680             -0.192540   \n",
       "...                 ...                    ...                   ...   \n",
       "69053          0.811208               0.331420             -0.192540   \n",
       "48532          0.811208              -0.526861              0.892447   \n",
       "50377          0.811208              -0.526861             -1.277526   \n",
       "72724          0.811208              -0.097721             -1.277526   \n",
       "40892          0.265760              -0.526861             -0.192540   \n",
       "\n",
       "       gender_Male  change_yes  insulin_No  insulin_Steady  insulin_Up  \\\n",
       "47923            1           0           0               1           0   \n",
       "84592            1           1           0               1           0   \n",
       "20292            0           0           0               1           0   \n",
       "21604            0           0           1               0           0   \n",
       "73936            1           1           0               0           1   \n",
       "...            ...         ...         ...             ...         ...   \n",
       "69053            0           1           0               0           0   \n",
       "48532            1           1           0               1           0   \n",
       "50377            0           0           1               0           0   \n",
       "72724            0           0           1               0           0   \n",
       "40892            0           0           1               0           0   \n",
       "\n",
       "       A1Cresult_Taken  diag_1_Diabetes  diag_1_Digestive  \\\n",
       "47923                0                0                 0   \n",
       "84592                0                0                 0   \n",
       "20292                1                0                 0   \n",
       "21604                0                0                 0   \n",
       "73936                0                0                 0   \n",
       "...                ...              ...               ...   \n",
       "69053                0                0                 0   \n",
       "48532                1                0                 0   \n",
       "50377                0                0                 0   \n",
       "72724                1                0                 0   \n",
       "40892                0                0                 0   \n",
       "\n",
       "       diag_1_Genitourinary  diag_1_Musculoskeletal  diag_1_Neoplasm  \\\n",
       "47923                     0                       0                1   \n",
       "84592                     1                       0                0   \n",
       "20292                     0                       0                0   \n",
       "21604                     0                       0                0   \n",
       "73936                     0                       0                0   \n",
       "...                     ...                     ...              ...   \n",
       "69053                     0                       0                0   \n",
       "48532                     0                       0                0   \n",
       "50377                     0                       0                0   \n",
       "72724                     0                       0                0   \n",
       "40892                     0                       0                0   \n",
       "\n",
       "       diag_1_Other  diag_1_Respiratory  \n",
       "47923             0                   0  \n",
       "84592             0                   0  \n",
       "20292             0                   0  \n",
       "21604             0                   0  \n",
       "73936             0                   1  \n",
       "...             ...                 ...  \n",
       "69053             1                   0  \n",
       "48532             0                   1  \n",
       "50377             0                   1  \n",
       "72724             0                   1  \n",
       "40892             0                   0  \n",
       "\n",
       "[78441 rows x 20 columns]"
      ]
     },
     "execution_count": 37,
     "metadata": {},
     "output_type": "execute_result"
    }
   ],
   "source": [
    "x_train"
   ]
  },
  {
   "cell_type": "markdown",
   "metadata": {
    "slideshow": {
     "slide_type": "slide"
    }
   },
   "source": [
    "# KNN Model"
   ]
  },
  {
   "cell_type": "markdown",
   "metadata": {
    "slideshow": {
     "slide_type": "fragment"
    }
   },
   "source": [
    "## Accuracy Score: "
   ]
  },
  {
   "cell_type": "code",
   "execution_count": 38,
   "metadata": {
    "slideshow": {
     "slide_type": "skip"
    }
   },
   "outputs": [
    {
     "data": {
      "text/plain": [
       "KNeighborsClassifier(algorithm='auto', leaf_size=30, metric='minkowski',\n",
       "                     metric_params=None, n_jobs=None, n_neighbors=5, p=2,\n",
       "                     weights='uniform')"
      ]
     },
     "execution_count": 38,
     "metadata": {},
     "output_type": "execute_result"
    }
   ],
   "source": [
    "neighbors = KNeighborsClassifier(n_neighbors=5)\n",
    "\n",
    "neighbors.fit(x_train, y_train)\n"
   ]
  },
  {
   "cell_type": "code",
   "execution_count": 39,
   "metadata": {
    "slideshow": {
     "slide_type": "fragment"
    }
   },
   "outputs": [
    {
     "data": {
      "text/plain": [
       "0.5608077099586967"
      ]
     },
     "execution_count": 39,
     "metadata": {},
     "output_type": "execute_result"
    }
   ],
   "source": [
    "neighbors.score(x_test,y_test)"
   ]
  },
  {
   "cell_type": "markdown",
   "metadata": {
    "slideshow": {
     "slide_type": "slide"
    }
   },
   "source": [
    "# KNN Model (Weighted)"
   ]
  },
  {
   "cell_type": "code",
   "execution_count": 40,
   "metadata": {
    "slideshow": {
     "slide_type": "skip"
    }
   },
   "outputs": [
    {
     "data": {
      "text/plain": [
       "KNeighborsClassifier(algorithm='auto', leaf_size=30, metric='minkowski',\n",
       "                     metric_params=None, n_jobs=None, n_neighbors=313, p=2,\n",
       "                     weights='distance')"
      ]
     },
     "execution_count": 40,
     "metadata": {},
     "output_type": "execute_result"
    }
   ],
   "source": [
    "neighbors_weighted = KNeighborsClassifier(n_neighbors=313, weights = 'distance')\n",
    "\n",
    "neighbors_weighted.fit(x_train, y_train)"
   ]
  },
  {
   "cell_type": "markdown",
   "metadata": {
    "slideshow": {
     "slide_type": "fragment"
    }
   },
   "source": [
    "## Accuracy Score:"
   ]
  },
  {
   "cell_type": "code",
   "execution_count": 41,
   "metadata": {
    "slideshow": {
     "slide_type": "fragment"
    }
   },
   "outputs": [
    {
     "data": {
      "text/plain": [
       "0.6093009025546887"
      ]
     },
     "execution_count": 41,
     "metadata": {},
     "output_type": "execute_result"
    }
   ],
   "source": [
    "neighbors_weighted.score(x_test,y_test)"
   ]
  },
  {
   "cell_type": "markdown",
   "metadata": {
    "slideshow": {
     "slide_type": "slide"
    }
   },
   "source": [
    "# Support Vector Classifier Model"
   ]
  },
  {
   "cell_type": "markdown",
   "metadata": {
    "slideshow": {
     "slide_type": "fragment"
    }
   },
   "source": [
    "## Accuracy Score:"
   ]
  },
  {
   "cell_type": "code",
   "execution_count": 42,
   "metadata": {
    "slideshow": {
     "slide_type": "fragment"
    }
   },
   "outputs": [
    {
     "data": {
      "text/plain": [
       "0.621487940441589"
      ]
     },
     "execution_count": 42,
     "metadata": {},
     "output_type": "execute_result"
    }
   ],
   "source": [
    "svm = SVC()\n",
    "svm.fit(x_train, y_train)\n",
    "svm.score(x_test, y_test)"
   ]
  },
  {
   "cell_type": "markdown",
   "metadata": {
    "slideshow": {
     "slide_type": "fragment"
    }
   },
   "source": [
    "## Cross-validation Score:"
   ]
  },
  {
   "cell_type": "code",
   "execution_count": 43,
   "metadata": {
    "slideshow": {
     "slide_type": "fragment"
    }
   },
   "outputs": [
    {
     "data": {
      "text/plain": [
       "array([0.58043955, 0.5969099 , 0.58021418, 0.61346252, 0.61922489])"
      ]
     },
     "execution_count": 43,
     "metadata": {},
     "output_type": "execute_result"
    }
   ],
   "source": [
    "cross_val_score(svm,x,y,cv=5)"
   ]
  },
  {
   "cell_type": "markdown",
   "metadata": {
    "slideshow": {
     "slide_type": "subslide"
    }
   },
   "source": [
    "## SVC Accuracy Report:"
   ]
  },
  {
   "cell_type": "code",
   "execution_count": 44,
   "metadata": {
    "slideshow": {
     "slide_type": "fragment"
    }
   },
   "outputs": [
    {
     "name": "stdout",
     "output_type": "stream",
     "text": [
      "Accuracy is 0.62\n",
      "              precision    recall  f1-score   support\n",
      "\n",
      "          NO       0.62      0.74      0.68     10510\n",
      "         Yes       0.62      0.49      0.55      9101\n",
      "\n",
      "    accuracy                           0.62     19611\n",
      "   macro avg       0.62      0.61      0.61     19611\n",
      "weighted avg       0.62      0.62      0.62     19611\n",
      "\n"
     ]
    }
   ],
   "source": [
    "y_pred_svm = svm.predict(x_test)\n",
    "print(\"Accuracy is {0:.2f}\".format(accuracy_score(y_test, y_pred_svm)))\n",
    "print(classification_report(y_test, y_pred_svm))"
   ]
  },
  {
   "cell_type": "markdown",
   "metadata": {
    "slideshow": {
     "slide_type": "slide"
    }
   },
   "source": [
    "# Gradient Boosting Model"
   ]
  },
  {
   "cell_type": "markdown",
   "metadata": {
    "slideshow": {
     "slide_type": "fragment"
    }
   },
   "source": [
    "## Accuracy Score:"
   ]
  },
  {
   "cell_type": "code",
   "execution_count": 45,
   "metadata": {
    "slideshow": {
     "slide_type": "fragment"
    }
   },
   "outputs": [
    {
     "data": {
      "text/plain": [
       "0.6218559171861654"
      ]
     },
     "execution_count": 45,
     "metadata": {},
     "output_type": "execute_result"
    }
   ],
   "source": [
    "#boosted classifier\n",
    "params = {'n_estimators': 100}\n",
    "\n",
    "# Initialize and fit the model.\n",
    "clf = ensemble.GradientBoostingClassifier(**params)\n",
    "clf.fit(x_train, y_train)\n",
    "clf.score(x_train, y_train)"
   ]
  },
  {
   "cell_type": "markdown",
   "metadata": {
    "slideshow": {
     "slide_type": "fragment"
    }
   },
   "source": [
    "## Cross-validation Score:"
   ]
  },
  {
   "cell_type": "code",
   "execution_count": 46,
   "metadata": {
    "slideshow": {
     "slide_type": "fragment"
    }
   },
   "outputs": [
    {
     "data": {
      "text/plain": [
       "array([0.61047371, 0.61526694, 0.60015298, 0.62442631, 0.627231  ])"
      ]
     },
     "execution_count": 46,
     "metadata": {},
     "output_type": "execute_result"
    }
   ],
   "source": [
    "cross_val_score(clf,x,y,cv=5)"
   ]
  },
  {
   "cell_type": "code",
   "execution_count": 47,
   "metadata": {
    "slideshow": {
     "slide_type": "skip"
    }
   },
   "outputs": [
    {
     "name": "stdout",
     "output_type": "stream",
     "text": [
      "                        importance\n",
      "time_in_hospital_past     0.696386\n",
      "number_diagnoses          0.061448\n",
      "num_medications           0.045018\n",
      "num_lab_procedures        0.039486\n",
      "num_procedures            0.034691\n",
      "number_diabetes_meds      0.034159\n",
      "time_in_hospital          0.029679\n",
      "diag_1_Neoplasm           0.018953\n",
      "diag_1_Diabetes           0.013299\n",
      "insulin_Steady            0.008808\n",
      "diag_1_Other              0.004918\n",
      "A1Cresult_Taken           0.003483\n",
      "diag_1_Genitourinary      0.002840\n",
      "diag_1_Respiratory        0.002095\n",
      "diag_1_Musculoskeletal    0.001972\n",
      "gender_Male               0.001896\n",
      "diag_1_Digestive          0.000476\n",
      "insulin_No                0.000262\n",
      "insulin_Up                0.000130\n",
      "change_yes                0.000000\n"
     ]
    }
   ],
   "source": [
    "feature_importances = pd.DataFrame(clf.feature_importances_,\n",
    "                                   index = x_train.columns,\n",
    "                                    columns=['importance']).sort_values('importance', ascending=False)\n",
    "print(feature_importances)"
   ]
  },
  {
   "cell_type": "markdown",
   "metadata": {
    "slideshow": {
     "slide_type": "subslide"
    }
   },
   "source": [
    "## Gradient Boosting Accuracy Report:"
   ]
  },
  {
   "cell_type": "code",
   "execution_count": 48,
   "metadata": {
    "slideshow": {
     "slide_type": "fragment"
    }
   },
   "outputs": [
    {
     "name": "stdout",
     "output_type": "stream",
     "text": [
      "Accuracy is 0.62\n",
      "              precision    recall  f1-score   support\n",
      "\n",
      "          NO       0.63      0.73      0.67     10510\n",
      "         Yes       0.61      0.50      0.55      9101\n",
      "\n",
      "    accuracy                           0.62     19611\n",
      "   macro avg       0.62      0.61      0.61     19611\n",
      "weighted avg       0.62      0.62      0.62     19611\n",
      "\n"
     ]
    }
   ],
   "source": [
    "y_pred_clf = clf.predict(x_test)\n",
    "print(\"Accuracy is {0:.2f}\".format(accuracy_score(y_test, y_pred_clf)))\n",
    "print(classification_report(y_test, y_pred_clf))\n"
   ]
  },
  {
   "cell_type": "markdown",
   "metadata": {
    "slideshow": {
     "slide_type": "slide"
    }
   },
   "source": [
    "# Random Forest Classifier"
   ]
  },
  {
   "cell_type": "markdown",
   "metadata": {
    "slideshow": {
     "slide_type": "fragment"
    }
   },
   "source": [
    "## Accuracy Score:"
   ]
  },
  {
   "cell_type": "code",
   "execution_count": 49,
   "metadata": {
    "slideshow": {
     "slide_type": "fragment"
    }
   },
   "outputs": [
    {
     "data": {
      "text/plain": [
       "0.6002753556677375"
      ]
     },
     "execution_count": 49,
     "metadata": {},
     "output_type": "execute_result"
    }
   ],
   "source": [
    "#random forest classifier\n",
    "rfc = ensemble.RandomForestClassifier(n_estimators=300)\n",
    "rfc.fit(x_train, y_train)\n",
    "rfc.score(x_test,y_test)"
   ]
  },
  {
   "cell_type": "markdown",
   "metadata": {
    "slideshow": {
     "slide_type": "fragment"
    }
   },
   "source": [
    "## Cross-validation Score:"
   ]
  },
  {
   "cell_type": "code",
   "execution_count": 50,
   "metadata": {
    "slideshow": {
     "slide_type": "fragment"
    }
   },
   "outputs": [
    {
     "data": {
      "text/plain": [
       "array([0.58533476, 0.59767477, 0.58072412, 0.59377868, 0.59490056])"
      ]
     },
     "execution_count": 50,
     "metadata": {},
     "output_type": "execute_result"
    }
   ],
   "source": [
    "cross_val_score(rfc,x,y,cv=5)"
   ]
  },
  {
   "cell_type": "markdown",
   "metadata": {
    "slideshow": {
     "slide_type": "subslide"
    }
   },
   "source": [
    "## Random Forest Classifier Feature Importance:"
   ]
  },
  {
   "cell_type": "code",
   "execution_count": 51,
   "metadata": {
    "slideshow": {
     "slide_type": "fragment"
    }
   },
   "outputs": [
    {
     "name": "stdout",
     "output_type": "stream",
     "text": [
      "                        importance\n",
      "num_lab_procedures        0.243991\n",
      "num_medications           0.188414\n",
      "time_in_hospital          0.126299\n",
      "time_in_hospital_past     0.085010\n",
      "number_diagnoses          0.071344\n",
      "num_procedures            0.068100\n",
      "number_diabetes_meds      0.040701\n",
      "gender_Male               0.030529\n",
      "diag_1_Other              0.019804\n",
      "A1Cresult_Taken           0.019236\n",
      "diag_1_Respiratory        0.015586\n",
      "diag_1_Digestive          0.014450\n",
      "change_yes                0.012070\n",
      "insulin_No                0.011595\n",
      "insulin_Steady            0.011535\n",
      "diag_1_Genitourinary      0.009720\n",
      "insulin_Up                0.009654\n",
      "diag_1_Diabetes           0.009179\n",
      "diag_1_Musculoskeletal    0.007390\n",
      "diag_1_Neoplasm           0.005393\n"
     ]
    }
   ],
   "source": [
    "feature_importances = pd.DataFrame(rfc.feature_importances_,\n",
    "                                   index = x_train.columns,\n",
    "                                    columns=['importance']).sort_values('importance', ascending=False)\n",
    "print(feature_importances)"
   ]
  },
  {
   "cell_type": "markdown",
   "metadata": {
    "slideshow": {
     "slide_type": "subslide"
    }
   },
   "source": [
    "## Random Forest Classifier Accuracy Report:"
   ]
  },
  {
   "cell_type": "code",
   "execution_count": 52,
   "metadata": {
    "slideshow": {
     "slide_type": "fragment"
    }
   },
   "outputs": [
    {
     "name": "stdout",
     "output_type": "stream",
     "text": [
      "Accuracy is 0.60\n",
      "              precision    recall  f1-score   support\n",
      "\n",
      "          NO       0.62      0.66      0.64     10510\n",
      "         Yes       0.57      0.53      0.55      9101\n",
      "\n",
      "    accuracy                           0.60     19611\n",
      "   macro avg       0.60      0.60      0.60     19611\n",
      "weighted avg       0.60      0.60      0.60     19611\n",
      "\n"
     ]
    }
   ],
   "source": [
    "y_pred_rfc = rfc.predict(x_test)\n",
    "print(\"Accuracy is {0:.2f}\".format(accuracy_score(y_test, y_pred_rfc)))\n",
    "print(classification_report(y_test, y_pred_rfc))\n"
   ]
  },
  {
   "cell_type": "markdown",
   "metadata": {
    "slideshow": {
     "slide_type": "slide"
    }
   },
   "source": [
    "# Multi-layer Perceptron Classifier"
   ]
  },
  {
   "cell_type": "code",
   "execution_count": 54,
   "metadata": {
    "slideshow": {
     "slide_type": "skip"
    }
   },
   "outputs": [
    {
     "name": "stdout",
     "output_type": "stream",
     "text": [
      "Iteration 1, loss = 0.65842655\n",
      "Validation score: 0.615424\n",
      "Iteration 2, loss = 0.65244584\n",
      "Validation score: 0.614914\n",
      "Iteration 3, loss = 0.65130510\n",
      "Validation score: 0.618993\n",
      "Iteration 4, loss = 0.64979713\n",
      "Validation score: 0.619120\n",
      "Iteration 5, loss = 0.64781951\n",
      "Validation score: 0.617718\n",
      "Iteration 6, loss = 0.64706572\n",
      "Validation score: 0.614914\n",
      "Iteration 7, loss = 0.64535352\n",
      "Validation score: 0.611727\n",
      "Iteration 8, loss = 0.64323509\n",
      "Validation score: 0.613512\n",
      "Iteration 9, loss = 0.64151692\n",
      "Validation score: 0.613639\n",
      "Iteration 10, loss = 0.63916286\n",
      "Validation score: 0.611600\n",
      "Iteration 11, loss = 0.63575718\n",
      "Validation score: 0.607776\n",
      "Iteration 12, loss = 0.63266133\n",
      "Validation score: 0.611472\n",
      "Iteration 13, loss = 0.62834144\n",
      "Validation score: 0.607138\n",
      "Iteration 14, loss = 0.62223466\n",
      "Validation score: 0.600510\n",
      "Iteration 15, loss = 0.61547738\n",
      "Validation score: 0.601530\n",
      "Validation score did not improve more than tol=0.000100 for 10 consecutive epochs. Stopping.\n"
     ]
    },
    {
     "data": {
      "text/plain": [
       "MLPClassifier(activation='relu', alpha=0.0001, batch_size='auto', beta_1=0.9,\n",
       "              beta_2=0.999, early_stopping=True, epsilon=1e-08,\n",
       "              hidden_layer_sizes=(1000, 1000, 1000), learning_rate='adaptive',\n",
       "              learning_rate_init=0.001, max_fun=15000, max_iter=200,\n",
       "              momentum=0.9, n_iter_no_change=10, nesterovs_momentum=True,\n",
       "              power_t=0.5, random_state=None, shuffle=True, solver='adam',\n",
       "              tol=0.0001, validation_fraction=0.1, verbose=True,\n",
       "              warm_start=False)"
      ]
     },
     "execution_count": 54,
     "metadata": {},
     "output_type": "execute_result"
    }
   ],
   "source": [
    "mlp = MLPClassifier(hidden_layer_sizes=(1000,1000,1000), early_stopping=True,verbose=True,learning_rate='adaptive')\n",
    "mlp.fit(x_train, y_train)"
   ]
  },
  {
   "cell_type": "markdown",
   "metadata": {
    "slideshow": {
     "slide_type": "fragment"
    }
   },
   "source": [
    "## Accuracy Score:"
   ]
  },
  {
   "cell_type": "code",
   "execution_count": 55,
   "metadata": {
    "slideshow": {
     "slide_type": "fragment"
    }
   },
   "outputs": [
    {
     "data": {
      "text/plain": [
       "0.6224567844577024"
      ]
     },
     "execution_count": 55,
     "metadata": {},
     "output_type": "execute_result"
    }
   ],
   "source": [
    "mlp.score(x_test, y_test)"
   ]
  },
  {
   "cell_type": "markdown",
   "metadata": {
    "slideshow": {
     "slide_type": "skip"
    }
   },
   "source": [
    "## Cross-validation Score"
   ]
  },
  {
   "cell_type": "code",
   "execution_count": 56,
   "metadata": {
    "slideshow": {
     "slide_type": "skip"
    }
   },
   "outputs": [
    {
     "name": "stdout",
     "output_type": "stream",
     "text": [
      "Iteration 1, loss = 0.70730273\n",
      "Validation score: 0.611727\n",
      "Iteration 2, loss = 0.65878920\n",
      "Validation score: 0.618866\n",
      "Iteration 3, loss = 0.65545693\n",
      "Validation score: 0.617336\n",
      "Iteration 4, loss = 0.65410216\n",
      "Validation score: 0.619758\n",
      "Iteration 5, loss = 0.65322535\n",
      "Validation score: 0.624729\n",
      "Iteration 6, loss = 0.65313689\n",
      "Validation score: 0.622180\n",
      "Iteration 7, loss = 0.65274686\n",
      "Validation score: 0.620650\n",
      "Iteration 8, loss = 0.65168722\n",
      "Validation score: 0.613257\n",
      "Iteration 9, loss = 0.65181317\n",
      "Validation score: 0.619503\n",
      "Iteration 10, loss = 0.65122198\n",
      "Validation score: 0.625239\n",
      "Iteration 11, loss = 0.65051008\n",
      "Validation score: 0.623582\n",
      "Iteration 12, loss = 0.65068329\n",
      "Validation score: 0.622180\n",
      "Iteration 13, loss = 0.65010697\n",
      "Validation score: 0.622180\n",
      "Iteration 14, loss = 0.64968899\n",
      "Validation score: 0.625494\n",
      "Iteration 15, loss = 0.64891472\n",
      "Validation score: 0.624347\n",
      "Iteration 16, loss = 0.64809954\n",
      "Validation score: 0.624474\n",
      "Iteration 17, loss = 0.64802195\n",
      "Validation score: 0.622690\n",
      "Iteration 18, loss = 0.64798156\n",
      "Validation score: 0.624857\n",
      "Iteration 19, loss = 0.64770803\n",
      "Validation score: 0.621925\n",
      "Iteration 20, loss = 0.64703080\n",
      "Validation score: 0.629446\n",
      "Iteration 21, loss = 0.64580133\n",
      "Validation score: 0.624729\n",
      "Iteration 22, loss = 0.64581714\n",
      "Validation score: 0.624857\n",
      "Iteration 23, loss = 0.64522117\n",
      "Validation score: 0.624092\n",
      "Iteration 24, loss = 0.64487740\n",
      "Validation score: 0.626004\n",
      "Iteration 25, loss = 0.64405622\n",
      "Validation score: 0.624984\n",
      "Iteration 26, loss = 0.64377895\n",
      "Validation score: 0.627151\n",
      "Iteration 27, loss = 0.64245135\n",
      "Validation score: 0.621925\n",
      "Iteration 28, loss = 0.64175191\n",
      "Validation score: 0.627151\n",
      "Iteration 29, loss = 0.64104258\n",
      "Validation score: 0.625239\n",
      "Iteration 30, loss = 0.63958065\n",
      "Validation score: 0.621925\n",
      "Iteration 31, loss = 0.63892053\n",
      "Validation score: 0.622690\n",
      "Validation score did not improve more than tol=0.000100 for 10 consecutive epochs. Stopping.\n",
      "Iteration 1, loss = 0.70542956\n",
      "Validation score: 0.606628\n",
      "Iteration 2, loss = 0.65997776\n",
      "Validation score: 0.607393\n",
      "Iteration 3, loss = 0.65709091\n",
      "Validation score: 0.610325\n",
      "Iteration 4, loss = 0.65565256\n",
      "Validation score: 0.608540\n",
      "Iteration 5, loss = 0.65549361\n",
      "Validation score: 0.606628\n",
      "Iteration 6, loss = 0.65443404\n",
      "Validation score: 0.608668\n",
      "Iteration 7, loss = 0.65359148\n",
      "Validation score: 0.610070\n",
      "Iteration 8, loss = 0.65256404\n",
      "Validation score: 0.611217\n",
      "Iteration 9, loss = 0.65274061\n",
      "Validation score: 0.603824\n",
      "Iteration 10, loss = 0.65208622\n",
      "Validation score: 0.611855\n",
      "Iteration 11, loss = 0.65144629\n",
      "Validation score: 0.614149\n",
      "Iteration 12, loss = 0.65098122\n",
      "Validation score: 0.613894\n",
      "Iteration 13, loss = 0.65094742\n",
      "Validation score: 0.612874\n",
      "Iteration 14, loss = 0.65022350\n",
      "Validation score: 0.614914\n",
      "Iteration 15, loss = 0.64998132\n",
      "Validation score: 0.613639\n",
      "Iteration 16, loss = 0.64968839\n",
      "Validation score: 0.610707\n",
      "Iteration 17, loss = 0.64926195\n",
      "Validation score: 0.611345\n",
      "Iteration 18, loss = 0.64841441\n",
      "Validation score: 0.615169\n",
      "Iteration 19, loss = 0.64802301\n",
      "Validation score: 0.613002\n",
      "Iteration 20, loss = 0.64821761\n",
      "Validation score: 0.611345\n",
      "Iteration 21, loss = 0.64700003\n",
      "Validation score: 0.609305\n",
      "Iteration 22, loss = 0.64644977\n",
      "Validation score: 0.608413\n",
      "Iteration 23, loss = 0.64546600\n",
      "Validation score: 0.611217\n",
      "Iteration 24, loss = 0.64488633\n",
      "Validation score: 0.610070\n",
      "Iteration 25, loss = 0.64400567\n",
      "Validation score: 0.609050\n",
      "Iteration 26, loss = 0.64302129\n",
      "Validation score: 0.610453\n",
      "Iteration 27, loss = 0.64271013\n",
      "Validation score: 0.608923\n",
      "Iteration 28, loss = 0.64138793\n",
      "Validation score: 0.607903\n",
      "Iteration 29, loss = 0.64043556\n",
      "Validation score: 0.611600\n",
      "Validation score did not improve more than tol=0.000100 for 10 consecutive epochs. Stopping.\n",
      "Iteration 1, loss = inf\n",
      "Validation score: 0.620523\n",
      "Iteration 2, loss = 0.65573682\n",
      "Validation score: 0.630083\n",
      "Iteration 3, loss = 0.65350968\n",
      "Validation score: 0.630465\n",
      "Iteration 4, loss = 0.65312746\n",
      "Validation score: 0.627533\n",
      "Iteration 5, loss = 0.65262484\n",
      "Validation score: 0.623709\n",
      "Iteration 6, loss = 0.65143793\n",
      "Validation score: 0.632887\n",
      "Iteration 7, loss = 0.65123619\n",
      "Validation score: 0.629318\n",
      "Iteration 8, loss = 0.65122710\n",
      "Validation score: 0.632760\n",
      "Iteration 9, loss = 0.65048468\n",
      "Validation score: 0.633142\n",
      "Iteration 10, loss = 0.65031153\n",
      "Validation score: 0.631103\n",
      "Iteration 11, loss = 0.65005932\n",
      "Validation score: 0.633142\n",
      "Iteration 12, loss = 0.64995876\n",
      "Validation score: 0.631867\n",
      "Iteration 13, loss = 0.64928384\n",
      "Validation score: 0.633652\n",
      "Iteration 14, loss = 0.64871837\n",
      "Validation score: 0.633652\n",
      "Iteration 15, loss = 0.64828470\n",
      "Validation score: 0.624729\n",
      "Iteration 16, loss = 0.64768165\n",
      "Validation score: 0.628426\n",
      "Iteration 17, loss = 0.64701061\n",
      "Validation score: 0.629955\n",
      "Iteration 18, loss = 0.64676992\n",
      "Validation score: 0.633142\n",
      "Iteration 19, loss = 0.64617110\n",
      "Validation score: 0.633270\n",
      "Iteration 20, loss = 0.64604290\n",
      "Validation score: 0.629700\n",
      "Iteration 21, loss = 0.64555964\n",
      "Validation score: 0.632632\n",
      "Iteration 22, loss = 0.64460303\n",
      "Validation score: 0.629573\n",
      "Iteration 23, loss = 0.64440082\n",
      "Validation score: 0.634034\n",
      "Iteration 24, loss = 0.64395051\n",
      "Validation score: 0.627406\n",
      "Iteration 25, loss = 0.64309911\n",
      "Validation score: 0.629318\n",
      "Iteration 26, loss = 0.64220044\n",
      "Validation score: 0.632122\n",
      "Iteration 27, loss = 0.64139292\n",
      "Validation score: 0.635564\n",
      "Iteration 28, loss = 0.64100430\n",
      "Validation score: 0.631867\n",
      "Iteration 29, loss = 0.63930312\n",
      "Validation score: 0.630848\n",
      "Iteration 30, loss = 0.63917477\n",
      "Validation score: 0.632632\n",
      "Iteration 31, loss = 0.63847678\n",
      "Validation score: 0.632887\n",
      "Iteration 32, loss = 0.63787529\n",
      "Validation score: 0.629573\n",
      "Iteration 33, loss = 0.63622110\n",
      "Validation score: 0.632887\n",
      "Iteration 34, loss = 0.63497984\n",
      "Validation score: 0.635054\n",
      "Iteration 35, loss = 0.63414501\n",
      "Validation score: 0.629573\n",
      "Iteration 36, loss = 0.63266647\n",
      "Validation score: 0.628936\n",
      "Iteration 37, loss = 0.63164782\n",
      "Validation score: 0.630720\n",
      "Iteration 38, loss = 0.63004603\n",
      "Validation score: 0.624984\n",
      "Validation score did not improve more than tol=0.000100 for 10 consecutive epochs. Stopping.\n",
      "Iteration 1, loss = 0.72228265\n",
      "Validation score: 0.618611\n",
      "Iteration 2, loss = 0.65826930\n",
      "Validation score: 0.612874\n",
      "Iteration 3, loss = 0.65752140\n",
      "Validation score: 0.610962\n",
      "Iteration 4, loss = 0.65615484\n",
      "Validation score: 0.625494\n",
      "Iteration 5, loss = 0.65552827\n",
      "Validation score: 0.620395\n",
      "Iteration 6, loss = 0.65423300\n",
      "Validation score: 0.619375\n",
      "Iteration 7, loss = 0.65368215\n",
      "Validation score: 0.621287\n",
      "Iteration 8, loss = 0.65300521\n",
      "Validation score: 0.621670\n",
      "Iteration 9, loss = 0.65282617\n",
      "Validation score: 0.617973\n",
      "Iteration 10, loss = 0.65257466\n",
      "Validation score: 0.624347\n",
      "Iteration 11, loss = 0.65220660\n",
      "Validation score: 0.621797\n",
      "Iteration 12, loss = 0.65194041\n",
      "Validation score: 0.611090\n",
      "Iteration 13, loss = 0.65127579\n",
      "Validation score: 0.614659\n",
      "Iteration 14, loss = 0.65086364\n",
      "Validation score: 0.620650\n",
      "Iteration 15, loss = 0.65053149\n",
      "Validation score: 0.620523\n",
      "Validation score did not improve more than tol=0.000100 for 10 consecutive epochs. Stopping.\n",
      "Iteration 1, loss = 0.70607846\n",
      "Validation score: 0.618611\n",
      "Iteration 2, loss = 0.65996650\n",
      "Validation score: 0.619885\n",
      "Iteration 3, loss = 0.65809508\n",
      "Validation score: 0.616699\n",
      "Iteration 4, loss = 0.65737509\n",
      "Validation score: 0.624219\n",
      "Iteration 5, loss = 0.65700780\n",
      "Validation score: 0.622817\n",
      "Iteration 6, loss = 0.65613666\n",
      "Validation score: 0.619758\n",
      "Iteration 7, loss = 0.65566634\n",
      "Validation score: 0.620268\n",
      "Iteration 8, loss = 0.65546173\n",
      "Validation score: 0.625366\n",
      "Iteration 9, loss = 0.65443223\n",
      "Validation score: 0.621415\n",
      "Iteration 10, loss = 0.65429989\n",
      "Validation score: 0.623964\n",
      "Iteration 11, loss = 0.65373515\n",
      "Validation score: 0.624347\n",
      "Iteration 12, loss = 0.65400408\n",
      "Validation score: 0.620523\n",
      "Iteration 13, loss = 0.65331539\n",
      "Validation score: 0.622817\n",
      "Iteration 14, loss = 0.65200500\n",
      "Validation score: 0.621542\n",
      "Iteration 15, loss = 0.65214461\n",
      "Validation score: 0.624347\n",
      "Iteration 16, loss = 0.65188827\n",
      "Validation score: 0.624857\n",
      "Iteration 17, loss = 0.65162700\n",
      "Validation score: 0.624219\n",
      "Iteration 18, loss = 0.65045124\n",
      "Validation score: 0.623964\n",
      "Iteration 19, loss = 0.65009653\n",
      "Validation score: 0.620140\n",
      "Validation score did not improve more than tol=0.000100 for 10 consecutive epochs. Stopping.\n"
     ]
    },
    {
     "data": {
      "text/plain": [
       "array([0.61536893, 0.61465504, 0.60066293, 0.62524222, 0.62840388])"
      ]
     },
     "execution_count": 56,
     "metadata": {},
     "output_type": "execute_result"
    }
   ],
   "source": [
    "cross_val_score(mlp,x,y,cv=5)"
   ]
  },
  {
   "cell_type": "markdown",
   "metadata": {
    "slideshow": {
     "slide_type": "fragment"
    }
   },
   "source": [
    "# Accuracy Report"
   ]
  },
  {
   "cell_type": "code",
   "execution_count": 57,
   "metadata": {
    "slideshow": {
     "slide_type": "fragment"
    }
   },
   "outputs": [
    {
     "name": "stdout",
     "output_type": "stream",
     "text": [
      "Accuracy is 0.62\n",
      "              precision    recall  f1-score   support\n",
      "\n",
      "          NO       0.63      0.73      0.67     10510\n",
      "         Yes       0.62      0.50      0.55      9101\n",
      "\n",
      "    accuracy                           0.62     19611\n",
      "   macro avg       0.62      0.61      0.61     19611\n",
      "weighted avg       0.62      0.62      0.62     19611\n",
      "\n"
     ]
    }
   ],
   "source": [
    "y_pred_mlp = mlp.predict(x_test)\n",
    "print(\"Accuracy is {0:.2f}\".format(accuracy_score(y_test, y_pred_mlp)))\n",
    "print(classification_report(y_test, y_pred_mlp))\n"
   ]
  },
  {
   "cell_type": "markdown",
   "metadata": {
    "slideshow": {
     "slide_type": "slide"
    }
   },
   "source": [
    "# Best Model to Use:"
   ]
  },
  {
   "cell_type": "markdown",
   "metadata": {
    "slideshow": {
     "slide_type": "fragment"
    }
   },
   "source": [
    "## Gradient Boosting Model"
   ]
  },
  {
   "cell_type": "markdown",
   "metadata": {
    "slideshow": {
     "slide_type": "fragment"
    }
   },
   "source": [
    "* Roughly the same accuracy, recall, and F1 scores as SVC\n",
    "* Provides some explainability in feature importance function"
   ]
  },
  {
   "cell_type": "code",
   "execution_count": 58,
   "metadata": {
    "slideshow": {
     "slide_type": "skip"
    }
   },
   "outputs": [],
   "source": [
    "params = {'n_estimators': [100,300,500],\n",
    "          'learning_rate': [.05,.1,.15],\n",
    "          'max_depth': [2,3,4],\n",
    "          'min_samples_split':[2,4,8],\n",
    "          'min_samples_leaf':[1,3,5],\n",
    "          'max_features':[3,5,7]}\n",
    "\n",
    "clf_cv = ensemble.GradientBoostingClassifier()\n",
    "grid_search = GridSearchCV(estimator = clf_cv, param_grid = params, \n",
    "                          cv = 3, n_jobs = -1, verbose = 2)"
   ]
  },
  {
   "cell_type": "markdown",
   "metadata": {
    "slideshow": {
     "slide_type": "slide"
    }
   },
   "source": [
    "# Hyperparameter Tuning for Gradient Boosting Model"
   ]
  },
  {
   "cell_type": "code",
   "execution_count": 59,
   "metadata": {
    "slideshow": {
     "slide_type": "skip"
    }
   },
   "outputs": [
    {
     "name": "stdout",
     "output_type": "stream",
     "text": [
      "Fitting 3 folds for each of 729 candidates, totalling 2187 fits\n"
     ]
    },
    {
     "name": "stderr",
     "output_type": "stream",
     "text": [
      "[Parallel(n_jobs=-1)]: Using backend LokyBackend with 8 concurrent workers.\n",
      "[Parallel(n_jobs=-1)]: Done  25 tasks      | elapsed:   29.9s\n",
      "[Parallel(n_jobs=-1)]: Done 146 tasks      | elapsed:  3.1min\n",
      "[Parallel(n_jobs=-1)]: Done 349 tasks      | elapsed:  8.4min\n",
      "[Parallel(n_jobs=-1)]: Done 632 tasks      | elapsed: 18.6min\n",
      "[Parallel(n_jobs=-1)]: Done 997 tasks      | elapsed: 29.6min\n",
      "[Parallel(n_jobs=-1)]: Done 1442 tasks      | elapsed: 45.2min\n",
      "[Parallel(n_jobs=-1)]: Done 1969 tasks      | elapsed: 59.3min\n",
      "[Parallel(n_jobs=-1)]: Done 2187 out of 2187 | elapsed: 68.1min finished\n"
     ]
    },
    {
     "data": {
      "text/plain": [
       "{'learning_rate': 0.1,\n",
       " 'max_depth': 4,\n",
       " 'max_features': 3,\n",
       " 'min_samples_leaf': 1,\n",
       " 'min_samples_split': 8,\n",
       " 'n_estimators': 300}"
      ]
     },
     "execution_count": 59,
     "metadata": {},
     "output_type": "execute_result"
    }
   ],
   "source": [
    "grid_search.fit(x_train, y_train)\n",
    "grid_search.best_params_"
   ]
  },
  {
   "cell_type": "code",
   "execution_count": 60,
   "metadata": {
    "slideshow": {
     "slide_type": "fragment"
    }
   },
   "outputs": [
    {
     "data": {
      "text/plain": [
       "{'learning_rate': 0.1,\n",
       " 'max_depth': 4,\n",
       " 'max_features': 3,\n",
       " 'min_samples_leaf': 1,\n",
       " 'min_samples_split': 8,\n",
       " 'n_estimators': 300}"
      ]
     },
     "execution_count": 60,
     "metadata": {},
     "output_type": "execute_result"
    }
   ],
   "source": [
    "grid_search.best_params_"
   ]
  },
  {
   "cell_type": "markdown",
   "metadata": {
    "slideshow": {
     "slide_type": "fragment"
    }
   },
   "source": [
    "## Accuracy Score:"
   ]
  },
  {
   "cell_type": "code",
   "execution_count": 61,
   "metadata": {
    "slideshow": {
     "slide_type": "fragment"
    }
   },
   "outputs": [
    {
     "data": {
      "text/plain": [
       "0.6299894187988424"
      ]
     },
     "execution_count": 61,
     "metadata": {},
     "output_type": "execute_result"
    }
   ],
   "source": [
    "clf = ensemble.GradientBoostingClassifier(**grid_search.best_params_)\n",
    "clf.fit(x_train, y_train)\n",
    "clf.score(x_train, y_train)"
   ]
  },
  {
   "cell_type": "markdown",
   "metadata": {
    "slideshow": {
     "slide_type": "fragment"
    }
   },
   "source": [
    "## Cross-validation Score"
   ]
  },
  {
   "cell_type": "code",
   "execution_count": 62,
   "metadata": {
    "slideshow": {
     "slide_type": "fragment"
    }
   },
   "outputs": [
    {
     "data": {
      "text/plain": [
       "array([0.60904594, 0.61475702, 0.60158083, 0.62417134, 0.62743498])"
      ]
     },
     "execution_count": 62,
     "metadata": {},
     "output_type": "execute_result"
    }
   ],
   "source": [
    "cross_val_score(clf,x,y,cv=5)"
   ]
  },
  {
   "cell_type": "markdown",
   "metadata": {
    "slideshow": {
     "slide_type": "subslide"
    }
   },
   "source": [
    "## Hypertuned Gradient Boosting Model Feature Importance:"
   ]
  },
  {
   "cell_type": "code",
   "execution_count": 63,
   "metadata": {
    "slideshow": {
     "slide_type": "fragment"
    }
   },
   "outputs": [
    {
     "name": "stdout",
     "output_type": "stream",
     "text": [
      "                        importance\n",
      "time_in_hospital_past     0.530470\n",
      "number_diagnoses          0.103251\n",
      "num_medications           0.071234\n",
      "num_lab_procedures        0.055697\n",
      "num_procedures            0.044718\n",
      "time_in_hospital          0.042316\n",
      "number_diabetes_meds      0.041568\n",
      "diag_1_Neoplasm           0.020893\n",
      "diag_1_Diabetes           0.016755\n",
      "A1Cresult_Taken           0.011344\n",
      "insulin_Steady            0.010682\n",
      "insulin_Up                0.009407\n",
      "diag_1_Musculoskeletal    0.007472\n",
      "diag_1_Other              0.006801\n",
      "gender_Male               0.006140\n",
      "insulin_No                0.005481\n",
      "diag_1_Respiratory        0.005473\n",
      "diag_1_Genitourinary      0.004617\n",
      "diag_1_Digestive          0.003072\n",
      "change_yes                0.002607\n"
     ]
    }
   ],
   "source": [
    "feature_importances = pd.DataFrame(clf.feature_importances_,\n",
    "                                   index = x_train.columns,\n",
    "                                    columns=['importance']).sort_values('importance', ascending=False)\n",
    "print(feature_importances)"
   ]
  },
  {
   "cell_type": "markdown",
   "metadata": {
    "slideshow": {
     "slide_type": "subslide"
    }
   },
   "source": [
    "## Hypertuned Gradient Boosting Accuracy Report:"
   ]
  },
  {
   "cell_type": "code",
   "execution_count": 64,
   "metadata": {
    "slideshow": {
     "slide_type": "fragment"
    }
   },
   "outputs": [
    {
     "name": "stdout",
     "output_type": "stream",
     "text": [
      "Accuracy is 0.62\n",
      "              precision    recall  f1-score   support\n",
      "\n",
      "          NO       0.63      0.72      0.67     10510\n",
      "         Yes       0.61      0.51      0.56      9101\n",
      "\n",
      "    accuracy                           0.62     19611\n",
      "   macro avg       0.62      0.62      0.61     19611\n",
      "weighted avg       0.62      0.62      0.62     19611\n",
      "\n"
     ]
    }
   ],
   "source": [
    "y_pred_clf = clf.predict(x_test)\n",
    "print(\"Accuracy is {0:.2f}\".format(accuracy_score(y_test, y_pred_clf)))\n",
    "print(classification_report(y_test, y_pred_clf))\n"
   ]
  },
  {
   "cell_type": "markdown",
   "metadata": {
    "slideshow": {
     "slide_type": "subslide"
    }
   },
   "source": [
    "## Confusion Matrix:"
   ]
  },
  {
   "cell_type": "code",
   "execution_count": 81,
   "metadata": {
    "scrolled": false,
    "slideshow": {
     "slide_type": "subslide"
    }
   },
   "outputs": [
    {
     "data": {
      "image/png": "[encoded data removed]",
      "text/plain": [
       "<Figure size 1080x720 with 2 Axes>"
      ]
     },
     "metadata": {
      "needs_background": "light"
     },
     "output_type": "display_data"
    }
   ],
   "source": [
    "cf_matrix = confusion_matrix(y_test,y_pred_clf)\n",
    "\n",
    "plt.figure(figsize=(15,10))\n",
    "group_names = ['True Neg','False Pos','False Neg','True Pos']\n",
    "group_counts = ['{0:0.0f}'.format(value) for value in\n",
    "                cf_matrix.flatten()]\n",
    "group_percentages = ['{0:.2%}'.format(value) for value in\n",
    "                     cf_matrix.flatten()/np.sum(cf_matrix)]\n",
    "labels = [f'{v1}\\n{v2}\\n{v3}' for v1, v2, v3 in\n",
    "          zip(group_names,group_counts,group_percentages)]\n",
    "labels = np.asarray(labels).reshape(2,2)\n",
    "sns.heatmap(cf_matrix, annot=labels, fmt='', cmap='Blues')\n",
    "b, t = plt.ylim()\n",
    "b += 0.5\n",
    "t -= 0.5\n",
    "plt.ylim(b, t)\n",
    "plt.show()"
   ]
  },
  {
   "cell_type": "markdown",
   "metadata": {
    "slideshow": {
     "slide_type": "slide"
    }
   },
   "source": [
    "# AUC-ROC Score and Chart"
   ]
  },
  {
   "cell_type": "code",
   "execution_count": 84,
   "metadata": {
    "slideshow": {
     "slide_type": "subslide"
    }
   },
   "outputs": [
    {
     "data": {
      "image/png": "[encoded data removed]",
      "text/plain": [
       "<Figure size 1080x720 with 1 Axes>"
      ]
     },
     "metadata": {
      "needs_background": "light"
     },
     "output_type": "display_data"
    }
   ],
   "source": [
    "decision_scores = svm.decision_function(x_test)\n",
    "fpr_svm, tpr_svm, threshold_svm = roc_curve(y_test, decision_scores, pos_label = 'Yes')\n",
    "\n",
    "probs_clf = clf.predict_proba(x_test)\n",
    "preds_clf = probs_clf[:,1]\n",
    "\n",
    "probs_rfc = rfc.predict_proba(x_test)\n",
    "preds_rfc = probs_rfc[:,1]\n",
    "\n",
    "probs_knn = neighbors.predict_proba(x_test)\n",
    "preds_knn = probs_knn[:,1]\n",
    "\n",
    "probs_mlp = mlp.predict_proba(x_test)\n",
    "preds_mlp = probs_mlp[:,1]\n",
    "\n",
    "fpr_clf, tpr_clf, threshold_clf = metrics.roc_curve(y_test, preds_clf, pos_label='Yes')\n",
    "roc_auc_clf = metrics.auc(fpr_clf, tpr_clf)\n",
    "\n",
    "fpr_rfc, tpr_rfc, threshold_rfc = metrics.roc_curve(y_test, preds_rfc, pos_label='Yes')\n",
    "roc_auc_rfc = metrics.auc(fpr_rfc, tpr_rfc)\n",
    "\n",
    "fpr_knn, tpr_knn, threshold_knn = metrics.roc_curve(y_test, preds_knn, pos_label='Yes')\n",
    "roc_auc_knn = metrics.auc(fpr_knn, tpr_knn)\n",
    "\n",
    "fpr_mlp, tpr_mlp, threshold_mlp = metrics.roc_curve(y_test, preds_mlp, pos_label='Yes')\n",
    "roc_auc_mlp = metrics.auc(fpr_mlp, tpr_mlp)\n",
    "\n",
    "plt.figure(figsize=(15,10))\n",
    "plt.title('AUC-ROC Curve for Gradient Boosting')\n",
    "plt.plot(fpr_clf, tpr_clf, 'b', label = 'AUC_clf = %0.2f' % roc_auc_clf)\n",
    "plt.plot(fpr_rfc, tpr_rfc, 'g', label = 'AUC_rfc = %0.2f' % roc_auc_rfc)\n",
    "plt.plot(fpr_knn, tpr_knn, 'y', label = 'AUC_knn = %0.2f' % roc_auc_knn)\n",
    "plt.plot(fpr_mlp, tpr_mlp, 'm', label = 'AUC_mlp = %0.2f' % roc_auc_mlp)\n",
    "plt.plot(fpr_svm, tpr_svm, 'c', label = 'AUC_SVC = %0.2f' % roc_auc_score(y_test, decision_scores))\n",
    "plt.legend(loc = 'lower right')\n",
    "plt.plot([0, 1], [0, 1],'r--')\n",
    "plt.xlim([0, 1])\n",
    "plt.ylim([0, 1])\n",
    "plt.ylabel('True Positive Rate')\n",
    "plt.xlabel('False Positive Rate')\n",
    "plt.show()"
   ]
  },
  {
   "cell_type": "markdown",
   "metadata": {
    "slideshow": {
     "slide_type": "slide"
    }
   },
   "source": [
    "# Shortcomings Of Model"
   ]
  },
  {
   "cell_type": "markdown",
   "metadata": {
    "slideshow": {
     "slide_type": "fragment"
    }
   },
   "source": [
    "* Poor metrics\n",
    "* Data does not have much predictive power\n"
   ]
  },
  {
   "cell_type": "markdown",
   "metadata": {
    "slideshow": {
     "slide_type": "fragment"
    }
   },
   "source": [
    "# Steps To Improve"
   ]
  },
  {
   "cell_type": "markdown",
   "metadata": {
    "slideshow": {
     "slide_type": "fragment"
    }
   },
   "source": [
    "* Find more data"
   ]
  }
 ],
 "metadata": {
  "celltoolbar": "Slideshow",
  "hide_input": false,
  "kernelspec": {
   "display_name": "Python 3",
   "language": "python",
   "name": "python3"
  },
  "language_info": {
   "codemirror_mode": {
    "name": "ipython",
    "version": 3
   },
   "file_extension": ".py",
   "mimetype": "text/x-python",
   "name": "python",
   "nbconvert_exporter": "python",
   "pygments_lexer": "ipython3",
   "version": "3.7.7"
  }
 },
 "nbformat": 4,
 "nbformat_minor": 2
}

{
 "cells": [
  {
   "cell_type": "code",
   "execution_count": 288,
   "metadata": {},
   "outputs": [],
   "source": [
    "import numpy as np\n",
    "import pandas as pd\n",
    "import matplotlib.pyplot as plt\n",
    "import seaborn as sns\n",
    "import re\n",
    "import string\n",
    "from scipy import stats\n",
    "%matplotlib inline"
   ]
  },
  {
   "cell_type": "code",
   "execution_count": 230,
   "metadata": {},
   "outputs": [
    {
     "name": "stdout",
     "output_type": "stream",
     "text": [
      "<class 'pandas.core.frame.DataFrame'>\n",
      "RangeIndex: 2127 entries, 0 to 2126\n",
      "Data columns (total 5 columns):\n",
      "ID               1928 non-null object\n",
      "Publisher        2127 non-null object\n",
      "Journal_title    2126 non-null object\n",
      "Article_title    2127 non-null object\n",
      "Cost             2127 non-null object\n",
      "dtypes: object(5)\n",
      "memory usage: 83.2+ KB\n"
     ]
    }
   ],
   "source": [
    "#load data into python. engine='python' allows the csv to be loaded into python\n",
    "df=pd.read_csv('datacleanchallenge.csv', engine='python')\n",
    "#changes the column names to make them easier to work with\n",
    "df.columns = ['ID','Publisher','Journal_title', 'Article_title', 'Cost']\n",
    "#gives type for each column\n",
    "df.info()"
   ]
  },
  {
   "cell_type": "markdown",
   "metadata": {},
   "source": [
    "To complete this challenge, determine the five most common journals and the total articles for each. Next, calculate the mean, median, and standard deviation of the open-access cost per article for each journal."
   ]
  },
  {
   "cell_type": "code",
   "execution_count": 231,
   "metadata": {},
   "outputs": [],
   "source": [
    "from string import printable\n",
    "st = set(printable)\n",
    "df[\"Cost\"] = df[\"Cost\"].apply(lambda x: ''.join([\"\" if  i not in  st else i for i in x]))\n",
    "df['Cost'] = df['Cost'].astype('str')\n",
    "df['Cost'] = df['Cost'].str.strip()\n",
    "\n",
    "#determines if there are any rows in cost column with '$'\n",
    "only_numbers = df['Cost'].str.contains('$',regex = False)\n",
    "#determines the numbers of rows with '$'\n",
    "only_numbers.value_counts()\n",
    "#determines the numbers of rows with '$'\n",
    "only_numbers.value_counts()\n",
    "#removes any $ in cost column\n",
    "df['Cost'] = df['Cost'].str.replace('$', '')\n",
    "#converts cost column into float\n",
    "df['Cost'] = df['Cost'].astype('float')\n",
    "\n",
    "\n",
    "\n"
   ]
  },
  {
   "cell_type": "code",
   "execution_count": 232,
   "metadata": {},
   "outputs": [
    {
     "data": {
      "text/html": [
       "<div>\n",
       "<style scoped>\n",
       "    .dataframe tbody tr th:only-of-type {\n",
       "        vertical-align: middle;\n",
       "    }\n",
       "\n",
       "    .dataframe tbody tr th {\n",
       "        vertical-align: top;\n",
       "    }\n",
       "\n",
       "    .dataframe thead th {\n",
       "        text-align: right;\n",
       "    }\n",
       "</style>\n",
       "<table border=\"1\" class=\"dataframe\">\n",
       "  <thead>\n",
       "    <tr style=\"text-align: right;\">\n",
       "      <th></th>\n",
       "      <th>ID</th>\n",
       "      <th>Publisher</th>\n",
       "      <th>Journal_title</th>\n",
       "      <th>Article_title</th>\n",
       "      <th>Cost</th>\n",
       "    </tr>\n",
       "  </thead>\n",
       "  <tbody>\n",
       "    <tr>\n",
       "      <td>0</td>\n",
       "      <td>NaN</td>\n",
       "      <td>CUP</td>\n",
       "      <td>Psychological Medicine</td>\n",
       "      <td>Reduced parahippocampal cortical thickness in ...</td>\n",
       "      <td>0.00</td>\n",
       "    </tr>\n",
       "    <tr>\n",
       "      <td>1</td>\n",
       "      <td>PMC3679557</td>\n",
       "      <td>ACS</td>\n",
       "      <td>Biomacromolecules</td>\n",
       "      <td>Structural characterization of a Model Gram-ne...</td>\n",
       "      <td>2381.04</td>\n",
       "    </tr>\n",
       "    <tr>\n",
       "      <td>2</td>\n",
       "      <td>23043264  PMC3506128</td>\n",
       "      <td>ACS</td>\n",
       "      <td>J Med Chem</td>\n",
       "      <td>Fumaroylamino-4,5-epoxymorphinans and related ...</td>\n",
       "      <td>642.56</td>\n",
       "    </tr>\n",
       "    <tr>\n",
       "      <td>3</td>\n",
       "      <td>23438330 PMC3646402</td>\n",
       "      <td>ACS</td>\n",
       "      <td>J Med Chem</td>\n",
       "      <td>Orvinols with mixed kappa/mu opioid receptor a...</td>\n",
       "      <td>669.64</td>\n",
       "    </tr>\n",
       "    <tr>\n",
       "      <td>4</td>\n",
       "      <td>23438216 PMC3601604</td>\n",
       "      <td>ACS</td>\n",
       "      <td>J Org Chem</td>\n",
       "      <td>Regioselective opening of myo-inositol orthoes...</td>\n",
       "      <td>685.88</td>\n",
       "    </tr>\n",
       "  </tbody>\n",
       "</table>\n",
       "</div>"
      ],
      "text/plain": [
       "                      ID Publisher           Journal_title  \\\n",
       "0                    NaN       CUP  Psychological Medicine   \n",
       "1             PMC3679557       ACS       Biomacromolecules   \n",
       "2  23043264  PMC3506128        ACS              J Med Chem   \n",
       "3    23438330 PMC3646402       ACS              J Med Chem   \n",
       "4   23438216 PMC3601604        ACS              J Org Chem   \n",
       "\n",
       "                                       Article_title     Cost  \n",
       "0  Reduced parahippocampal cortical thickness in ...     0.00  \n",
       "1  Structural characterization of a Model Gram-ne...  2381.04  \n",
       "2  Fumaroylamino-4,5-epoxymorphinans and related ...   642.56  \n",
       "3  Orvinols with mixed kappa/mu opioid receptor a...   669.64  \n",
       "4  Regioselective opening of myo-inositol orthoes...   685.88  "
      ]
     },
     "execution_count": 232,
     "metadata": {},
     "output_type": "execute_result"
    }
   ],
   "source": [
    "df.head()"
   ]
  },
  {
   "cell_type": "code",
   "execution_count": 233,
   "metadata": {},
   "outputs": [],
   "source": [
    "#puts all journal titles as lowercase and then determines the counts of the journals. This solves the problems of random capitalizations.\n",
    "df['Journal_title'] = df['Journal_title'].str.lower()\n",
    "#removes any white space before and after the journal name\n",
    "df['Journal_title'] = df['Journal_title'].str.strip()\n",
    "#replaces any double-spaced parts with single-spaced\n",
    "df['Journal_title'] = df['Journal_title'].str.replace('  ', '')\n",
    "#counts the journal totals\n",
    "lower_casedf_count = df['Journal_title'].value_counts()"
   ]
  },
  {
   "cell_type": "code",
   "execution_count": 234,
   "metadata": {},
   "outputs": [
    {
     "data": {
      "text/plain": [
       "plos one                                           190\n",
       "journal of biological chemistry                     53\n",
       "neuroimage                                          29\n",
       "nucleic acids research                              26\n",
       "plos genetics                                       24\n",
       "plos pathogens                                      24\n",
       "proceedings of the national academy of sciences     22\n",
       "plos neglected tropical diseases                    20\n",
       "nature communications                               19\n",
       "human molecular genetics                            19\n",
       "bmc public health                                   14\n",
       "brain                                               14\n",
       "journal of neuroscience                             13\n",
       "movement disorders                                  13\n",
       "biochemical journal                                 12\n",
       "developmental cell                                  12\n",
       "journal of general virology                         11\n",
       "current biology                                     11\n",
       "plosone                                             10\n",
       "malaria journal                                     10\n",
       "Name: Journal_title, dtype: int64"
      ]
     },
     "execution_count": 234,
     "metadata": {},
     "output_type": "execute_result"
    }
   ],
   "source": [
    "#creates a list of the top 20 journals\n",
    "lower_casedf_count.head(20)"
   ]
  },
  {
   "cell_type": "markdown",
   "metadata": {},
   "source": [
    "Top 5 journal: plos one, journal of biological chemistry, neuroimage, nucleic acids research, and plos genetics"
   ]
  },
  {
   "cell_type": "code",
   "execution_count": 323,
   "metadata": {},
   "outputs": [
    {
     "name": "stdout",
     "output_type": "stream",
     "text": [
      "[77, 167, 168, 169, 170, 171, 172, 173]\n",
      "mean:  1974.1304473684208\n",
      "median:  898.475\n",
      "std:  13871.539000619297\n"
     ]
    },
    {
     "data": {
      "image/png": "[encoded data removed]",
      "text/plain": [
       "<Figure size 432x288 with 1 Axes>"
      ]
     },
     "metadata": {
      "needs_background": "light"
     },
     "output_type": "display_data"
    }
   ],
   "source": [
    "#create a dataframe of only plos one journal\n",
    "plos_one = df[df['Journal_title'] == 'plos one']\n",
    "\n",
    "#finds the mean\n",
    "np.mean(plos_one['Cost'])\n",
    "plt.hist(plos_one['Cost'])\n",
    "#gives index numbers of data points that are outliers\n",
    "plos_one_wrong = [idx for idx, val in enumerate(plos_one['Cost']) if val > 50000]\n",
    "#gives indices of outliers\n",
    "print(plos_one_wrong)\n",
    "#resets the index numbers in dataframe\n",
    "plos_one = plos_one.reset_index()\n",
    "#replaces the outlier values with 95 percentile values\n",
    "plos_one['Cost'] = plos_one['Cost'].replace(999999.0, plos_one['Cost'].quantile(.95))\n",
    "\n",
    "print('mean: ', np.mean(plos_one['Cost']))\n",
    "print('median: ', np.median(plos_one['Cost']))\n",
    "print('std: ', np.std(plos_one['Cost']))\n"
   ]
  },
  {
   "cell_type": "code",
   "execution_count": 314,
   "metadata": {},
   "outputs": [
    {
     "name": "stdout",
     "output_type": "stream",
     "text": [
      "[47]\n",
      "mean:  1440.5935471698112\n",
      "median:  1314.53\n",
      "std:  422.30246568063734\n"
     ]
    },
    {
     "data": {
      "image/png": "[encoded data removed]",
      "text/plain": [
       "<Figure size 432x288 with 1 Axes>"
      ]
     },
     "metadata": {
      "needs_background": "light"
     },
     "output_type": "display_data"
    }
   ],
   "source": [
    "jobc = df[df['Journal_title'] == 'journal of biological chemistry']\n",
    "\n",
    "#finds the mean\n",
    "np.mean(jobc['Cost'])\n",
    "#graphs outliers\n",
    "plt.hist(jobc['Cost'])\n",
    "#gives index numbers of data points that are outliers\n",
    "jobc_wrong = [idx for idx, val in enumerate(jobc['Cost']) if val > 100000]\n",
    "#gives indices of outliers\n",
    "print(jobc_wrong)\n",
    "#resets the index numbers in dataframe\n",
    "jobc = jobc.reset_index()\n",
    "#replaces the outlier values with 95 percentile values\n",
    "jobc['Cost'] = jobc['Cost'].replace(999999.0, jobc['Cost'].quantile(.95))\n",
    "\n",
    "print('mean: ', np.mean(jobc['Cost']))\n",
    "print('median: ', np.median(jobc['Cost']))\n",
    "print('std: ', np.std(jobc['Cost']))"
   ]
  },
  {
   "cell_type": "code",
   "execution_count": 312,
   "metadata": {},
   "outputs": [
    {
     "name": "stdout",
     "output_type": "stream",
     "text": [
      "mean:  2215.168275862069\n",
      "median:  2326.43\n",
      "std:  262.0161331841066\n"
     ]
    },
    {
     "data": {
      "image/png": "[encoded data removed]",
      "text/plain": [
       "<Figure size 432x288 with 1 Axes>"
      ]
     },
     "metadata": {
      "needs_background": "light"
     },
     "output_type": "display_data"
    }
   ],
   "source": [
    "neuro = df[df['Journal_title'] == 'neuroimage']\n",
    "#finds the mean\n",
    "#np.mean(neuro['Cost'])\n",
    "#graphs outliers\n",
    "plt.hist(neuro['Cost'])\n",
    "#gives index numbers of data points that are outliers\n",
    "#neuro_wrong = [idx for idx, val in enumerate(neuro['Cost']) if val > 100000]\n",
    "#gives indices of outliers\n",
    "#print(neuro_wrong)\n",
    "#resets the index numbers in dataframe\n",
    "#neuro = neuro.reset_index()\n",
    "#replaces the outlier values with 95 percentile values\n",
    "#neuro['Cost'] = neuro['Cost'].replace(999999.0, neuro['Cost'].quantile(.95))\n",
    "\n",
    "print('mean: ', np.mean(neuro['Cost']))\n",
    "print('median: ', np.median(neuro['Cost']))\n",
    "print('std: ', np.std(neuro['Cost']))"
   ]
  },
  {
   "cell_type": "code",
   "execution_count": 327,
   "metadata": {},
   "outputs": [
    {
     "name": "stdout",
     "output_type": "stream",
     "text": [
      "mean:  1149.0\n",
      "median:  852.0\n",
      "std:  434.33884326552095\n"
     ]
    },
    {
     "data": {
      "image/png": "[encoded data removed]",
      "text/plain": [
       "<Figure size 432x288 with 1 Axes>"
      ]
     },
     "metadata": {
      "needs_background": "light"
     },
     "output_type": "display_data"
    }
   ],
   "source": [
    "nar = df[df['Journal_title'] == 'nucleic acids research']\n",
    "#finds the mean\n",
    "np.mean(nar['Cost'])\n",
    "#graphs outliers\n",
    "plt.hist(nar['Cost'])\n",
    "#gives index numbers of data points that are outliers\n",
    "#neuro_wrong = [idx for idx, val in enumerate(neuro['Cost']) if val > 100000]\n",
    "#gives indices of outliers\n",
    "#print(neuro_wrong)\n",
    "#resets the index numbers in dataframe\n",
    "#neuro = neuro.reset_index()\n",
    "#replaces the outlier values with 95 percentile values\n",
    "#neuro['Cost'] = neuro['Cost'].replace(999999.0, neuro['Cost'].quantile(.95))\n",
    "\n",
    "print('mean: ', np.mean(nar['Cost']))\n",
    "print('median: ', np.median(nar['Cost']))\n",
    "print('std: ', np.std(nar['Cost']))"
   ]
  },
  {
   "cell_type": "code",
   "execution_count": null,
   "metadata": {},
   "outputs": [],
   "source": []
  }
 ],
 "metadata": {
  "kernelspec": {
   "display_name": "Python 3",
   "language": "python",
   "name": "python3"
  },
  "language_info": {
   "codemirror_mode": {
    "name": "ipython",
    "version": 3
   },
   "file_extension": ".py",
   "mimetype": "text/x-python",
   "name": "python",
   "nbconvert_exporter": "python",
   "pygments_lexer": "ipython3",
   "version": "3.7.4"
  }
 },
 "nbformat": 4,
 "nbformat_minor": 2
}

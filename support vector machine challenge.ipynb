{
 "cells": [
  {
   "cell_type": "code",
   "execution_count": 1,
   "metadata": {},
   "outputs": [],
   "source": [
    "import numpy as np\n",
    "import pandas as pd\n",
    "import scipy\n",
    "import matplotlib.pyplot as plt\n",
    "import seaborn as sns\n",
    "%matplotlib inline\n",
    "\n",
    "raw_data = pd.read_csv('https://tf-assets-prod.s3.amazonaws.com/tf-curric/data-science/epi_r.csv')"
   ]
  },
  {
   "cell_type": "code",
   "execution_count": 36,
   "metadata": {},
   "outputs": [
    {
     "data": {
      "text/html": [
       "<div>\n",
       "<style scoped>\n",
       "    .dataframe tbody tr th:only-of-type {\n",
       "        vertical-align: middle;\n",
       "    }\n",
       "\n",
       "    .dataframe tbody tr th {\n",
       "        vertical-align: top;\n",
       "    }\n",
       "\n",
       "    .dataframe thead th {\n",
       "        text-align: right;\n",
       "    }\n",
       "</style>\n",
       "<table border=\"1\" class=\"dataframe\">\n",
       "  <thead>\n",
       "    <tr style=\"text-align: right;\">\n",
       "      <th></th>\n",
       "      <th>title</th>\n",
       "      <th>rating</th>\n",
       "      <th>calories</th>\n",
       "      <th>protein</th>\n",
       "      <th>fat</th>\n",
       "      <th>sodium</th>\n",
       "      <th>#cakeweek</th>\n",
       "      <th>#wasteless</th>\n",
       "      <th>22-minute meals</th>\n",
       "      <th>3-ingredient recipes</th>\n",
       "      <th>...</th>\n",
       "      <th>yellow squash</th>\n",
       "      <th>yogurt</th>\n",
       "      <th>yonkers</th>\n",
       "      <th>yuca</th>\n",
       "      <th>zucchini</th>\n",
       "      <th>cookbooks</th>\n",
       "      <th>leftovers</th>\n",
       "      <th>snack</th>\n",
       "      <th>snack week</th>\n",
       "      <th>turkey</th>\n",
       "    </tr>\n",
       "  </thead>\n",
       "  <tbody>\n",
       "    <tr>\n",
       "      <td>0</td>\n",
       "      <td>Lentil, Apple, and Turkey Wrap</td>\n",
       "      <td>2.500</td>\n",
       "      <td>426.0</td>\n",
       "      <td>30.0</td>\n",
       "      <td>7.0</td>\n",
       "      <td>559.0</td>\n",
       "      <td>0.0</td>\n",
       "      <td>0.0</td>\n",
       "      <td>0.0</td>\n",
       "      <td>0.0</td>\n",
       "      <td>...</td>\n",
       "      <td>0.0</td>\n",
       "      <td>0.0</td>\n",
       "      <td>0.0</td>\n",
       "      <td>0.0</td>\n",
       "      <td>0.0</td>\n",
       "      <td>0.0</td>\n",
       "      <td>0.0</td>\n",
       "      <td>0.0</td>\n",
       "      <td>0.0</td>\n",
       "      <td>1.0</td>\n",
       "    </tr>\n",
       "    <tr>\n",
       "      <td>1</td>\n",
       "      <td>Boudin Blanc Terrine with Red Onion Confit</td>\n",
       "      <td>4.375</td>\n",
       "      <td>403.0</td>\n",
       "      <td>18.0</td>\n",
       "      <td>23.0</td>\n",
       "      <td>1439.0</td>\n",
       "      <td>0.0</td>\n",
       "      <td>0.0</td>\n",
       "      <td>0.0</td>\n",
       "      <td>0.0</td>\n",
       "      <td>...</td>\n",
       "      <td>0.0</td>\n",
       "      <td>0.0</td>\n",
       "      <td>0.0</td>\n",
       "      <td>0.0</td>\n",
       "      <td>0.0</td>\n",
       "      <td>0.0</td>\n",
       "      <td>0.0</td>\n",
       "      <td>0.0</td>\n",
       "      <td>0.0</td>\n",
       "      <td>0.0</td>\n",
       "    </tr>\n",
       "    <tr>\n",
       "      <td>2</td>\n",
       "      <td>Potato and Fennel Soup Hodge</td>\n",
       "      <td>3.750</td>\n",
       "      <td>165.0</td>\n",
       "      <td>6.0</td>\n",
       "      <td>7.0</td>\n",
       "      <td>165.0</td>\n",
       "      <td>0.0</td>\n",
       "      <td>0.0</td>\n",
       "      <td>0.0</td>\n",
       "      <td>0.0</td>\n",
       "      <td>...</td>\n",
       "      <td>0.0</td>\n",
       "      <td>0.0</td>\n",
       "      <td>0.0</td>\n",
       "      <td>0.0</td>\n",
       "      <td>0.0</td>\n",
       "      <td>0.0</td>\n",
       "      <td>0.0</td>\n",
       "      <td>0.0</td>\n",
       "      <td>0.0</td>\n",
       "      <td>0.0</td>\n",
       "    </tr>\n",
       "    <tr>\n",
       "      <td>3</td>\n",
       "      <td>Mahi-Mahi in Tomato Olive Sauce</td>\n",
       "      <td>5.000</td>\n",
       "      <td>NaN</td>\n",
       "      <td>NaN</td>\n",
       "      <td>NaN</td>\n",
       "      <td>NaN</td>\n",
       "      <td>0.0</td>\n",
       "      <td>0.0</td>\n",
       "      <td>0.0</td>\n",
       "      <td>0.0</td>\n",
       "      <td>...</td>\n",
       "      <td>0.0</td>\n",
       "      <td>0.0</td>\n",
       "      <td>0.0</td>\n",
       "      <td>0.0</td>\n",
       "      <td>0.0</td>\n",
       "      <td>0.0</td>\n",
       "      <td>0.0</td>\n",
       "      <td>0.0</td>\n",
       "      <td>0.0</td>\n",
       "      <td>0.0</td>\n",
       "    </tr>\n",
       "    <tr>\n",
       "      <td>4</td>\n",
       "      <td>Spinach Noodle Casserole</td>\n",
       "      <td>3.125</td>\n",
       "      <td>547.0</td>\n",
       "      <td>20.0</td>\n",
       "      <td>32.0</td>\n",
       "      <td>452.0</td>\n",
       "      <td>0.0</td>\n",
       "      <td>0.0</td>\n",
       "      <td>0.0</td>\n",
       "      <td>0.0</td>\n",
       "      <td>...</td>\n",
       "      <td>0.0</td>\n",
       "      <td>0.0</td>\n",
       "      <td>0.0</td>\n",
       "      <td>0.0</td>\n",
       "      <td>0.0</td>\n",
       "      <td>0.0</td>\n",
       "      <td>0.0</td>\n",
       "      <td>0.0</td>\n",
       "      <td>0.0</td>\n",
       "      <td>0.0</td>\n",
       "    </tr>\n",
       "  </tbody>\n",
       "</table>\n",
       "<p>5 rows × 680 columns</p>\n",
       "</div>"
      ],
      "text/plain": [
       "                                         title  rating  calories  protein  \\\n",
       "0              Lentil, Apple, and Turkey Wrap    2.500     426.0     30.0   \n",
       "1  Boudin Blanc Terrine with Red Onion Confit    4.375     403.0     18.0   \n",
       "2                Potato and Fennel Soup Hodge    3.750     165.0      6.0   \n",
       "3             Mahi-Mahi in Tomato Olive Sauce    5.000       NaN      NaN   \n",
       "4                    Spinach Noodle Casserole    3.125     547.0     20.0   \n",
       "\n",
       "    fat  sodium  #cakeweek  #wasteless  22-minute meals  3-ingredient recipes  \\\n",
       "0   7.0   559.0        0.0         0.0              0.0                   0.0   \n",
       "1  23.0  1439.0        0.0         0.0              0.0                   0.0   \n",
       "2   7.0   165.0        0.0         0.0              0.0                   0.0   \n",
       "3   NaN     NaN        0.0         0.0              0.0                   0.0   \n",
       "4  32.0   452.0        0.0         0.0              0.0                   0.0   \n",
       "\n",
       "   ...  yellow squash  yogurt  yonkers  yuca  zucchini  cookbooks  leftovers  \\\n",
       "0  ...            0.0     0.0      0.0   0.0       0.0        0.0        0.0   \n",
       "1  ...            0.0     0.0      0.0   0.0       0.0        0.0        0.0   \n",
       "2  ...            0.0     0.0      0.0   0.0       0.0        0.0        0.0   \n",
       "3  ...            0.0     0.0      0.0   0.0       0.0        0.0        0.0   \n",
       "4  ...            0.0     0.0      0.0   0.0       0.0        0.0        0.0   \n",
       "\n",
       "   snack  snack week  turkey  \n",
       "0    0.0         0.0     1.0  \n",
       "1    0.0         0.0     0.0  \n",
       "2    0.0         0.0     0.0  \n",
       "3    0.0         0.0     0.0  \n",
       "4    0.0         0.0     0.0  \n",
       "\n",
       "[5 rows x 680 columns]"
      ]
     },
     "execution_count": 36,
     "metadata": {},
     "output_type": "execute_result"
    }
   ],
   "source": [
    "#removes any column that isnt binary (0, 1)\n",
    "features = list(raw_data.columns[6:])\n",
    "raw_data.head()"
   ]
  },
  {
   "cell_type": "code",
   "execution_count": 21,
   "metadata": {},
   "outputs": [
    {
     "name": "stdout",
     "output_type": "stream",
     "text": [
      "                                                    title  rating  calories  \\\n",
      "0.0                                                   NaN  1836.0      13.0   \n",
      "1.0                                                   NaN     NaN       5.0   \n",
      "1.25                                                  NaN   164.0       NaN   \n",
      "1.875                                                 NaN   124.0       NaN   \n",
      "2.0                                                   NaN     NaN      12.0   \n",
      "...                                                   ...     ...       ...   \n",
      "Zucchini-Pecan Cake with Cream Cheese Frosting        1.0     NaN       NaN   \n",
      "Zucchini-Wrapped Halibut \"Scallops\"                   1.0     NaN       NaN   \n",
      "Zucchini-Wrapped Red Snapper with Tomato, Cumin...    1.0     NaN       NaN   \n",
      "Zuni Rolls with Raspberry Chipotle Sauce              1.0     NaN       NaN   \n",
      "Zuppa di Cavolo Nero, Cannellini, e Salsicce: K...    1.0     NaN       NaN   \n",
      "\n",
      "                                                    protein     fat  sodium  \\\n",
      "0.0                                                   851.0  1223.0    61.0   \n",
      "1.0                                                  1331.0   626.0   158.0   \n",
      "1.25                                                    NaN     NaN     NaN   \n",
      "1.875                                                   NaN     NaN     NaN   \n",
      "2.0                                                  1254.0   297.0   192.0   \n",
      "...                                                     ...     ...     ...   \n",
      "Zucchini-Pecan Cake with Cream Cheese Frosting          NaN     NaN     NaN   \n",
      "Zucchini-Wrapped Halibut \"Scallops\"                     NaN     NaN     NaN   \n",
      "Zucchini-Wrapped Red Snapper with Tomato, Cumin...      NaN     NaN     NaN   \n",
      "Zuni Rolls with Raspberry Chipotle Sauce                NaN     NaN     NaN   \n",
      "Zuppa di Cavolo Nero, Cannellini, e Salsicce: K...      NaN     NaN     NaN   \n",
      "\n",
      "                                                    #cakeweek  #wasteless  \\\n",
      "0.0                                                   20046.0     20051.0   \n",
      "1.0                                                       6.0         1.0   \n",
      "1.25                                                      NaN         NaN   \n",
      "1.875                                                     NaN         NaN   \n",
      "2.0                                                       NaN         NaN   \n",
      "...                                                       ...         ...   \n",
      "Zucchini-Pecan Cake with Cream Cheese Frosting            NaN         NaN   \n",
      "Zucchini-Wrapped Halibut \"Scallops\"                       NaN         NaN   \n",
      "Zucchini-Wrapped Red Snapper with Tomato, Cumin...        NaN         NaN   \n",
      "Zuni Rolls with Raspberry Chipotle Sauce                  NaN         NaN   \n",
      "Zuppa di Cavolo Nero, Cannellini, e Salsicce: K...        NaN         NaN   \n",
      "\n",
      "                                                    22-minute meals  \\\n",
      "0.0                                                         20035.0   \n",
      "1.0                                                            17.0   \n",
      "1.25                                                            NaN   \n",
      "1.875                                                           NaN   \n",
      "2.0                                                             NaN   \n",
      "...                                                             ...   \n",
      "Zucchini-Pecan Cake with Cream Cheese Frosting                  NaN   \n",
      "Zucchini-Wrapped Halibut \"Scallops\"                             NaN   \n",
      "Zucchini-Wrapped Red Snapper with Tomato, Cumin...              NaN   \n",
      "Zuni Rolls with Raspberry Chipotle Sauce                        NaN   \n",
      "Zuppa di Cavolo Nero, Cannellini, e Salsicce: K...              NaN   \n",
      "\n",
      "                                                    3-ingredient recipes  ...  \\\n",
      "0.0                                                              20025.0  ...   \n",
      "1.0                                                                 27.0  ...   \n",
      "1.25                                                                 NaN  ...   \n",
      "1.875                                                                NaN  ...   \n",
      "2.0                                                                  NaN  ...   \n",
      "...                                                                  ...  ...   \n",
      "Zucchini-Pecan Cake with Cream Cheese Frosting                       NaN  ...   \n",
      "Zucchini-Wrapped Halibut \"Scallops\"                                  NaN  ...   \n",
      "Zucchini-Wrapped Red Snapper with Tomato, Cumin...                   NaN  ...   \n",
      "Zuni Rolls with Raspberry Chipotle Sauce                             NaN  ...   \n",
      "Zuppa di Cavolo Nero, Cannellini, e Salsicce: K...                   NaN  ...   \n",
      "\n",
      "                                                    yellow squash   yogurt  \\\n",
      "0.0                                                       20027.0  19524.0   \n",
      "1.0                                                          25.0    528.0   \n",
      "1.25                                                          NaN      NaN   \n",
      "1.875                                                         NaN      NaN   \n",
      "2.0                                                           NaN      NaN   \n",
      "...                                                           ...      ...   \n",
      "Zucchini-Pecan Cake with Cream Cheese Frosting                NaN      NaN   \n",
      "Zucchini-Wrapped Halibut \"Scallops\"                           NaN      NaN   \n",
      "Zucchini-Wrapped Red Snapper with Tomato, Cumin...            NaN      NaN   \n",
      "Zuni Rolls with Raspberry Chipotle Sauce                      NaN      NaN   \n",
      "Zuppa di Cavolo Nero, Cannellini, e Salsicce: K...            NaN      NaN   \n",
      "\n",
      "                                                    yonkers     yuca  \\\n",
      "0.0                                                 20051.0  20046.0   \n",
      "1.0                                                     1.0      6.0   \n",
      "1.25                                                    NaN      NaN   \n",
      "1.875                                                   NaN      NaN   \n",
      "2.0                                                     NaN      NaN   \n",
      "...                                                     ...      ...   \n",
      "Zucchini-Pecan Cake with Cream Cheese Frosting          NaN      NaN   \n",
      "Zucchini-Wrapped Halibut \"Scallops\"                     NaN      NaN   \n",
      "Zucchini-Wrapped Red Snapper with Tomato, Cumin...      NaN      NaN   \n",
      "Zuni Rolls with Raspberry Chipotle Sauce                NaN      NaN   \n",
      "Zuppa di Cavolo Nero, Cannellini, e Salsicce: K...      NaN      NaN   \n",
      "\n",
      "                                                    zucchini  cookbooks  \\\n",
      "0.0                                                  19754.0    20049.0   \n",
      "1.0                                                    298.0        3.0   \n",
      "1.25                                                     NaN        NaN   \n",
      "1.875                                                    NaN        NaN   \n",
      "2.0                                                      NaN        NaN   \n",
      "...                                                      ...        ...   \n",
      "Zucchini-Pecan Cake with Cream Cheese Frosting           NaN        NaN   \n",
      "Zucchini-Wrapped Halibut \"Scallops\"                      NaN        NaN   \n",
      "Zucchini-Wrapped Red Snapper with Tomato, Cumin...       NaN        NaN   \n",
      "Zuni Rolls with Raspberry Chipotle Sauce                 NaN        NaN   \n",
      "Zuppa di Cavolo Nero, Cannellini, e Salsicce: K...       NaN        NaN   \n",
      "\n",
      "                                                    leftovers    snack  \\\n",
      "0.0                                                   20045.0  20024.0   \n",
      "1.0                                                       7.0     28.0   \n",
      "1.25                                                      NaN      NaN   \n",
      "1.875                                                     NaN      NaN   \n",
      "2.0                                                       NaN      NaN   \n",
      "...                                                       ...      ...   \n",
      "Zucchini-Pecan Cake with Cream Cheese Frosting            NaN      NaN   \n",
      "Zucchini-Wrapped Halibut \"Scallops\"                       NaN      NaN   \n",
      "Zucchini-Wrapped Red Snapper with Tomato, Cumin...        NaN      NaN   \n",
      "Zuni Rolls with Raspberry Chipotle Sauce                  NaN      NaN   \n",
      "Zuppa di Cavolo Nero, Cannellini, e Salsicce: K...        NaN      NaN   \n",
      "\n",
      "                                                    snack week   turkey  \n",
      "0.0                                                    20033.0  19596.0  \n",
      "1.0                                                       19.0    456.0  \n",
      "1.25                                                       NaN      NaN  \n",
      "1.875                                                      NaN      NaN  \n",
      "2.0                                                        NaN      NaN  \n",
      "...                                                        ...      ...  \n",
      "Zucchini-Pecan Cake with Cream Cheese Frosting             NaN      NaN  \n",
      "Zucchini-Wrapped Halibut \"Scallops\"                        NaN      NaN  \n",
      "Zucchini-Wrapped Red Snapper with Tomato, Cumin...         NaN      NaN  \n",
      "Zuni Rolls with Raspberry Chipotle Sauce                   NaN      NaN  \n",
      "Zuppa di Cavolo Nero, Cannellini, e Salsicce: K...         NaN      NaN  \n",
      "\n",
      "[20558 rows x 680 columns]\n"
     ]
    }
   ],
   "source": [
    "print(raw_data.apply(pd.value_counts))"
   ]
  },
  {
   "cell_type": "code",
   "execution_count": 110,
   "metadata": {},
   "outputs": [],
   "source": [
    "remove_sub_10 = []\n",
    "for col in features:\n",
    "    if raw_data[col].sum() < 100:\n",
    "        remove_sub_10.append(col)\n",
    "\n",
    "#picks only features that were used over 1000 times      \n",
    "feature_count = raw_data[features].sum().sort_values(ascending = False)\n",
    "top_features = feature_count[feature_count >= 1000]\n",
    "\n",
    "top_features\n",
    "feature_keep_50 = ['bon appétit', 'peanut free', 'soy free', 'tree nut free', 'vegetarian', 'gourmet',\n",
    "                   'kosher', 'pescatarian', 'quick & easy', 'wheat/gluten-free', 'bake', 'summer',\n",
    "                   'dessert', 'dairy free', 'side', 'no sugar added', 'winter', 'fall', 'dinner',\n",
    "                   'sugar conscious', 'healthy', 'kidney friendly', 'onion', 'tomato', 'vegetable',\n",
    "                   'sauté', 'milk/cream', 'fruit', 'vegan', 'kid-friendly', 'egg', 'spring', 'herb',\n",
    "                   'garlic', 'salad', 'dairy', 'thanksgiving', 'appetizer', 'lunch', 'cheese', \n",
    "                   'chicken', 'roast', 'no-cook', 'soup/stew', 'cocktail party', 'ginger', 'potato', \n",
    "                   'chill', 'lemon', 'grill/barbecue', 'drink', 'sauce', 'low cal', 'christmas', 'high fiber'\n",
    "]\n",
    "feature_keep_30 = feature_keep_50[:30]"
   ]
  },
  {
   "cell_type": "code",
   "execution_count": 107,
   "metadata": {},
   "outputs": [
    {
     "data": {
      "text/plain": [
       "SVR(C=1.0, cache_size=200, coef0=0.0, degree=3, epsilon=0.1, gamma='scale',\n",
       "    kernel='rbf', max_iter=-1, shrinking=True, tol=0.001, verbose=False)"
      ]
     },
     "execution_count": 107,
     "metadata": {},
     "output_type": "execute_result"
    }
   ],
   "source": [
    "# support vector regression for top 50 features\n",
    "from sklearn.svm import SVR\n",
    "svr = SVR()\n",
    "X = raw_data[feature_keep_50].sample(frac=0.3, replace=True, random_state=1)\n",
    "Y = raw_data.rating.sample(frac=0.3, replace=True, random_state=1)\n",
    "svr.fit(X,Y)"
   ]
  },
  {
   "cell_type": "code",
   "execution_count": 108,
   "metadata": {
    "scrolled": false
   },
   "outputs": [
    {
     "data": {
      "text/plain": [
       "0.23184162985945467"
      ]
     },
     "execution_count": 108,
     "metadata": {},
     "output_type": "execute_result"
    }
   ],
   "source": [
    "svr.score(X,Y)"
   ]
  },
  {
   "cell_type": "code",
   "execution_count": 109,
   "metadata": {},
   "outputs": [
    {
     "data": {
      "text/plain": [
       "array([0.09711461, 0.09085684, 0.09553449, 0.07860952, 0.09791605])"
      ]
     },
     "execution_count": 109,
     "metadata": {},
     "output_type": "execute_result"
    }
   ],
   "source": [
    "from sklearn.model_selection import cross_val_score\n",
    "cross_val_score(svr, X, Y, cv=5)"
   ]
  },
  {
   "cell_type": "code",
   "execution_count": 111,
   "metadata": {},
   "outputs": [
    {
     "data": {
      "text/plain": [
       "SVR(C=1.0, cache_size=200, coef0=0.0, degree=3, epsilon=0.1, gamma='scale',\n",
       "    kernel='rbf', max_iter=-1, shrinking=True, tol=0.001, verbose=False)"
      ]
     },
     "execution_count": 111,
     "metadata": {},
     "output_type": "execute_result"
    }
   ],
   "source": [
    "#support vector regression for top 30 features\n",
    "svr = SVR()\n",
    "X = raw_data[feature_keep_30].sample(frac=0.3, replace=True, random_state=1)\n",
    "Y = raw_data.rating.sample(frac=0.3, replace=True, random_state=1)\n",
    "svr.fit(X,Y)"
   ]
  },
  {
   "cell_type": "code",
   "execution_count": 112,
   "metadata": {},
   "outputs": [
    {
     "data": {
      "text/plain": [
       "0.10769037582377661"
      ]
     },
     "execution_count": 112,
     "metadata": {},
     "output_type": "execute_result"
    }
   ],
   "source": [
    "svr.score(X,Y)"
   ]
  },
  {
   "cell_type": "code",
   "execution_count": 113,
   "metadata": {},
   "outputs": [
    {
     "data": {
      "text/plain": [
       "array([0.00393343, 0.02068279, 0.02285987, 0.00924158, 0.01848035])"
      ]
     },
     "execution_count": 113,
     "metadata": {},
     "output_type": "execute_result"
    }
   ],
   "source": [
    "from sklearn.model_selection import cross_val_score\n",
    "cross_val_score(svr, X, Y, cv=5)"
   ]
  },
  {
   "cell_type": "code",
   "execution_count": 164,
   "metadata": {},
   "outputs": [
    {
     "data": {
      "text/html": [
       "<div>\n",
       "<style scoped>\n",
       "    .dataframe tbody tr th:only-of-type {\n",
       "        vertical-align: middle;\n",
       "    }\n",
       "\n",
       "    .dataframe tbody tr th {\n",
       "        vertical-align: top;\n",
       "    }\n",
       "\n",
       "    .dataframe thead th {\n",
       "        text-align: right;\n",
       "    }\n",
       "</style>\n",
       "<table border=\"1\" class=\"dataframe\">\n",
       "  <thead>\n",
       "    <tr style=\"text-align: right;\">\n",
       "      <th></th>\n",
       "      <th>0</th>\n",
       "    </tr>\n",
       "  </thead>\n",
       "  <tbody>\n",
       "    <tr>\n",
       "      <td>0</td>\n",
       "      <td>1</td>\n",
       "    </tr>\n",
       "    <tr>\n",
       "      <td>1</td>\n",
       "      <td>0</td>\n",
       "    </tr>\n",
       "    <tr>\n",
       "      <td>2</td>\n",
       "      <td>1</td>\n",
       "    </tr>\n",
       "    <tr>\n",
       "      <td>3</td>\n",
       "      <td>0</td>\n",
       "    </tr>\n",
       "    <tr>\n",
       "      <td>4</td>\n",
       "      <td>1</td>\n",
       "    </tr>\n",
       "    <tr>\n",
       "      <td>...</td>\n",
       "      <td>...</td>\n",
       "    </tr>\n",
       "    <tr>\n",
       "      <td>20047</td>\n",
       "      <td>1</td>\n",
       "    </tr>\n",
       "    <tr>\n",
       "      <td>20048</td>\n",
       "      <td>0</td>\n",
       "    </tr>\n",
       "    <tr>\n",
       "      <td>20049</td>\n",
       "      <td>0</td>\n",
       "    </tr>\n",
       "    <tr>\n",
       "      <td>20050</td>\n",
       "      <td>0</td>\n",
       "    </tr>\n",
       "    <tr>\n",
       "      <td>20051</td>\n",
       "      <td>0</td>\n",
       "    </tr>\n",
       "  </tbody>\n",
       "</table>\n",
       "<p>20052 rows × 1 columns</p>\n",
       "</div>"
      ],
      "text/plain": [
       "       0\n",
       "0      1\n",
       "1      0\n",
       "2      1\n",
       "3      0\n",
       "4      1\n",
       "...   ..\n",
       "20047  1\n",
       "20048  0\n",
       "20049  0\n",
       "20050  0\n",
       "20051  0\n",
       "\n",
       "[20052 rows x 1 columns]"
      ]
     },
     "execution_count": 164,
     "metadata": {},
     "output_type": "execute_result"
    }
   ],
   "source": [
    "worth = []\n",
    "for x in range (0, len(raw_data)):\n",
    "    if raw_data.rating[x] < 4:\n",
    "        worth.append(1)\n",
    "    else:\n",
    "        worth.append(0)\n",
    "worth = pd.DataFrame(worth)\n",
    "raw_data['worth'] = worth\n"
   ]
  },
  {
   "cell_type": "code",
   "execution_count": 166,
   "metadata": {},
   "outputs": [
    {
     "name": "stderr",
     "output_type": "stream",
     "text": [
      "/usr/local/lib/python3.7/site-packages/ipykernel_launcher.py:6: DeprecationWarning: Non-string object detected for the array ordering. Please pass in 'C', 'F', 'A', or 'K' instead\n",
      "  \n"
     ]
    },
    {
     "data": {
      "text/plain": [
       "SVC(C=1.0, break_ties=False, cache_size=200, class_weight=None, coef0=0.0,\n",
       "    decision_function_shape='ovr', degree=3, gamma='scale', kernel='rbf',\n",
       "    max_iter=-1, probability=False, random_state=None, shrinking=True,\n",
       "    tol=0.001, verbose=False)"
      ]
     },
     "execution_count": 166,
     "metadata": {},
     "output_type": "execute_result"
    }
   ],
   "source": [
    "#SVC for top 50 features\n",
    "from sklearn.svm import SVC\n",
    "\n",
    "svm = SVC()\n",
    "X = raw_data[feature_keep_50].sample(frac=0.3, replace=True, random_state=1)\n",
    "Y = worth.sample(frac=0.3, replace=True, random_state=1)\n",
    "svm.fit(X,Y.values.ravel(()))"
   ]
  },
  {
   "cell_type": "code",
   "execution_count": 167,
   "metadata": {},
   "outputs": [
    {
     "data": {
      "text/plain": [
       "0.727061170212766"
      ]
     },
     "execution_count": 167,
     "metadata": {},
     "output_type": "execute_result"
    }
   ],
   "source": [
    "svm.score(X,Y)"
   ]
  },
  {
   "cell_type": "code",
   "execution_count": 168,
   "metadata": {},
   "outputs": [
    {
     "name": "stderr",
     "output_type": "stream",
     "text": [
      "/usr/local/lib/python3.7/site-packages/sklearn/utils/validation.py:760: DataConversionWarning: A column-vector y was passed when a 1d array was expected. Please change the shape of y to (n_samples, ), for example using ravel().\n",
      "  y = column_or_1d(y, warn=True)\n",
      "/usr/local/lib/python3.7/site-packages/sklearn/utils/validation.py:760: DataConversionWarning: A column-vector y was passed when a 1d array was expected. Please change the shape of y to (n_samples, ), for example using ravel().\n",
      "  y = column_or_1d(y, warn=True)\n",
      "/usr/local/lib/python3.7/site-packages/sklearn/utils/validation.py:760: DataConversionWarning: A column-vector y was passed when a 1d array was expected. Please change the shape of y to (n_samples, ), for example using ravel().\n",
      "  y = column_or_1d(y, warn=True)\n",
      "/usr/local/lib/python3.7/site-packages/sklearn/utils/validation.py:760: DataConversionWarning: A column-vector y was passed when a 1d array was expected. Please change the shape of y to (n_samples, ), for example using ravel().\n",
      "  y = column_or_1d(y, warn=True)\n",
      "/usr/local/lib/python3.7/site-packages/sklearn/utils/validation.py:760: DataConversionWarning: A column-vector y was passed when a 1d array was expected. Please change the shape of y to (n_samples, ), for example using ravel().\n",
      "  y = column_or_1d(y, warn=True)\n"
     ]
    },
    {
     "data": {
      "text/plain": [
       "array([0.589701  , 0.61014131, 0.58935993, 0.5752286 , 0.61346633])"
      ]
     },
     "execution_count": 168,
     "metadata": {},
     "output_type": "execute_result"
    }
   ],
   "source": [
    "cross_val_score(svm, X, Y, cv=5)"
   ]
  },
  {
   "cell_type": "code",
   "execution_count": 169,
   "metadata": {},
   "outputs": [
    {
     "data": {
      "text/html": [
       "<div>\n",
       "<style scoped>\n",
       "    .dataframe tbody tr th:only-of-type {\n",
       "        vertical-align: middle;\n",
       "    }\n",
       "\n",
       "    .dataframe tbody tr th {\n",
       "        vertical-align: top;\n",
       "    }\n",
       "\n",
       "    .dataframe thead th {\n",
       "        text-align: right;\n",
       "    }\n",
       "</style>\n",
       "<table border=\"1\" class=\"dataframe\">\n",
       "  <thead>\n",
       "    <tr style=\"text-align: right;\">\n",
       "      <th></th>\n",
       "      <th>0</th>\n",
       "    </tr>\n",
       "  </thead>\n",
       "  <tbody>\n",
       "    <tr>\n",
       "      <td>235</td>\n",
       "      <td>1</td>\n",
       "    </tr>\n",
       "    <tr>\n",
       "      <td>12172</td>\n",
       "      <td>1</td>\n",
       "    </tr>\n",
       "    <tr>\n",
       "      <td>5192</td>\n",
       "      <td>0</td>\n",
       "    </tr>\n",
       "    <tr>\n",
       "      <td>17289</td>\n",
       "      <td>0</td>\n",
       "    </tr>\n",
       "    <tr>\n",
       "      <td>10955</td>\n",
       "      <td>0</td>\n",
       "    </tr>\n",
       "    <tr>\n",
       "      <td>...</td>\n",
       "      <td>...</td>\n",
       "    </tr>\n",
       "    <tr>\n",
       "      <td>15578</td>\n",
       "      <td>1</td>\n",
       "    </tr>\n",
       "    <tr>\n",
       "      <td>3314</td>\n",
       "      <td>1</td>\n",
       "    </tr>\n",
       "    <tr>\n",
       "      <td>17437</td>\n",
       "      <td>1</td>\n",
       "    </tr>\n",
       "    <tr>\n",
       "      <td>6696</td>\n",
       "      <td>0</td>\n",
       "    </tr>\n",
       "    <tr>\n",
       "      <td>13130</td>\n",
       "      <td>1</td>\n",
       "    </tr>\n",
       "  </tbody>\n",
       "</table>\n",
       "<p>6016 rows × 1 columns</p>\n",
       "</div>"
      ],
      "text/plain": [
       "       0\n",
       "235    1\n",
       "12172  1\n",
       "5192   0\n",
       "17289  0\n",
       "10955  0\n",
       "...   ..\n",
       "15578  1\n",
       "3314   1\n",
       "17437  1\n",
       "6696   0\n",
       "13130  1\n",
       "\n",
       "[6016 rows x 1 columns]"
      ]
     },
     "execution_count": 169,
     "metadata": {},
     "output_type": "execute_result"
    }
   ],
   "source": []
  },
  {
   "cell_type": "code",
   "execution_count": 170,
   "metadata": {},
   "outputs": [
    {
     "name": "stderr",
     "output_type": "stream",
     "text": [
      "/usr/local/lib/python3.7/site-packages/ipykernel_launcher.py:5: DeprecationWarning: Non-string object detected for the array ordering. Please pass in 'C', 'F', 'A', or 'K' instead\n",
      "  \"\"\"\n"
     ]
    },
    {
     "data": {
      "text/plain": [
       "SVC(C=1.0, break_ties=False, cache_size=200, class_weight=None, coef0=0.0,\n",
       "    decision_function_shape='ovr', degree=3, gamma='scale', kernel='rbf',\n",
       "    max_iter=-1, probability=False, random_state=None, shrinking=True,\n",
       "    tol=0.001, verbose=False)"
      ]
     },
     "execution_count": 170,
     "metadata": {},
     "output_type": "execute_result"
    }
   ],
   "source": [
    "#SVC for top 30 features\n",
    "svm = SVC()\n",
    "X = raw_data[feature_keep_30].sample(frac=0.3, replace=True, random_state=1)\n",
    "Y = worth.sample(frac=0.3, replace=True, random_state=1)\n",
    "svm.fit(X,Y.values.ravel(()))"
   ]
  },
  {
   "cell_type": "code",
   "execution_count": 171,
   "metadata": {},
   "outputs": [
    {
     "data": {
      "text/plain": [
       "0.668218085106383"
      ]
     },
     "execution_count": 171,
     "metadata": {},
     "output_type": "execute_result"
    }
   ],
   "source": [
    "svm.score(X,Y)"
   ]
  },
  {
   "cell_type": "code",
   "execution_count": 172,
   "metadata": {},
   "outputs": [
    {
     "name": "stderr",
     "output_type": "stream",
     "text": [
      "/usr/local/lib/python3.7/site-packages/sklearn/utils/validation.py:760: DataConversionWarning: A column-vector y was passed when a 1d array was expected. Please change the shape of y to (n_samples, ), for example using ravel().\n",
      "  y = column_or_1d(y, warn=True)\n",
      "/usr/local/lib/python3.7/site-packages/sklearn/utils/validation.py:760: DataConversionWarning: A column-vector y was passed when a 1d array was expected. Please change the shape of y to (n_samples, ), for example using ravel().\n",
      "  y = column_or_1d(y, warn=True)\n",
      "/usr/local/lib/python3.7/site-packages/sklearn/utils/validation.py:760: DataConversionWarning: A column-vector y was passed when a 1d array was expected. Please change the shape of y to (n_samples, ), for example using ravel().\n",
      "  y = column_or_1d(y, warn=True)\n",
      "/usr/local/lib/python3.7/site-packages/sklearn/utils/validation.py:760: DataConversionWarning: A column-vector y was passed when a 1d array was expected. Please change the shape of y to (n_samples, ), for example using ravel().\n",
      "  y = column_or_1d(y, warn=True)\n",
      "/usr/local/lib/python3.7/site-packages/sklearn/utils/validation.py:760: DataConversionWarning: A column-vector y was passed when a 1d array was expected. Please change the shape of y to (n_samples, ), for example using ravel().\n",
      "  y = column_or_1d(y, warn=True)\n"
     ]
    },
    {
     "data": {
      "text/plain": [
       "array([0.58139535, 0.58104738, 0.57273483, 0.58686617, 0.57107232])"
      ]
     },
     "execution_count": 172,
     "metadata": {},
     "output_type": "execute_result"
    }
   ],
   "source": [
    "cross_val_score(svm, X, Y, cv=5)"
   ]
  },
  {
   "cell_type": "code",
   "execution_count": null,
   "metadata": {},
   "outputs": [],
   "source": []
  }
 ],
 "metadata": {
  "kernelspec": {
   "display_name": "Python 3",
   "language": "python",
   "name": "python3"
  },
  "language_info": {
   "codemirror_mode": {
    "name": "ipython",
    "version": 3
   },
   "file_extension": ".py",
   "mimetype": "text/x-python",
   "name": "python",
   "nbconvert_exporter": "python",
   "pygments_lexer": "ipython3",
   "version": "3.7.6"
  }
 },
 "nbformat": 4,
 "nbformat_minor": 2
}
